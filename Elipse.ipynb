{
 "cells": [
  {
   "cell_type": "markdown",
   "id": "24da329b-2e05-429d-a4db-a31d22dae729",
   "metadata": {
    "editable": true,
    "id": "MBIG8GoRaInL",
    "tags": []
   },
   "source": [
    "# Cinemática de un Movimiento Curvilíneo: Aceración normal y tangente"
   ]
  },
  {
   "cell_type": "markdown",
   "id": "18025bab-7042-4f96-b87c-35f915f14cc1",
   "metadata": {
    "editable": true,
    "slideshow": {
     "slide_type": "slide"
    },
    "tags": []
   },
   "source": [
    "## Ejemplo 2\n",
    "\n",
    "Un automóvil viaja a velocidad constante de 240 km/h en la pista descrita por la elipse en la imagen. Encuentre la aceleración experimentada por el vehículo en el punto B. Haga lo mismo para el punto A. ¿Cómo se compara la aceleración en ambos casos?  \n",
    "\n",
    "<div style=\"text-align: center\">\n",
    "<!-- https://drive.google.com/uc?id=19xRm_SiE_ErY32WvM2NCt15mWwUImVmT -->\n",
    "<img src = \"https://external-content.duckduckgo.com/iu/?u=http%3A%2F%2Fdrive.google.com/uc?id=19xRm_SiE_ErY32WvM2NCt15mWwUImVmT\" alt=\"Ejercicio 1\" width=1000>\n",
    "</div>\n"
   ]
  },
  {
   "cell_type": "code",
   "execution_count": 1,
   "id": "efd4772f-9d28-4586-b30e-4e955bd0a39e",
   "metadata": {
    "cellView": "form",
    "editable": true,
    "executionInfo": {
     "elapsed": 206366,
     "status": "ok",
     "timestamp": 1759989630042,
     "user": {
      "displayName": "José Roberto Zavala",
      "userId": "08088277659897740611"
     },
     "user_tz": 360
    },
    "id": "ljkw7kWBTVLX",
    "jupyter": {
     "source_hidden": true
    },
    "slideshow": {
     "slide_type": "skip"
    },
    "tags": []
   },
   "outputs": [],
   "source": [
    "%%capture\n",
    "# @title Latex para Google colab\n",
    "\n",
    "\n",
    "# !apt-get update\n",
    "# !apt-get install -y texlive-latex-base texlive-fonts-recommended texlive-fonts-extra dvipng cm-super\n",
    "# !apt-get install -y texlive-latex-extra dvipng cm-super\n",
    "\n"
   ]
  },
  {
   "cell_type": "code",
   "execution_count": 2,
   "id": "eeaaff1b-cd97-4c4e-a8e7-541a2c63f4b5",
   "metadata": {
    "cellView": "form",
    "editable": true,
    "executionInfo": {
     "elapsed": 16,
     "status": "ok",
     "timestamp": 1759989630074,
     "user": {
      "displayName": "José Roberto Zavala",
      "userId": "08088277659897740611"
     },
     "user_tz": 360
    },
    "id": "rICgw0ucWLxm",
    "jupyter": {
     "source_hidden": true
    },
    "slideshow": {
     "slide_type": "skip"
    },
    "tags": []
   },
   "outputs": [],
   "source": [
    "# @title Drive para Google Colab\n",
    "\n",
    "# import sys\n",
    "# from google.colab import drive\n",
    "# drive.mount('/content/drive')\n",
    "\n",
    "# # Agregar la carpeta donde está helpers.py\n",
    "# sys.path.append('/content/drive/MyDrive/ColabNotebooks/Unitec/Dinámica/'"
   ]
  },
  {
   "cell_type": "code",
   "execution_count": 3,
   "id": "c9e62634-c9f6-47e4-b769-5565c6a7a83a",
   "metadata": {
    "cellView": "form",
    "editable": true,
    "executionInfo": {
     "elapsed": 5,
     "status": "ok",
     "timestamp": 1759989630090,
     "user": {
      "displayName": "José Roberto Zavala",
      "userId": "08088277659897740611"
     },
     "user_tz": 360
    },
    "id": "bamMvEI2rBDx",
    "slideshow": {
     "slide_type": "skip"
    },
    "tags": []
   },
   "outputs": [],
   "source": [
    "%%capture\n",
    "# @title Dependencias Python\n",
    "\n",
    "import matplotlib.pyplot as plt\n",
    "import matplotlib\n",
    "import sympy as sp\n",
    "import sys\n",
    "import importlib\n",
    "from IPython.display import Latex, clear_output\n",
    "import numpy as np\n",
    "from scipy.optimize import bisect\n",
    "import ipywidgets as widgets\n",
    "\n",
    "# %matplotlib inline\n",
    "%matplotlib ipympl\n",
    "\n",
    "\n",
    "# Agregar la carpeta donde está helpers.py\n",
    "sys.path.append('/content/drive/MyDrive/Colab Notebooks/Unitec/Dinámica/')\n",
    "\n",
    "import helpers as hl\n",
    "importlib.reload(hl)\n",
    "\n",
    "# hl.reset_equations()\n",
    "\n",
    "sp.init_printing()"
   ]
  },
  {
   "cell_type": "code",
   "execution_count": 4,
   "id": "12356f72-8baa-4ece-9e50-473867066cf8",
   "metadata": {
    "editable": true,
    "slideshow": {
     "slide_type": ""
    },
    "tags": []
   },
   "outputs": [],
   "source": [
    "%%capture\n",
    "v = 240 * (1000) * (1/3600)\n",
    "t, xi, theta = sp.symbols(r't \\xi \\theta', real=True)\n",
    "s_t = sp.integrate(v, t)\n",
    "s_t, v"
   ]
  },
  {
   "cell_type": "code",
   "execution_count": 5,
   "id": "4b16384d-5be5-4493-aa1d-af16ae3d03a0",
   "metadata": {
    "editable": true,
    "slideshow": {
     "slide_type": ""
    },
    "tags": []
   },
   "outputs": [],
   "source": [
    "v_t_lamb = hl.Lamb(v, t)"
   ]
  },
  {
   "cell_type": "code",
   "execution_count": 6,
   "id": "5f70bb17-372f-4085-a5db-f075239d9f18",
   "metadata": {
    "editable": true,
    "slideshow": {
     "slide_type": ""
    },
    "tags": []
   },
   "outputs": [],
   "source": [
    "%%capture\n",
    "a = 4000\n",
    "b = 2000\n",
    "e = sp.sqrt(1-((b/a)**2))\n",
    "m = 1 - (a**2/b**2)\n",
    "e**2, m"
   ]
  },
  {
   "cell_type": "code",
   "execution_count": 7,
   "id": "85dd4110-a91d-4e5f-bda3-3cc10a936a78",
   "metadata": {
    "editable": true,
    "slideshow": {
     "slide_type": ""
    },
    "tags": []
   },
   "outputs": [],
   "source": [
    "%%capture\n",
    "L = 4*b*sp.elliptic_e(m)\n",
    "L/v"
   ]
  },
  {
   "cell_type": "code",
   "execution_count": 8,
   "id": "4d9574db-bdf1-4646-b6d7-f317b5ca34f2",
   "metadata": {
    "editable": true,
    "slideshow": {
     "slide_type": ""
    },
    "tags": []
   },
   "outputs": [],
   "source": [
    "%%capture\n",
    "x_xi = a*sp.cos(xi)\n",
    "y_xi = b*sp.sin(xi)\n",
    "x_xi, y_xi"
   ]
  },
  {
   "cell_type": "code",
   "execution_count": 9,
   "id": "e598ea04-ceb2-413c-9434-7ac7baa0d99c",
   "metadata": {
    "editable": true,
    "slideshow": {
     "slide_type": ""
    },
    "tags": []
   },
   "outputs": [],
   "source": [
    "%%capture\n",
    "Eq_theta_phi = sp.trigsimp(sp.Eq(sp.tan(theta), y_xi/x_xi))\n",
    "Eq_theta_phi"
   ]
  },
  {
   "cell_type": "code",
   "execution_count": 10,
   "id": "0894a32a-066b-4da5-a3ee-d429e24d574b",
   "metadata": {
    "editable": true,
    "slideshow": {
     "slide_type": ""
    },
    "tags": []
   },
   "outputs": [],
   "source": [
    "%%capture\n",
    "xi_theta = sp.solve(Eq_theta_phi, xi)[0]\n",
    "xi_theta"
   ]
  },
  {
   "cell_type": "code",
   "execution_count": 11,
   "id": "f60b79ec-bfb3-460e-bed1-6c828bc12334",
   "metadata": {
    "editable": true,
    "slideshow": {
     "slide_type": ""
    },
    "tags": []
   },
   "outputs": [],
   "source": [
    "%%capture\n",
    "xi_theta_mon = sp.Piecewise(\n",
    "  (sp.atan((a/b)*sp.tan(theta)), sp.And(theta >= -sp.pi/2, theta < sp.pi/2)),\n",
    "  (sp.atan((a/b)*sp.tan(theta)) + sp.pi, sp.And(theta >= sp.pi/2, theta < 3*sp.pi/2)),\n",
    "  (sp.atan((a/b)*sp.tan(theta)) + 2*sp.pi, True)\n",
    ")\n",
    "sp.plot(xi_theta_mon, (theta, 0, 2*sp.pi))\n",
    "xi_theta_mon"
   ]
  },
  {
   "cell_type": "code",
   "execution_count": 12,
   "id": "257c1ea1-86d1-4e9e-8b57-0fa316af5677",
   "metadata": {
    "editable": true,
    "slideshow": {
     "slide_type": ""
    },
    "tags": []
   },
   "outputs": [],
   "source": [
    "%%capture\n",
    "s_theta = b*sp.elliptic_e(xi_theta_mon, m)\n",
    "s_theta"
   ]
  },
  {
   "cell_type": "code",
   "execution_count": 13,
   "id": "d11fed03-d97a-43a2-89be-5538f5fc4c21",
   "metadata": {
    "editable": true,
    "slideshow": {
     "slide_type": ""
    },
    "tags": []
   },
   "outputs": [],
   "source": [
    "%%capture\n",
    "Eq_st_stheta = sp.Eq(s_t, s_theta)\n",
    "Eq_st_stheta"
   ]
  },
  {
   "cell_type": "code",
   "execution_count": 14,
   "id": "7268726a-a060-4198-be57-a616bf4bcd4d",
   "metadata": {
    "editable": true,
    "slideshow": {
     "slide_type": ""
    },
    "tags": []
   },
   "outputs": [],
   "source": [
    "%%capture\n",
    "s_theta_func = sp.symbols('s_theta', cls = sp.Function)\n",
    "s_theta_func = s_theta_func(theta)\n",
    "Eq_st_sthetafunc = sp.Eq(s_t, s_theta_func)\n",
    "time_theta = sp.solve(Eq_st_sthetafunc, t)[0].subs([(s_theta_func, s_theta)])\n",
    "time_theta_lamb = lambda th: float(sp.lambdify(theta, time_theta, modules=[\"mpmath\", \"numpy\"])(th))\n",
    "time_theta"
   ]
  },
  {
   "cell_type": "code",
   "execution_count": 15,
   "id": "07b9152a-5900-40f9-859e-106ff781305d",
   "metadata": {
    "editable": true,
    "slideshow": {
     "slide_type": ""
    },
    "tags": []
   },
   "outputs": [],
   "source": [
    "def theta_t(time):\n",
    "  return float(sp.nsolve(Eq_st_stheta.subs([(t, time)]), 0.5))"
   ]
  },
  {
   "cell_type": "code",
   "execution_count": 16,
   "id": "c41a4d39-ab58-426e-97a0-7a962f790ca8",
   "metadata": {
    "editable": true,
    "slideshow": {
     "slide_type": ""
    },
    "tags": []
   },
   "outputs": [],
   "source": [
    "# invertir time_theta numéricamente, para obtener theta en términos del tiempo:\n",
    "theta_vals = np.linspace(-(1/4)*np.pi, 2*np.pi, 5000)\n",
    "t_vals = [time_theta_lamb(th) for th in theta_vals]\n",
    "\n",
    "theta_t_numeric = lambda time: np.interp(time, t_vals, theta_vals)"
   ]
  },
  {
   "cell_type": "code",
   "execution_count": 17,
   "id": "0a2bc4d7-88fb-4f78-9168-e131273a8bd1",
   "metadata": {
    "editable": true,
    "slideshow": {
     "slide_type": ""
    },
    "tags": []
   },
   "outputs": [],
   "source": [
    "%%capture\n",
    "x_theta = x_xi.subs([(xi, xi_theta_mon)])#*sp.sign(sp.cos(theta))\n",
    "y_theta = y_xi.subs([(xi, xi_theta_mon)])#*sp.sign(sp.cos(theta))\n",
    "\n",
    "sp.plot(x_theta, (theta, 0, 2*sp.pi))\n",
    "sp.plot(y_theta, (theta, 0, 2*sp.pi))\n",
    "x_theta, y_theta"
   ]
  },
  {
   "cell_type": "code",
   "execution_count": 18,
   "id": "463f94ed-bfa5-4875-96d8-2e2affcfcec7",
   "metadata": {
    "editable": true,
    "slideshow": {
     "slide_type": ""
    },
    "tags": []
   },
   "outputs": [],
   "source": [
    "x_theta_lamb = hl.Lamb(x_theta, theta)\n",
    "def x_theta_f(theta):\n",
    "  return x_theta_lamb(theta)\n",
    "\n",
    "y_theta_lamb = hl.Lamb(y_theta, theta)\n",
    "def y_theta_f(theta):\n",
    "  return y_theta_lamb(theta)"
   ]
  },
  {
   "cell_type": "code",
   "execution_count": 19,
   "id": "1c7b63bf-a402-479c-add8-aac86d527e46",
   "metadata": {
    "editable": true,
    "slideshow": {
     "slide_type": ""
    },
    "tags": []
   },
   "outputs": [],
   "source": [
    "dydxi_xi = sp.diff(y_xi,xi)\n",
    "dxdxi_xi = sp.diff(x_xi,xi)\n",
    "dxidx_xi = 1/dxdxi_xi\n",
    "dydx_xi = sp.trigsimp(dydxi_xi*dxidx_xi)#.subs([(xi, xi_theta_mon)])\n",
    "dydx2_xi = sp.trigsimp(dxidx_xi*sp.diff(dydx_xi, xi))\n",
    "\n",
    "# dydxi_xi, dxidx_xi, dydx_xi,dydx2_xi\n",
    "\n",
    "dydx_theta = sp.trigsimp(dydx_xi.subs([(xi, xi_theta_mon)]))\n",
    "dydx2_theta = sp.trigsimp(dydx2_xi.subs([(xi, xi_theta_mon)]))#*sp.sign(sp.cos(theta))\n",
    "\n",
    "dydx_theta_lamb = hl.Lamb(dydx_theta, theta)\n",
    "dydx2_theta_lamb = hl.Lamb(dydx2_theta, theta)\n",
    "\n"
   ]
  },
  {
   "cell_type": "code",
   "execution_count": 20,
   "id": "c6b2a6f4-8544-4638-816e-c32f721f164f",
   "metadata": {
    "editable": true,
    "slideshow": {
     "slide_type": ""
    },
    "tags": []
   },
   "outputs": [],
   "source": [
    "dydx_theta_lamb = hl.Lamb(dydx_theta, theta)\n",
    "dydx_t = lambda time: dydx_theta_lamb(theta_t(time))"
   ]
  },
  {
   "cell_type": "code",
   "execution_count": 21,
   "id": "285f4cde-139d-418b-aa90-a6aeeee904ef",
   "metadata": {
    "editable": true,
    "slideshow": {
     "slide_type": ""
    },
    "tags": []
   },
   "outputs": [],
   "source": [
    "%%capture\n",
    "sp.plot(dydx_theta, (theta, 0.5*sp.pi - 1.5, 0.5*sp.pi + 1.5));#, ylim = (-.00015, .000))"
   ]
  },
  {
   "cell_type": "code",
   "execution_count": 22,
   "id": "b99e976b-17e6-480d-b41b-74f23d5ca95b",
   "metadata": {
    "editable": true,
    "slideshow": {
     "slide_type": ""
    },
    "tags": []
   },
   "outputs": [],
   "source": [
    "%%capture\n",
    "eps = 0.000001\n",
    "sp.plot(dydx2_theta, (theta, 0.5*sp.pi - 0.75, 0.5*sp.pi + 0.75), ylim = (-.00025, .000))\n",
    "sp.limit(dydx2_theta, theta, 0.5*sp.pi, dir='+-').evalf()"
   ]
  },
  {
   "cell_type": "code",
   "execution_count": 23,
   "id": "4a72982c-2b97-42b2-ba1d-67772b24212d",
   "metadata": {
    "editable": true,
    "slideshow": {
     "slide_type": ""
    },
    "tags": []
   },
   "outputs": [],
   "source": [
    "%%capture\n",
    "dydx2_theta, sp.limit(dydx2_theta, theta, .5*sp.pi, dir='+').evalf(), dydx2_theta.subs([(theta, .5*sp.pi)]).evalf()\n",
    "# dydx2_theta"
   ]
  },
  {
   "cell_type": "code",
   "execution_count": 24,
   "id": "29437605-f724-46c4-baf2-e74ffa16f1e6",
   "metadata": {
    "editable": true,
    "slideshow": {
     "slide_type": ""
    },
    "tags": []
   },
   "outputs": [],
   "source": [
    "def sign_dxdt(time, eps_t = 0.001):\n",
    "  t1 = time\n",
    "  t2 = time + eps_t\n",
    "  return np.sign(x_t(t2) - x_t(t1))\n",
    "\n",
    "def concavity_t(time):\n",
    "  return np.sign(dydx2_theta_lamb(theta_t(time)))"
   ]
  },
  {
   "cell_type": "code",
   "execution_count": 25,
   "id": "68d1d3c3-c3c5-4c3d-843d-12ac6e38b789",
   "metadata": {
    "editable": true,
    "slideshow": {
     "slide_type": ""
    },
    "tags": []
   },
   "outputs": [],
   "source": [
    "# def sign_dxdt(time, eps_t = 0.001):\n",
    "#   t1 = time\n",
    "#   t2 = time + eps_t\n",
    "#   return np.sign(x_t(t2) - x_t(t1))\n",
    "\n",
    "# def concavity_t(time):\n",
    "#   return np.sign(dydx2_theta_lamb(theta_t(time)))\n",
    "\n",
    "\n",
    "def sign_dxdt_theta(theta, eps_t = 0.001):\n",
    "  time1 = time_theta_lamb(theta)\n",
    "  theta1 = theta\n",
    "\n",
    "  time2 = time1 + eps_t\n",
    "  theta2 = theta_t_numeric(time2)\n",
    "  return np.sign(x_theta_lamb(theta2) - x_theta_lamb(theta1))\n",
    "\n",
    "\n",
    "def concavity_theta(theta):\n",
    "  return np.sign(dydx2_theta_lamb(theta))\n",
    "  "
   ]
  },
  {
   "cell_type": "code",
   "execution_count": 26,
   "id": "36276ad6-6daf-42e3-8d15-ad5b29d4e2bf",
   "metadata": {
    "editable": true,
    "slideshow": {
     "slide_type": ""
    },
    "tags": []
   },
   "outputs": [],
   "source": [
    "%%capture\n",
    "dydxi2_xi = sp.diff(dydxi_xi, xi)\n",
    "dxdxi2_xi = sp.diff(dxdxi_xi, xi)\n",
    "rho_xi = sp.trigsimp((((dxdxi_xi**2) + (dydxi_xi**2))**(3/2))/\n",
    "                     (sp.Abs((dydxi2_xi*dxdxi_xi) - (dxdxi2_xi*dydxi_xi))))\n",
    "rho_theta = sp.trigsimp(rho_xi.subs([(xi, xi_theta_mon)]))\n",
    "rho_theta"
   ]
  },
  {
   "cell_type": "code",
   "execution_count": 27,
   "id": "54586da1-b92f-499c-92f5-766028f35be3",
   "metadata": {
    "editable": true,
    "slideshow": {
     "slide_type": ""
    },
    "tags": []
   },
   "outputs": [],
   "source": [
    "rho_theta_lamb = hl.Lamb(rho_theta, theta)\n",
    "def rho_theta_f(theta):\n",
    "  return rho_theta_lamb(theta)"
   ]
  },
  {
   "cell_type": "code",
   "execution_count": 28,
   "id": "5bd9a579-df41-48a9-a048-e31d9bb8e200",
   "metadata": {
    "editable": true,
    "slideshow": {
     "slide_type": ""
    },
    "tags": []
   },
   "outputs": [],
   "source": [
    "a_t = sp.diff(v, t)\n",
    "a_t_t_lamb = hl.Lamb(a_t, t)"
   ]
  },
  {
   "cell_type": "code",
   "execution_count": 29,
   "id": "65847dde-144e-4bb1-9367-91132225ef8b",
   "metadata": {
    "editable": true,
    "slideshow": {
     "slide_type": ""
    },
    "tags": []
   },
   "outputs": [],
   "source": [
    "v_theta_lamb = hl.Lamb(v, theta)\n",
    "a_t_theta_lamb = hl.Lamb(a_t, theta)"
   ]
  },
  {
   "cell_type": "code",
   "execution_count": 30,
   "id": "b212aa5e-77d3-42d4-9cd7-c8913da5987f",
   "metadata": {
    "editable": true,
    "slideshow": {
     "slide_type": ""
    },
    "tags": []
   },
   "outputs": [],
   "source": [
    "def u_vecs_theta(theta):\n",
    "  dy = dydx_theta_lamb(theta)\n",
    "  sign_dx = sign_dxdt_theta(theta)\n",
    "  conc = concavity_theta(theta)\n",
    "  u_t = sign_dx*(1/np.sqrt(1+(dy**2)))*np.array([1, dy])\n",
    "  u_n = (sign_dx*conc)*np.array([-u_t[1], u_t[0]])\n",
    "  return u_t, u_n\n",
    "  \n",
    "def u_t_theta(theta):\n",
    "  dy = dydx_theta_lamb(theta)\n",
    "  return sign_dxdt_theta(theta)*(1/np.sqrt(1+(dy**2)))*np.array([1, dy])\n",
    "\n",
    "def u_n_theta(theta):\n",
    "  ut = u_t_theta(theta)\n",
    "  return (sign_dxdt_theta(theta)*concavity_theta(theta))*np.array([-ut[1], ut[0]])\n",
    "\n",
    "\n",
    "\n",
    "def v_theta(theta):\n",
    "  return v_theta_lamb(theta)\n",
    "\n",
    "def a_t_theta(theta):\n",
    "  return a_t_theta_lamb(theta)\n",
    "\n",
    "def a_n_theta(theta):\n",
    "  rho = rho_theta_f(theta)\n",
    "  return v_theta(theta)**2/rho, rho\n",
    "\n",
    "\n",
    "def rvec_t(theta):\n",
    "  xt = x_theta_f(theta)\n",
    "  yt = y_theta_f(theta)\n",
    "  return np.array([xt, yt])\n",
    "\n",
    "def vvec_t(theta):\n",
    "  return v_theta(theta)*u_vecs_theta(theta)[0]\n",
    "\n",
    "def avec_t(theta):\n",
    "  ut, un = u_vecs_theta(theta)\n",
    "  at = a_t_theta(theta)\n",
    "  an, rho = a_n_theta(theta)\n",
    "  return at*ut + an*un, at*ut, an*un, un, rho\n",
    "\n",
    "# def at_vec_t(theta):\n",
    "#   return a_t_theta(theta)*u_t_theta(theta)\n",
    "\n",
    "# def an_vec_t(theta):\n",
    "#   return a_n_theta(theta)*u_n_theta(theta)"
   ]
  },
  {
   "cell_type": "code",
   "execution_count": 142,
   "id": "ec85c432-a149-4820-b5ce-46e257fccca9",
   "metadata": {
    "editable": true,
    "slideshow": {
     "slide_type": ""
    },
    "tags": []
   },
   "outputs": [],
   "source": [
    "# @title Elegir tema para gráficas\n",
    "\n",
    "''' Elegir entre:\n",
    "tema = 'blanco'\n",
    "tema = 'cobalto'\n",
    "tema = 'catpuccin latte'\n",
    "'''\n",
    "\n",
    "tema = 'catpuccin latte'"
   ]
  },
  {
   "cell_type": "code",
   "execution_count": 143,
   "id": "cbad3743-0bc5-4441-850f-8e63db20ba9e",
   "metadata": {
    "editable": true,
    "jupyter": {
     "source_hidden": true
    },
    "slideshow": {
     "slide_type": ""
    },
    "tags": []
   },
   "outputs": [],
   "source": [
    "hl.aplicar_tema(tema)"
   ]
  },
  {
   "cell_type": "code",
   "execution_count": 144,
   "id": "99a73217-ab84-4e4e-ad9f-a56e47d13a67",
   "metadata": {
    "cellView": "form",
    "editable": true,
    "id": "XO35jNs5gbep",
    "jupyter": {
     "source_hidden": true
    },
    "slideshow": {
     "slide_type": ""
    },
    "tags": []
   },
   "outputs": [],
   "source": [
    "%%capture\n",
    "# @title Parámetros de gráfica\n",
    "\n",
    "ax_bound = [-4100, 4100, -2100, 2100]\n",
    "ax_ratio = 1 # graphic ratio of y to x units\n",
    "ax_zoom_bound = [0.5, 0.1, .4, .4]\n",
    "scale_zoom = 3\n",
    "scale_v = 10\n",
    "scale_a = 500\n",
    "zoom_scale_v = 0.5\n",
    "zoom_scale_a = 0.5\n",
    "\n",
    "ver_pad = 1.25\n",
    "hor_pad = 1.\n",
    "ax_aspect = ((ax_bound[3] - ax_bound[2])*ver_pad)/((ax_bound[1] - ax_bound[0])*hor_pad)\n",
    "fig_width = 12 # inches\n",
    "fig_height = fig_width * ax_aspect\n",
    "dpi = 100\n",
    "\n",
    "\n",
    "# Crear gráfica\n",
    "fig, ax = plt.subplots(1, 1, figsize=(fig_width, fig_height), dpi = dpi)\n",
    "fig.canvas.toolbar_visible = False\n",
    "fig.canvas.header_visible = False\n",
    "fig.canvas.footer_visible = False\n",
    "fig.canvas.resizable = False\n",
    "\n",
    "\n",
    "ax.set_aspect(\"equal\", adjustable='datalim')\n",
    "\n",
    "ax.set_xlabel(r'$x\\, \\mathrm{[\\,m\\,]}$')\n",
    "ax.set_ylabel(r'$y\\, \\mathrm{[\\,m\\,]}$')\n",
    "ax.axhline(y = 0, color = plt.rcParams['grid.color'], linestyle = '-', lw = 1.5)\n",
    "ax.axvline(x = 0, color = plt.rcParams['grid.color'], linestyle = '-', lw = 1.5)\n",
    "\n",
    "\n",
    "ax.set_aspect(ax_ratio, adjustable='box')\n",
    "ax.axis(ax_bound)\n",
    "ax.grid(True)\n",
    "\n",
    "legend_params = dict(loc = 'lower left', bbox_to_anchor = (.0, 1.0, 1.0, 0.1), ncol = 5)"
   ]
  },
  {
   "cell_type": "code",
   "execution_count": 145,
   "id": "561c562d-7305-4eb1-a871-1cafc3a35f5d",
   "metadata": {
    "cellView": "form",
    "editable": true,
    "id": "D11LCfQLGPZH",
    "jupyter": {
     "source_hidden": true
    },
    "slideshow": {
     "slide_type": ""
    },
    "tags": []
   },
   "outputs": [],
   "source": [
    "%%capture\n",
    "# @title Gráficas Interactivas\n",
    "\n",
    "t0 = 5\n",
    "\n",
    "theta_range = np.arange(0, 2*np.pi, 0.01)\n",
    "\n",
    "\n",
    "x_path = x_theta_lamb(theta_range)\n",
    "y_path = y_theta_lamb(theta_range)\n",
    "\n",
    "\n",
    "\n",
    "\n",
    "particle_path = ax.plot(x_path, y_path, 'C0',lw = 2)\n",
    "\n",
    "\n",
    "\n",
    "\n",
    "r_0 = rvec_t(t0)\n",
    "r_label = r'$\\displaystyle \\boldsymbol{{\\vec{{r}}}} = \\left[\\begin{{array}} {{c}} {:.2f} \\, \\mathrm{{m}} \\\\ {:.2f} \\, \\mathrm{{m}} \\end{{array}}\\right] = {:.2f} \\, \\mathrm{{m}}$'.format(*r_0, np.linalg.norm(r_0))\n",
    "rV = hl.FancyVector2D(ax, 0, 0, *r_0, color='C1', label=r_label)\n",
    "\n",
    "\n",
    "\n",
    "v_0 = vvec_t(t0)\n",
    "v_label = r'$\\displaystyle \\boldsymbol{{\\vec{{v}}}} = \\left[\\begin{{array}} {{c}} {:.2f} \\, \\mathrm{{m/s}} \\\\ {:.2f} \\, \\mathrm{{m/s}} \\end{{array}}\\right] = {:.2f} \\, \\mathrm{{m/s}}$'.format(*v_0, np.linalg.norm(v_0))\n",
    "vV = hl.FancyVector2D(ax, x1 = v_0[0]*scale_v, y1 = v_0[1]*scale_v, color='C2', previous = rV, label=v_label)\n",
    "\n",
    "\n",
    "\n",
    "\n",
    "a_0, at_0, an_0, un_0, rho_0 = avec_t(t0)\n",
    "# at_0 = at_vec_t(t0)\n",
    "# an_0 = an_vec_t(t0)\n",
    "\n",
    "a_label = r'$\\displaystyle ||\\boldsymbol{{\\vec{{a}}}}|| = {:.2f} \\, \\mathrm{{m/s^2}} $'.format(np.linalg.norm(a_0))\n",
    "a_t_label = r'$\\displaystyle \\boldsymbol{{a_t}} = {:.2f} \\, \\mathrm{{m/s^2}} $'.format(np.linalg.norm(at_0))\n",
    "a_n_label = r'$\\displaystyle \\boldsymbol{{a_n}} = {:.2f} \\, \\mathrm{{m/s^2}} $'.format(np.linalg.norm(an_0))\n",
    "\n",
    "a_tV = hl.FancyVector2D(ax, x1 = at_0[0]*scale_a, y1 = at_0[1]*scale_a, color='C4', linewidth = 1.5, head_length = 15, head_width = 10, head_tail = 3, previous = rV, label= a_t_label)\n",
    "a_nV = hl.FancyVector2D(ax, x1 = an_0[0]*scale_a, y1 = an_0[1]*scale_a, color='C5', linewidth = 1.5, head_length = 15, head_width = 10, head_tail = 3, previous = a_tV, label = a_n_label)\n",
    "aV = hl.FancyVector2D(ax, x1 = a_0[0]*scale_a, y1 = a_0[1]*scale_a, color='C3', previous = rV, label= a_label)\n",
    "\n",
    "osc_circle = hl.OsculatingCircle2D(ax, *r_0, un_0, rho_0)\n",
    "\n",
    "leg = ax.legend(**legend_params)\n",
    "leg_handles, leg_labels = ax.get_legend_handles_labels()\n",
    "\n",
    "\n",
    "\n"
   ]
  },
  {
   "cell_type": "code",
   "execution_count": 146,
   "id": "8b4343b1-23dc-490e-bb35-a5929ae2feca",
   "metadata": {
    "cellView": "form",
    "editable": true,
    "id": "3Dr7-hsmjxmE",
    "jupyter": {
     "source_hidden": true
    },
    "slideshow": {
     "slide_type": ""
    },
    "tags": []
   },
   "outputs": [],
   "source": [
    "%%capture\n",
    "# @title redibujar vectores\n",
    "# %matplotlib ipympl\n",
    "\n",
    "def update_Vectors(r, v, a, a_t, a_n, circle):\n",
    "  def update(t = t0):\n",
    "    theta = theta_t_numeric(t)\n",
    "\n",
    "    rt = rvec_t(theta)\n",
    "    vt = vvec_t(theta)\n",
    "    at, at_t, at_n, un, rho = avec_t(theta)\n",
    "    # at_t = at_vec_t(theta)\n",
    "    # at_n = an_vec_t(theta)\n",
    "\n",
    "\n",
    "    r.set_end(*rt)\n",
    "    circle.update(*rt, un, rho)\n",
    "\n",
    "    v.set_XY(*vt*scale_v)\n",
    "    a.set_XY(*at*scale_a)\n",
    "    a_t.set_XY(*at_t*scale_a)\n",
    "    a_n.set_XY(*at_n*scale_a)\n",
    "\n",
    "\n",
    "    r_label = r'$\\displaystyle \\boldsymbol{{\\vec{{r}}}} = \\left[\\begin{{array}} {{c}} {:.2f} \\, \\mathrm{{m}} \\\\ {:.2f} \\, \\mathrm{{m}} \\end{{array}}\\right] = {:.2f} \\, \\mathrm{{m}}$'.format(*rt, np.linalg.norm(rt))\n",
    "    v_label = r'$\\displaystyle \\boldsymbol{{\\vec{{v}}}} = \\left[\\begin{{array}} {{c}} {:.2f} \\, \\mathrm{{m/s}} \\\\ {:.2f} \\, \\mathrm{{m/s}} \\end{{array}}\\right] = {:.2f} \\, \\mathrm{{m/s}}$'.format(*vt, np.linalg.norm(vt))\n",
    "    a_t_label = r'$\\displaystyle \\boldsymbol{{a_t}} = {:.2f} \\, \\mathrm{{m/s^2}} $'.format(np.linalg.norm(at_t))\n",
    "    a_n_label = r'$\\displaystyle \\boldsymbol{{a_n}} = {:.2f} \\, \\mathrm{{m/s^2}} $'.format(np.linalg.norm(at_n))\n",
    "    a_label = r'$\\displaystyle ||\\boldsymbol{{\\vec{{a}}}}|| = {:.2f} \\, \\mathrm{{m/s^2}} $'.format(np.linalg.norm(at))\n",
    "\n",
    "    labels = [\n",
    "      r_label,\n",
    "      v_label,\n",
    "      a_t_label,\n",
    "      a_n_label,\n",
    "      a_label,\n",
    "    ]\n",
    "\n",
    "    vectors = [\n",
    "      r,\n",
    "      v,\n",
    "      a_t,\n",
    "      a_n,\n",
    "      a\n",
    "    ]\n",
    "\n",
    "    visible_labels = [l for l, vec in zip(labels, vectors) if vec.main]\n",
    "\n",
    "    # La leyenda inicial tiene demasiados elementos, entonces hay que limitar\n",
    "    # el número de textos en el primer enumerate\n",
    "    N = len(visible_labels)\n",
    "\n",
    "\n",
    "    for i, text in enumerate([*ax.get_legend().get_texts()[0:N]]):\n",
    "      text.set_text(visible_labels[i])\n",
    "\n",
    "\n",
    "    # Dibujar\n",
    "    clear_output(wait = True)\n",
    "    fig.canvas.draw_idle()\n",
    "  return update"
   ]
  },
  {
   "cell_type": "code",
   "execution_count": 147,
   "id": "d703c5ad-1d62-4e37-ab34-88feebe8e5e9",
   "metadata": {
    "cellView": "form",
    "editable": true,
    "id": "kggpSy_CYmdB",
    "jupyter": {
     "source_hidden": true
    },
    "slideshow": {
     "slide_type": ""
    },
    "tags": []
   },
   "outputs": [],
   "source": [
    "%%capture\n",
    "# @title elegir qué es visible\n",
    "def update_Visibility(r, v, a, a_t, a_n, circle, time):\n",
    "  def update_V(visible):\n",
    "\n",
    "    visible_legends = [\n",
    "        visible == 'r(t)',\n",
    "        visible == 'v(t)',\n",
    "        visible == 'a(t)',\n",
    "        visible == 'a(t)',\n",
    "        visible == 'a(t)',\n",
    "    ]\n",
    "\n",
    "    if visible == 'r(t)':\n",
    "      # Set Colors\n",
    "      r.set_color('C1')\n",
    "\n",
    "      # Set Visibles\n",
    "      r.set_visible(True)\n",
    "      v.set_visible(False)\n",
    "      a_t.set_visible(False)\n",
    "      a_n.set_visible(False)\n",
    "      a.set_visible(False)\n",
    "      circle.set_visible(True)\n",
    "\n",
    "      # Set Mains\n",
    "      r.set_main(True)\n",
    "      v.set_main(False)\n",
    "      a_t.set_main(False)\n",
    "      a_n.set_main(False)\n",
    "      a.set_main(False)\n",
    "    elif visible == 'v(t)':\n",
    "      # Set Colors\n",
    "      r.set_color(hl.toward_gray('C1', 0.5, ax.get_facecolor()))\n",
    "      v.set_color('C2')\n",
    "\n",
    "      # Set Visibles\n",
    "      r.set_visible(True)\n",
    "      v.set_visible(True)\n",
    "      a_t.set_visible(False)\n",
    "      a_n.set_visible(False)\n",
    "      a.set_visible(False)\n",
    "      circle.set_visible(False)\n",
    "\n",
    "      # Set Mains\n",
    "      r.set_main(False)\n",
    "      v.set_main(True)\n",
    "      a_t.set_main(False)\n",
    "      a_n.set_main(False)\n",
    "      a.set_main(False)\n",
    "    else:\n",
    "      # Set Colors\n",
    "      r.set_color(hl.toward_gray('C1', 0.75, ax.get_facecolor()))\n",
    "      v.set_color(hl.toward_gray('C2', 0.7, ax.get_facecolor()))\n",
    "\n",
    "      # Set Visibles\n",
    "      r.set_visible(True)\n",
    "      v.set_visible(True)\n",
    "      a_t.set_visible(True)\n",
    "      a_n.set_visible(True)\n",
    "      a.set_visible(True)\n",
    "      circle.set_visible(False)\n",
    "\n",
    "      # Set Mains\n",
    "      r.set_main(False)\n",
    "      v.set_main(False)\n",
    "      a_t.set_main(True)\n",
    "      a_n.set_main(True)\n",
    "      a.set_main(True)\n",
    "\n",
    "\n",
    "    handles, labels = ax.get_legend_handles_labels()\n",
    "    handles_vis = [h for h, vis in zip(handles, visible_legends) if vis]\n",
    "    labels_vis = [l for l, vis in zip(labels, visible_legends) if vis]\n",
    "    ax.legend(handles_vis, labels_vis, **legend_params)\n",
    "\n",
    "    # with out:\n",
    "    #   out.clear_output(wait = True)\n",
    "    update_Vectors(r, v, a, a_t, a_n, circle)(time)\n",
    "\n",
    "  return update_V"
   ]
  },
  {
   "cell_type": "code",
   "execution_count": 148,
   "id": "26e0928f-da39-47bd-b605-6768df96c200",
   "metadata": {
    "editable": true,
    "jupyter": {
     "source_hidden": true
    },
    "slideshow": {
     "slide_type": "skip"
    },
    "tags": []
   },
   "outputs": [],
   "source": [
    "import solara\n",
    "from io import BytesIO\n",
    "solara.lab.theme.dark_effective = True\n",
    "t_0 = 0.0001\n",
    "\n",
    "t_reactive = solara.reactive(t_0)\n",
    "use_solara_image = solara.reactive(False)\n",
    "graph_types = ['r(t)', 'v(t)', 'a(t)']\n",
    "graph_type_reactive = solara.reactive(graph_types[0])\n",
    "\n",
    "\n",
    "\n",
    "update_my_Vectors = update_Vectors(rV, vV, aV, a_tV, a_nV, osc_circle)\n",
    "\n",
    "\n",
    "update_my_Vectors(t_0)\n",
    "update_Visibility(rV, vV, aV, a_tV, a_nV, osc_circle, t_reactive.value)(graph_types[0])\n",
    "\n",
    "@solara.component\n",
    "def Page():\n",
    "  update_Visible = update_Visibility(rV, vV, aV, a_tV, a_nV, osc_circle, t_reactive.value)\n",
    "  # t_reactive, set_t = solara.use_state(0.0)\n",
    "  def on_change_time(new_t):\n",
    "    update_my_Vectors(new_t)\n",
    "\n",
    "  def on_change_visible(new_v):\n",
    "    update_Visible(new_v)\n",
    "\n",
    "  def fig_to_bytes(time):\n",
    "    on_change_time(time)\n",
    "    buf = BytesIO()\n",
    "    fig.savefig(buf, format=\"png\", bbox_inches=\"tight\")\n",
    "    buf.seek(0)\n",
    "    return buf.read()\n",
    "\n",
    "  with solara.Column(margin= 0, gap= \"0px\", style={\"background\": matplotlib.rcParams['figure.facecolor'],\n",
    "                                                  \"width\": \"100%\",\n",
    "                                                  # \"height\": \"100%\",\n",
    "                                                  \"margin\": \"0\",\n",
    "                                                  \"padding\": \"1rem\",\n",
    "                                                  \"display\": \"flex\",\n",
    "                                                  \"flexDirection\": \"column\",\n",
    "                                                  \"boxSizing\": \"border-box\",\n",
    "                                                  }) as App:\n",
    "    solara.Checkbox(label= 'Reescalar figura para pantallas pequeñas', value= use_solara_image,\n",
    "                              on_value= lambda v: use_solara_image.set(v))\n",
    "    with solara.Column(margin= 4, style={\"background\": matplotlib.rcParams['figure.facecolor']}):\n",
    "      solara.SliderFloat(\"t\", value= t_reactive, min= t_0, \n",
    "                                           max= 295., step= 5, \n",
    "                                           on_value= lambda t: t_reactive.set(t),\n",
    "                                           thumb_label= False, tick_labels= False)\n",
    "    with solara.ToggleButtonsSingle(value= graph_type_reactive, on_value= on_change_visible, style = {\"width\": \"300px\"}):\n",
    "      for i in range(len(graph_types)):\n",
    "        solara.Button(graph_types[i], style = {\"width\": \"100px\"})\n",
    "    \n",
    "    # solara.FigureMatplotlib(fig)\n",
    "    # solara.Image(fig_to_bytes())\n",
    "    # solara.HTML(ipycanvas_widget)\n",
    "    # return t_slider_solara\n",
    "    # plt.show()\n",
    "    if use_solara_image.value:\n",
    "      solara.Image(fig_to_bytes(t_reactive.value))\n",
    "    else:\n",
    "      on_change_time(t_reactive.value)\n",
    "      plt.show()\n",
    "  return App\n",
    "# Page()"
   ]
  },
  {
   "cell_type": "code",
   "execution_count": 149,
   "id": "60afdccd-d438-4ca7-a4ff-5bd7c6b1cef0",
   "metadata": {
    "editable": true,
    "slideshow": {
     "slide_type": "slide"
    },
    "tags": []
   },
   "outputs": [
    {
     "data": {
      "application/vnd.jupyter.widget-view+json": {
       "model_id": "0eccafc444f942eb9afb4cc782d0da83",
       "version_major": 2,
       "version_minor": 0
      },
      "text/html": [
       "Cannot show widget. You probably want to rerun the code cell above (<i>Click in the code cell, and press Shift+Enter <kbd>⇧</kbd>+<kbd>↩</kbd></i>)."
      ],
      "text/plain": [
       "Cannot show ipywidgets in text"
      ]
     },
     "metadata": {},
     "output_type": "display_data"
    }
   ],
   "source": [
    "Page()"
   ]
  }
 ],
 "metadata": {
  "@deathbeds/jupyterlab-fonts": {
   "styles": {
    ":root": {
     "--jp-code-font-size": "16px",
     "--jp-content-font-size1": "18px"
    }
   }
  },
  "kernelspec": {
   "display_name": "Python 3 (ipykernel)",
   "language": "python",
   "name": "python3"
  },
  "language_info": {
   "codemirror_mode": {
    "name": "ipython",
    "version": 3
   },
   "file_extension": ".py",
   "mimetype": "text/x-python",
   "name": "python",
   "nbconvert_exporter": "python",
   "pygments_lexer": "ipython3",
   "version": "3.9.18"
  }
 },
 "nbformat": 4,
 "nbformat_minor": 5
}
