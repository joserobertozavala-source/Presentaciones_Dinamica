{
 "cells": [
  {
   "cell_type": "markdown",
   "id": "f47595cc",
   "metadata": {
    "slideshow": {
     "slide_type": "slide"
    }
   },
   "source": [
    "# 🎞️ Presentación interactiva con Reveal.js + Voilà\n",
    "**Ejemplo completo**"
   ]
  },
  {
   "cell_type": "markdown",
   "id": "17da1def",
   "metadata": {
    "slideshow": {
     "slide_type": "slide"
    }
   },
   "source": [
    "## Objetivo\n",
    "Este ejemplo muestra cómo combinar:\n",
    "- 📊 *Gráficas interactivas (matplotlib + ipywidgets)*\n",
    "- 🎨 *Presentaciones Reveal.js*\n",
    "- 🌐 *Aplicaciones Voilà*"
   ]
  },
  {
   "cell_type": "code",
   "execution_count": null,
   "id": "3ac531f0",
   "metadata": {
    "slideshow": {
     "slide_type": "sub-slide"
    }
   },
   "outputs": [],
   "source": [
    "import numpy as np\n",
    "import matplotlib.pyplot as plt\n",
    "import ipywidgets as widgets\n",
    "\n",
    "def plot_sine(freq=1.0, amp=1.0):\n",
    "    x = np.linspace(0, 2*np.pi, 400)\n",
    "    y = amp * np.sin(freq * x)\n",
    "    plt.figure(figsize=(6, 4))\n",
    "    plt.plot(x, y, lw=2)\n",
    "    plt.title(f\"Seno: frecuencia={freq:.1f}, amplitud={amp:.1f}\")\n",
    "    plt.grid(True)\n",
    "    plt.show()\n",
    "\n",
    "freq_slider = widgets.FloatSlider(value=1, min=0.5, max=5, step=0.1, description='Frecuencia:')\n",
    "amp_slider = widgets.FloatSlider(value=1, min=0.5, max=2, step=0.1, description='Amplitud:')\n",
    "widgets.interactive(plot_sine, freq=freq_slider, amp=amp_slider)"
   ]
  },
  {
   "cell_type": "code",
   "execution_count": null,
   "id": "c56b89f1",
   "metadata": {
    "slideshow": {
     "slide_type": "slide"
    }
   },
   "outputs": [],
   "source": [
    "from IPython.display import HTML\n",
    "\n",
    "HTML('''\n",
    "<h2>🎛️ Demo interactiva (Voilà)</h2>\n",
    "<p>Si ejecutas Voilà, esta diapositiva mostrará la aplicación viva dentro del navegador.</p>\n",
    "<iframe src=\"http://localhost:8866\"\n",
    "        width=\"900\" height=\"600\"\n",
    "        style=\"border:none;\"></iframe>\n",
    "''')"
   ]
  },
  {
   "cell_type": "markdown",
   "id": "db5005a7",
   "metadata": {
    "slideshow": {
     "slide_type": "slide"
    }
   },
   "source": [
    "## ¡Gracias! 🙌  \n",
    "Puedes navegar con ← → y ver el código o la demo."
   ]
  }
 ],
 "metadata": {
  "celltoolbar": "Slideshow",
  "kernelspec": {
   "display_name": "Python 3 (ipykernel)",
   "language": "python",
   "name": "python3"
  },
  "language_info": {
   "codemirror_mode": {
    "name": "ipython",
    "version": 3
   },
   "file_extension": ".py",
   "mimetype": "text/x-python",
   "name": "python",
   "nbconvert_exporter": "python",
   "pygments_lexer": "ipython3",
   "version": "3.9.18"
  }
 },
 "nbformat": 4,
 "nbformat_minor": 5
}
