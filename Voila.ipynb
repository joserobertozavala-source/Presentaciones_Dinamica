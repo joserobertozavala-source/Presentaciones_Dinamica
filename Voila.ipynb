{
 "cells": [
  {
   "cell_type": "code",
   "execution_count": 1,
   "metadata": {
    "cellView": "form",
    "editable": true,
    "executionInfo": {
     "elapsed": 206366,
     "status": "ok",
     "timestamp": 1759989630042,
     "user": {
      "displayName": "José Roberto Zavala",
      "userId": "08088277659897740611"
     },
     "user_tz": 360
    },
    "id": "ljkw7kWBTVLX",
    "slideshow": {
     "slide_type": "skip"
    },
    "tags": []
   },
   "outputs": [],
   "source": [
    "%%capture\n",
    "# @title Latex para Google colab\n",
    "\n",
    "\n",
    "# !apt-get update\n",
    "# !apt-get install -y texlive-latex-base texlive-fonts-recommended texlive-fonts-extra dvipng cm-super\n",
    "# !apt-get install -y texlive-latex-extra dvipng cm-super\n",
    "\n"
   ]
  },
  {
   "cell_type": "code",
   "execution_count": null,
   "metadata": {},
   "outputs": [],
   "source": [
    "%%html\n",
    "<script>\n",
    "window.MathJax = {\n",
    "tex: {\n",
    "  inlineMath: [['$', '$']],  // habilita $...$\n",
    "  displayMath: [['$$', '$$']]\n",
    "},\n",
    "svg: { fontCache: 'global' }\n",
    "};\n",
    "var script = document.createElement(\"script\");\n",
    "script.src = \"https://cdn.jsdelivr.net/npm/mathjax@3/es5/tex-mml-chtml.js\";\n",
    "script.async = true;\n",
    "document.head.appendChild(script);\n",
    "</script>"
   ]
  },
  {
   "cell_type": "code",
   "execution_count": 2,
   "metadata": {
    "cellView": "form",
    "editable": true,
    "executionInfo": {
     "elapsed": 16,
     "status": "ok",
     "timestamp": 1759989630074,
     "user": {
      "displayName": "José Roberto Zavala",
      "userId": "08088277659897740611"
     },
     "user_tz": 360
    },
    "id": "rICgw0ucWLxm",
    "jupyter": {
     "source_hidden": true
    },
    "slideshow": {
     "slide_type": "skip"
    },
    "tags": []
   },
   "outputs": [],
   "source": [
    "# @title Drive para Google Colab\n",
    "\n",
    "# import sys\n",
    "# from google.colab import drive\n",
    "# drive.mount('/content/drive')\n",
    "\n",
    "# # Agregar la carpeta donde está helpers.py\n",
    "# sys.path.append('/content/drive/MyDrive/ColabNotebooks/Unitec/Dinámica/'"
   ]
  },
  {
   "cell_type": "code",
   "execution_count": 3,
   "metadata": {
    "cellView": "form",
    "editable": true,
    "executionInfo": {
     "elapsed": 5,
     "status": "ok",
     "timestamp": 1759989630090,
     "user": {
      "displayName": "José Roberto Zavala",
      "userId": "08088277659897740611"
     },
     "user_tz": 360
    },
    "id": "bamMvEI2rBDx",
    "jupyter": {
     "source_hidden": true
    },
    "slideshow": {
     "slide_type": "skip"
    },
    "tags": []
   },
   "outputs": [],
   "source": [
    "%%capture\n",
    "# @title Dependencias Python\n",
    "\n",
    "import matplotlib.pyplot as plt\n",
    "import matplotlib\n",
    "import sympy as sp\n",
    "import sys\n",
    "import importlib\n",
    "from IPython.display import Latex, clear_output\n",
    "import numpy as np\n",
    "from scipy.optimize import bisect\n",
    "import ipywidgets as widgets\n",
    "\n",
    "%matplotlib inline\n",
    "# %matplotlib ipympl\n",
    "\n",
    "\n",
    "# Agregar la carpeta donde está helpers.py\n",
    "sys.path.append('/content/drive/MyDrive/Colab Notebooks/Unitec/Dinámica/')\n",
    "\n",
    "import helpers as hl\n",
    "importlib.reload(hl)\n",
    "\n",
    "hl.reset_equations()\n",
    "\n",
    "a, a_t, a_n, v, s, t, x, y, rho, dydx, dydx2 = sp.symbols(\"a, a_t, a_n, v, s, t, x, y, rho, dy/dx, d^{2}y/dx^2\", real = True)\n",
    "sp.init_printing()"
   ]
  },
  {
   "cell_type": "markdown",
   "metadata": {
    "editable": true,
    "id": "VR6d81o-d8h_",
    "slideshow": {
     "slide_type": "slide"
    },
    "tags": []
   },
   "source": [
    "## Ejemplo 1\n",
    "El automóvil de la figura pasa por el punto $A$, donde $x = 100 \\mathrm{\\,m}$ moviéndose a $25 \\mathrm{\\,m/s}$. Su velocidad se define como $v = (25 - 0.15s) \\mathrm{[\\,m/s\\,]}$. Determine la magnitud de su aceleración cuando llega a $B$, donde $s = 51.5\\, \\mathrm{m}$. La coordenada $x$ en el punto $B$ es $x_B=50\\,\\mathrm{m}$.\n",
    "<br>\n",
    "<a name=\"ys\"></a>\n",
    "$$ y = 16 - \\frac{1}{625}x^2 \\:\\mathrm{[\\,m\\,]} \\tag{1}$$\n",
    "\n",
    "<div style=\"text-align: center\">\n",
    "<img src=\"https://external-content.duckduckgo.com/iu/?u=http%3A%2F%2Fdrive.google.com/uc?id=11O_bOE4NOfX5YBdvqJKNrXiI2TJXTGrK\" alt=\"Ejercicio 2\" width=\"1000\">\n",
    "</div>\n",
    "\n"
   ]
  },
  {
   "cell_type": "markdown",
   "metadata": {
    "editable": true,
    "id": "ouYw_KtdlOGY",
    "slideshow": {
     "slide_type": "slide"
    },
    "tags": []
   },
   "source": [
    "### Componentes tangencial y normal\n",
    "<!-- $\\renewcommand{\\d}[1]{\\operatorname{d}\\!{#1}}$ -->\n",
    "Se nos da la rapidez de la partícula como una función de la posición $s$ a lo largo de la trayectoria:  \n",
    "<a name=\"vs\"></a>\n",
    "$$v = (25 - 0.15s) \\mathrm{[\\,m/s\\,]} \\tag{2}$$  \n",
    " Recordamos que las diferentes componentes del moviimiento se pueden analizar por separado como si se tratase de movimiento rectilíneo i.e.unidimensional. Este principio sigue siendo válido tanto si las componentes son rectangulares ($\\boldsymbol{\\hat{\\imath}}$, $\\boldsymbol{\\hat{\\jmath}}$ y $\\boldsymbol{\\hat{k}}$) como si las componentes son tangente, normal y binormal ($\\boldsymbol{\\hat{u_t}}$, $\\boldsymbol{\\hat{u_n}}$ y $\\boldsymbol{\\hat{u_b}}$).  \n",
    "Por lo tanto, podemos evaluar cada una de estas componentes independientemente de las demás.\n",
    "\n"
   ]
  },
  {
   "cell_type": "markdown",
   "metadata": {
    "editable": true,
    "id": "bCBSvFRL1bPW",
    "slideshow": {
     "slide_type": "slide"
    },
    "tags": []
   },
   "source": [
    "#### Componente tangencial\n",
    "Si tenemos la rapidez (que por definición es *tangencial*$\\,$) en términos de la posición $s$ nodeltiempo podemos usar la equación diferencial:\n",
    "<a name=\"EqDif_at\"></a>\n",
    "$$a_t\\operatorname{d}{s}=v\\operatorname{d}{v} \\tag{3}$$\n",
    "\n",
    "Como no conocemos $a_t$ en términos de $s$, no podemos integrar directamente. Pero podemos separar las variables:\n",
    "<a name=\"a_t=vdvds\"></a>\n",
    "$$a_t = v\\,\\frac{\\operatorname{d}{v}}{\\operatorname{d}{s}} \\tag{4}$$\n",
    "<br>"
   ]
  },
  {
   "cell_type": "markdown",
   "metadata": {
    "editable": true,
    "id": "W6apLSd7g-4m",
    "slideshow": {
     "slide_type": "fragment"
    },
    "tags": []
   },
   "source": [
    "Si reemplazamos [$(2)$](#v(s)) en [$(4)$](#a_t=vdvds):\n",
    "<a name=\"a_t(s)\"></a>\n",
    "$$ a_{t}{\\left(s \\right)} = \\left(25.0 - 0.15 s\\right) \\left(-0.15\\right) \\tag{5} $$\n",
    "<br><br>"
   ]
  },
  {
   "cell_type": "markdown",
   "metadata": {
    "editable": true,
    "id": "IzqytILng-4m",
    "slideshow": {
     "slide_type": "fragment"
    },
    "tags": []
   },
   "source": [
    "Al evaluar en $B$, donde $s=51.5$ :\n",
    "<a name=\"a_t_B\"></a>\n",
    "$$ a_{t} = \\left(25.0 - 0.15 \\cdot 51.5\\right) \\left(-0.15\\right) = -2.59 \\mathrm{\\,m/s^2} \\tag{6} $$"
   ]
  },
  {
   "cell_type": "code",
   "execution_count": 4,
   "metadata": {
    "cellView": "form",
    "editable": true,
    "executionInfo": {
     "elapsed": 522,
     "status": "ok",
     "timestamp": 1759989630637,
     "user": {
      "displayName": "José Roberto Zavala",
      "userId": "08088277659897740611"
     },
     "user_tz": 360
    },
    "id": "4SQezYFXBsUh",
    "jupyter": {
     "source_hidden": true
    },
    "slideshow": {
     "slide_type": "skip"
    },
    "tags": []
   },
   "outputs": [],
   "source": [
    "%%capture\n",
    "# @title\n",
    "\n",
    "su = sp.UnevaluatedExpr(s)\n",
    "y = 16 - (1/625)*x**2\n",
    "v = 25 - 0.15*s\n",
    "a_t = v * sp.diff(v, s).subs(s, su)\n",
    "\n",
    "\n",
    "su = sp.UnevaluatedExpr(s)\n",
    "\n",
    "ats = sp.Eq(sp.S('a_t(s)'),sp.Mul((a_t/-0.15),-0.15, evaluate=False))\n",
    "ats2 = sp.Eq(sp.S('a_t'),sp.Mul((a_t/-0.15),-0.15, evaluate=False))\n",
    "hl.write_latex_equation(sp.latex(ats), 5, 'a_t(s)', 5)\n",
    "display(ats)\n",
    "\n",
    "\n",
    "a_t_B_sus = hl.raw_subs(ats2, {s: 51.5}, rationalize= False)\n",
    "a_t_B_eval = sp.N(a_t_B_sus.doit(), 3).rhs\n",
    "# display(a_t_B_sus)\n",
    "# display(a_t_B_eval)\n",
    "\n",
    "a_t_B = hl.add_unit_latex(hl.eq_chain_latex(a_t_B_sus, a_t_B_eval), 'm/s^2')\n",
    "\n",
    "display(Latex(a_t_B))\n",
    "hl.write_latex_equation(a_t_B, 6, 'a_t_B', 6)"
   ]
  },
  {
   "cell_type": "markdown",
   "metadata": {
    "editable": true,
    "id": "43iEdyZQJJab",
    "slideshow": {
     "slide_type": "slide"
    },
    "tags": []
   },
   "source": [
    "#### Componente normal\n",
    "Para la componente normal de la aceleración:\n",
    "<a name=\"a_n(v)\"></a>\n",
    "$$ a_{n} = \\frac{v^{2}}{\\rho} \\tag{7} $$\n",
    "<br>\n",
    "\n",
    "Donde el radio de curvatura está definido como:\n",
    "<a name = \"rho\"></a>\n",
    "$$ \\rho = \\frac{\\left(\\left(\\frac{\\operatorname{d}{y}}{\\operatorname{d}{x}}\\right)^2 + 1\\right)^\\frac{3}{2} }{\\left|\\frac{\\operatorname{d}^2 \\! y}{\\operatorname{d}{x}^2}\\right|} \\tag{8}$$\n",
    "<br>\n",
    "\n",
    "Calculando las derivadas:\n",
    "<a name = \"dydx\"></a>\n",
    "$$\\\\[0.1em]$$\n",
    "$$\n",
    "\\begin{array}{c c c  c c c}\n",
    "\\hspace{0.5cm} &\n",
    "\\displaystyle \\frac{dy}{dx} = -\\frac{2}{625}x &\n",
    "\\hspace{0.5cm} & \\hspace{0.5cm}\n",
    "\\displaystyle \\frac{d^2y}{dx^2} = -\\frac{2}{625}\n",
    "\\hspace{0.5cm}\n",
    "\\tag{9, 10}\n",
    "\\end{array}$$\n",
    "$$\\\\[0.1em]$$\n",
    "<br><br>"
   ]
  },
  {
   "cell_type": "markdown",
   "metadata": {
    "editable": true,
    "id": "EZXhejitg-4n",
    "slideshow": {
     "slide_type": "slide"
    },
    "tags": []
   },
   "source": [
    "Si reemplazamos [$(9)$](#dydx) y [$(10)$](#dydx) en [$(8)$](#rho):\n",
    "<a name=\"rho(x)\"></a>\n",
    "$$ \\rho = \\frac{\\left(\\left(- \\frac{2 x}{625}\\right)^{2} + 1\\right)^{\\frac{3}{2}}}{\\left|{- \\frac{2}{625}}\\right|} $$\n",
    "\n",
    "<br><br>\n",
    "\n",
    "\n",
    "Al evaluar en $B$, donde $x=50$ :\n",
    "<a name=\"rho_B\"></a>\n",
    "$$ \\rho = \\frac{\\left(\\left(\\left(- \\frac{2}{625}\\right) 50\\right)^{2} + 1\\right)^{\\frac{3}{2}}}{\\left|{- \\frac{2}{625}}\\right|} = 324.58 \\mathrm{\\,m} \\tag{11} $$"
   ]
  },
  {
   "cell_type": "code",
   "execution_count": 5,
   "metadata": {
    "cellView": "form",
    "editable": true,
    "executionInfo": {
     "elapsed": 3189,
     "status": "ok",
     "timestamp": 1759989633828,
     "user": {
      "displayName": "José Roberto Zavala",
      "userId": "08088277659897740611"
     },
     "user_tz": 360
    },
    "id": "o_ByzQTMAFl5",
    "jupyter": {
     "source_hidden": true
    },
    "slideshow": {
     "slide_type": "skip"
    },
    "tags": []
   },
   "outputs": [],
   "source": [
    "%%capture\n",
    "# @title\n",
    "\n",
    "from sre_compile import dis\n",
    "# dydx = sp.diff(y, x)\n",
    "# dydx2 = sp.diff(y, x, 2)\n",
    "rho_1 = sp.Add(1, dydx**2, evaluate=False)**(3/2) / sp.Abs(dydx2)\n",
    "\n",
    "a_n = v**2/rho\n",
    "a_n_v = sp.Eq(sp.S('a_n'), sp.S('v')**2/rho)\n",
    "hl.write_latex_equation(sp.latex(a_n_v), 7, 'a_n(v)', 7)\n",
    "display(a_n_v)\n",
    "\n",
    "\n",
    "\n",
    "dx = sp.nsimplify(sp.diff(y, x), rational=True).expand()\n",
    "hl.write_latex_equation(sp.latex(dx), 9, 'dydx', 9)\n",
    "display(dx)\n",
    "\n",
    "dx2 = sp.nsimplify(sp.diff(y, x, 2), rational=True).expand()\n",
    "hl.write_latex_equation(sp.latex(dx2), 10, '', 10)\n",
    "display(dx2)\n",
    "\n",
    "rho_x = sp.Eq(sp.S('rho'),hl.raw_subs(rho_1, {dydx: sp.diff(y, x), dydx2: sp.diff(y, x, 2)}))\n",
    "hl.write_latex_equation(sp.latex(rho_x), 11, 'rho(x)')\n",
    "display(rho_x)\n",
    "\n",
    "\n",
    "rho_subs = hl.raw_subs(rho_x, {x: 50})\n",
    "rho_eval = sp.N(rho_subs.rhs.doit(), 5)\n",
    "display(rho_subs)\n",
    "display(rho_eval)\n",
    "\n",
    "rho_B = hl.add_unit_latex(hl.eq_chain_latex(rho_subs, rho_eval), 'm')\n",
    "hl.write_latex_equation(rho_B, 12, 'rho_B', 11)\n",
    "display(Latex(rho_B))"
   ]
  },
  {
   "cell_type": "markdown",
   "metadata": {
    "editable": true,
    "id": "fBuPdZzdK6AS",
    "slideshow": {
     "slide_type": "slide"
    },
    "tags": []
   },
   "source": [
    "Si reemplazamos nuestra expresión para la velocidad de [$(2)$](#v(s)) en [$(7)$](#a_n(v)):\n",
    "<a name=\"a_n(s)\"></a>\n",
    "$$ a_{n} = \\frac{v^{2}}{\\rho} = \\frac{\\left(25 - 0.15 s\\right)^{2}}{\\rho} \\tag{12} $$\n",
    "<br><br>"
   ]
  },
  {
   "cell_type": "markdown",
   "metadata": {
    "editable": true,
    "id": "W1hp2AFCg-4o",
    "slideshow": {
     "slide_type": "fragment"
    },
    "tags": []
   },
   "source": [
    "Y evaluando en $B$:\n",
    "<a name=\"a_n_B\"></a>\n",
    "$$ a_{n} = \\frac{\\left(25 - 0.15 \\cdot 51.5\\right)^{2}}{324.58} = 0.92 \\mathrm{\\,m/s^2} \\tag{13} $$"
   ]
  },
  {
   "cell_type": "code",
   "execution_count": 6,
   "metadata": {
    "cellView": "form",
    "editable": true,
    "executionInfo": {
     "elapsed": 1632,
     "status": "ok",
     "timestamp": 1759989635472,
     "user": {
      "displayName": "José Roberto Zavala",
      "userId": "08088277659897740611"
     },
     "user_tz": 360
    },
    "id": "xXLn3baeKwO7",
    "jupyter": {
     "source_hidden": true
    },
    "slideshow": {
     "slide_type": "skip"
    },
    "tags": []
   },
   "outputs": [],
   "source": [
    "%%capture\n",
    "# @title\n",
    "\n",
    "a_n_s_1 = hl.raw_subs(a_n_v, {sp.S('v'): v}, rationalize=False)\n",
    "display(a_n_v)\n",
    "display(a_n_s_1)\n",
    "\n",
    "a_n_s = hl.eq_chain_latex(a_n_v, a_n_s_1.rhs)\n",
    "\n",
    "\n",
    "hl.write_latex_equation(a_n_s, 13, 'a_n(s)', 12)\n",
    "hl.dLatex(a_n_s)\n",
    "\n",
    "a_n_B_sus = hl.raw_subs(a_n_s_1, {s: 51.5, rho: rho_eval}, rationalize=False)\n",
    "display(a_n_B_sus)\n",
    "a_n_B_eval = sp.N(a_n_B_sus.rhs.doit(), 2)\n",
    "display(a_n_B_eval)\n",
    "a_n_B = hl.add_unit_latex(hl.eq_chain_latex(a_n_B_sus, a_n_B_eval), 'm/s^2')\n",
    "hl.write_latex_equation(a_n_B, 14, 'a_n_B', 13)\n",
    "hl.dLatex(a_n_B)\n",
    "#"
   ]
  },
  {
   "cell_type": "markdown",
   "metadata": {
    "editable": true,
    "id": "PNjb9McmQqOn",
    "slideshow": {
     "slide_type": "slide"
    },
    "tags": []
   },
   "source": [
    "### Aceleración Total en B\n",
    "\n",
    "Conocemos ya la aceleración normal y tangente en el punto $B$ de las ecuaciones [$(6)$](#a_t_B) y [$(13)$](#a_n_B):\n",
    "\n",
    "$$\\\\[0.1em]$$\n",
    "$$ a_{t} = \\left(25.0 - 0.15 \\cdot 51.5\\right) \\left(-0.15\\right) = -2.59 \\mathrm{\\,m/s^2} \\tag{6} $$\n",
    "$$\\\\[0.1em]$$\n",
    "$$ a_{n} = \\frac{\\left(25 - 0.15 \\cdot 51.5\\right)^{2}}{324.58} = 0.92 \\mathrm{\\,m/s^2} \\tag{13} $$\n",
    "$$\\\\[0.1em]$$\n",
    "<br><br>"
   ]
  },
  {
   "cell_type": "markdown",
   "metadata": {
    "editable": true,
    "id": "7bXe37_lg-4o",
    "slideshow": {
     "slide_type": "slide"
    },
    "tags": []
   },
   "source": [
    "La aceleración total se encuentra por Teorema de Pitágoras:\n",
    "<a name=\"a\"></a>\n",
    "$$ a = \\sqrt{a_{n}^{2} + a_{t}^{2}} \\tag{14} $$\n",
    "<br><br>\n",
    "\n",
    "Reemplazando [$(6)$](#a_t_B) y [$(13)$](#a_n_B) en [$(14)$](#a):\n",
    "<a name=\"a_B\"></a>\n",
    "$$ a_{B} = \\sqrt{{0.92}^{2} + {\\left(-2.59\\right)}^{2}} = 2.75 \\mathrm{\\,m/s^2} \\tag{15} $$"
   ]
  },
  {
   "cell_type": "code",
   "execution_count": 7,
   "metadata": {
    "cellView": "form",
    "editable": true,
    "executionInfo": {
     "elapsed": 1101,
     "status": "ok",
     "timestamp": 1759989636581,
     "user": {
      "displayName": "José Roberto Zavala",
      "userId": "08088277659897740611"
     },
     "user_tz": 360
    },
    "id": "lUdxNVWmTBbV",
    "jupyter": {
     "source_hidden": true
    },
    "slideshow": {
     "slide_type": "skip"
    },
    "tags": []
   },
   "outputs": [],
   "source": [
    "%%capture\n",
    "# @title\n",
    "\n",
    "a = sp.sqrt(sp.S('a_t')**2 + sp.S('a_n')**2)\n",
    "a_eq = sp.Eq(sp.S('a'), a)\n",
    "\n",
    "hl.write_latex_equation(sp.latex(a_eq), 15, 'a', 14)\n",
    "display(a_eq)\n",
    "\n",
    "a_sub = hl.raw_subs(a_eq,{sp.S('a'): sp.Symbol('a_B'), sp.S('a_t'): a_t_B_eval,\n",
    "                          sp.S('a_n'): a_n_B_eval}, rationalize= False)\n",
    "display(a_sub)\n",
    "\n",
    "a_eval = sp.N(a_sub.rhs.doit(), 3)\n",
    "display(a_eval)\n",
    "\n",
    "a_B = hl.add_unit_latex(hl.eq_chain_latex(a_sub, a_eval), 'm/s^2')\n",
    "hl.write_latex_equation(a_B, 16, 'a_B', 15)\n",
    "hl.dLatex(a_B)"
   ]
  },
  {
   "cell_type": "code",
   "execution_count": 8,
   "metadata": {
    "cellView": "form",
    "editable": true,
    "executionInfo": {
     "elapsed": 3303,
     "status": "ok",
     "timestamp": 1759989639896,
     "user": {
      "displayName": "José Roberto Zavala",
      "userId": "08088277659897740611"
     },
     "user_tz": 360
    },
    "id": "OwpAJpaWgOfP",
    "jupyter": {
     "source_hidden": true
    },
    "slideshow": {
     "slide_type": "skip"
    },
    "tags": []
   },
   "outputs": [],
   "source": [
    "%%capture\n",
    "# @title Relaciones Matemáticas\n",
    "\n",
    "dy = sp.Function(\"y'\")(x)\n",
    "t = sp.Symbol(\"t\", real=True)\n",
    "\n",
    "y_lamb = hl.Lamb(y, x)\n",
    "dy_lamb = hl.Lamb(sp.diff(y, x), x)\n",
    "dy2_lamb = hl.Lamb(sp.diff(y, x, 2), x)\n",
    "hl.d_Eq('y(x)',y)\n",
    "\n",
    "\n",
    "t_s = sp.integrate(1/v, (s, 0, sp.Symbol('s(t)'))).subs(sp.Symbol('s(t)'), s)\n",
    "hl.d_Eq('t(s)',t_s)\n",
    "\n",
    "s_t = sp.Eq(sp.S('s'), *sp.solve(sp.Eq(t, t_s), s))\n",
    "s_t_lamb = hl.Lamb(s_t.rhs, t)\n",
    "hl.d_Eq('s(t)', s_t.rhs)\n",
    "\n",
    "v_t = sp.diff(s_t.rhs, t)\n",
    "v_t_lamb = hl.Lamb(v_t, t)\n",
    "hl.d_Eq('v(t)', v_t)\n",
    "\n",
    "a_t_t = sp.diff(v_t, t)\n",
    "hl.d_Eq('a_{t}(t)', a_t_t)\n",
    "a_t_t_lamb = hl.Lamb(a_t_t, t)\n",
    "\n",
    "a_n_t = v_t**2/rho_x.rhs\n",
    "hl.d_Eq('a_{n}(t,x)', a_n_t)\n",
    "hl.d_Eq('rho(x)', rho_x.rhs)\n",
    "rho_x_lamb = hl.Lamb(rho_x.rhs, x)\n",
    "\n",
    "s_x = sp.integrate(sp.sqrt(1 + sp.diff(y,x)**2), (x, sp.S('x_t'), 100)).subs(sp.S('x_t'), x)\n",
    "hl.d_Eq('s(x)', s_x)\n",
    "\n",
    "\n",
    "# Solución numérica para x(s)\n",
    "s_x_lamb = sp.lambdify(x, s_x, \"numpy\")\n",
    "\n",
    "x_s = lambda s: hl.invert_numeric(s_x_lamb, s, -150, 200)"
   ]
  },
  {
   "cell_type": "code",
   "execution_count": 9,
   "metadata": {
    "cellView": "form",
    "editable": true,
    "executionInfo": {
     "elapsed": 13,
     "status": "ok",
     "timestamp": 1759989639913,
     "user": {
      "displayName": "José Roberto Zavala",
      "userId": "08088277659897740611"
     },
     "user_tz": 360
    },
    "id": "xH6IMtEEmUPw",
    "jupyter": {
     "source_hidden": true
    },
    "slideshow": {
     "slide_type": "skip"
    },
    "tags": []
   },
   "outputs": [],
   "source": [
    "# @title Funciones de Python a partir de las Relaciones Matemáticas\n",
    "def x_t(t):\n",
    "  return x_s(s_t_lamb(t))\n",
    "\n",
    "def dy_t(t):\n",
    "  return dy_lamb(x_t(t))\n",
    "\n",
    "def dy2_t(t):\n",
    "  return dy2_lamb(x_t(t))\n",
    "\n",
    "def conc(t):\n",
    "  return np.sign(dy2_t(t))\n",
    "\n",
    "def sign_dxdt(t, eps_t = 0.01):\n",
    "  t1 = t\n",
    "  t2 = t + eps_t\n",
    "  return np.sign(x_t(t2) - x_t(t1))\n",
    "\n",
    "def rho_t(t):\n",
    "  return rho_x_lamb(x_t(t))\n",
    "\n",
    "\n",
    "\n",
    "def u_t_t(t):\n",
    "  dy = dy_t(t)\n",
    "  return sign_dxdt(t)*(1/np.sqrt(1+(dy**2)))*np.array([1, dy])\n",
    "\n",
    "def u_n_t(t):\n",
    "  ut = u_t_t(t)\n",
    "  return (sign_dxdt(t)*conc(t))*np.array([-ut[1], ut[0]])\n",
    "\n",
    "\n",
    "\n",
    "def v_t(t):\n",
    "  return v_t_lamb(t)\n",
    "\n",
    "def a_t_t(t):\n",
    "  return a_t_t_lamb(t)\n",
    "\n",
    "def a_n_t(t):\n",
    "  return v_t(t)**2/rho_t(t)\n",
    "\n",
    "\n",
    "def rvec_t(t):\n",
    "  xt = x_t(t)\n",
    "  yt = y_lamb(xt)\n",
    "  return np.array([xt, yt])\n",
    "\n",
    "def vvec_t(t):\n",
    "  return v_t(t)*u_t_t(t)\n",
    "\n",
    "def avec_t(t):\n",
    "  return a_t_t(t)*u_t_t(t) + a_n_t(t)*u_n_t(t)\n",
    "\n",
    "def at_vec_t(t):\n",
    "  return a_t_t(t)*u_t_t(t)\n",
    "\n",
    "def an_vec_t(t):\n",
    "  return a_n_t(t)*u_n_t(t)"
   ]
  },
  {
   "cell_type": "code",
   "execution_count": 442,
   "metadata": {
    "editable": true,
    "executionInfo": {
     "elapsed": 2,
     "status": "ok",
     "timestamp": 1759989639915,
     "user": {
      "displayName": "José Roberto Zavala",
      "userId": "08088277659897740611"
     },
     "user_tz": 360
    },
    "id": "z_Q5vFklK7vS",
    "slideshow": {
     "slide_type": "skip"
    },
    "tags": []
   },
   "outputs": [],
   "source": [
    "# @title Elegir tema para gráficas\n",
    "\n",
    "''' Elegir entre:\n",
    "tema = 'blanco'\n",
    "tema = 'cobalto'\n",
    "tema = 'catpuccin latte'\n",
    "'''\n",
    "\n",
    "tema = 'catpuccin latte'"
   ]
  },
  {
   "cell_type": "code",
   "execution_count": 443,
   "metadata": {
    "cellView": "form",
    "editable": true,
    "executionInfo": {
     "elapsed": 4,
     "status": "ok",
     "timestamp": 1759989639930,
     "user": {
      "displayName": "José Roberto Zavala",
      "userId": "08088277659897740611"
     },
     "user_tz": 360
    },
    "id": "JCM63-Hk9ATh",
    "jupyter": {
     "source_hidden": true
    },
    "slideshow": {
     "slide_type": "skip"
    },
    "tags": []
   },
   "outputs": [],
   "source": [
    "# @title Tema para gráficas\n",
    "\n",
    "from matplotlib import rcParams\n",
    "from cycler import cycler\n",
    "\n",
    "if tema == 'blanco':\n",
    "  edge_color = '#999999'\n",
    "  text_color = '#000000'\n",
    "  figure_color = '#ffffff'\n",
    "  axes_color = '#ffffff'\n",
    "\n",
    "\n",
    "  color_palette=[\n",
    "      '#1a921c',\n",
    "      '#321A91',\n",
    "      '#914F1A',\n",
    "      '#235224',\n",
    "      '#4F4282',\n",
    "      '#FFB980',\n",
    "      ]\n",
    "elif tema == 'catpuccin latte':\n",
    "  edge_color = '#999999'\n",
    "  text_color = '#000000'\n",
    "  figure_color = '#EFF1F5'\n",
    "  axes_color = '#F5F7FA'\n",
    "\n",
    "\n",
    "  color_palette=[\n",
    "      '#1a921c',\n",
    "      '#321A91',\n",
    "      '#914F1A',\n",
    "      '#235224',\n",
    "      '#4F4282',\n",
    "      '#FFB980',\n",
    "      ]\n",
    "elif tema == 'cobalto':\n",
    "  edge_color = '#B5C9D7'\n",
    "  text_color = '#ffffff'\n",
    "  figure_color = '#1c3c53'\n",
    "  axes_color = '#1E4159'\n",
    "\n",
    "\n",
    "  color_palette=[\n",
    "      '#57B9FF',\n",
    "      '#FF5A57',\n",
    "      '#FFFF57',\n",
    "      '#1FA2FF',\n",
    "      '#AB1715',\n",
    "      '#ABAB15',\n",
    "      '#719FBF',\n",
    "      '#AA7372',\n",
    "      '#AAAA72',\n",
    "      '#6B7780',\n",
    "      '#554443',\n",
    "      '#555543',\n",
    "      ]\n",
    "else: raise ValueError('Tema no reconocido')\n",
    "\n",
    "\n",
    "\n",
    "rcParams['axes.prop_cycle']=cycler(color=color_palette)\n",
    "rcParams['axes.edgecolor']= edge_color\n",
    "rcParams['axes.labelcolor']= text_color\n",
    "rcParams['axes.labelweight'] = 'bold'\n",
    "rcParams['xtick.color']= edge_color\n",
    "rcParams['xtick.labelcolor']= text_color\n",
    "rcParams['ytick.color']= edge_color\n",
    "rcParams['ytick.labelcolor']= text_color\n",
    "rcParams['text.color']= text_color\n",
    "rcParams['figure.edgecolor']= edge_color\n",
    "rcParams['grid.color']= edge_color\n",
    "rcParams['grid.linestyle']=':'\n",
    "rcParams['legend.frameon']= False\n",
    "rcParams['legend.handlelength']= 1.\n",
    "rcParams['legend.handleheight']= 3.\n",
    "\n",
    "rcParams['axes.facecolor']= axes_color\n",
    "rcParams['figure.facecolor']= figure_color\n",
    "\n",
    "rcParams['text.usetex'] = True\n",
    "rcParams['text.latex.preamble'] = r'\\usepackage{amsmath}'\n",
    "rcParams['font.family'] = 'monospace'\n",
    "# rcParams['font.monospace'] = ['Courier New']  # monospace font\n",
    "rcParams['font.monospace'] = ['qcr']\n",
    "\n",
    "rcParams['font.size']= 20\n",
    "rcParams['axes.titlesize']= 20\n",
    "rcParams['axes.labelsize']= 20\n",
    "rcParams['xtick.labelsize']= 18\n",
    "rcParams['ytick.labelsize']= 18\n",
    "rcParams['legend.fontsize']= 18\n",
    "rcParams['figure.titlesize']= 20\n"
   ]
  },
  {
   "cell_type": "code",
   "execution_count": 444,
   "metadata": {
    "cellView": "form",
    "editable": true,
    "executionInfo": {
     "elapsed": 5468,
     "status": "ok",
     "timestamp": 1759989645433,
     "user": {
      "displayName": "José Roberto Zavala",
      "userId": "08088277659897740611"
     },
     "user_tz": 360
    },
    "id": "XO35jNs5gbep",
    "jupyter": {
     "source_hidden": true
    },
    "slideshow": {
     "slide_type": "skip"
    },
    "tags": []
   },
   "outputs": [],
   "source": [
    "%%capture\n",
    "# @title Parámetros de gráfica\n",
    "\n",
    "ax_bound = [-60, 150, -30, 60]\n",
    "ax_ratio = 1 # graphic ratio of y to x units\n",
    "ax_zoom_bound = [0.5, 0.1, .4, .4]\n",
    "scale_zoom = 3\n",
    "scale_v = 4\n",
    "scale_a = 15\n",
    "zoom_scale_v = 1\n",
    "zoom_scale_a = 4\n",
    "\n",
    "ver_pad = 1.25\n",
    "hor_pad = 1.\n",
    "ax_aspect = ((ax_bound[3] - ax_bound[2])*ver_pad)/((ax_bound[1] - ax_bound[0])*hor_pad)\n",
    "fig_width = 12 # inches\n",
    "fig_height = fig_width * ax_aspect\n",
    "\n",
    "# Crear gráfica\n",
    "fig, ax = plt.subplots(1, 1, figsize=(fig_width, fig_height), dpi = 100)\n",
    "fig.canvas.toolbar_visible = False\n",
    "fig.canvas.header_visible = False\n",
    "fig.canvas.footer_visible = False\n",
    "fig.canvas.resizable = False\n",
    "\n",
    "\n",
    "ax.set_aspect(\"equal\", adjustable='datalim')\n",
    "\n",
    "ax.set_xlabel(r'$x\\, \\mathrm{[\\,m\\,]}$')\n",
    "ax.set_ylabel(r'$y\\, \\mathrm{[\\,m\\,]}$')\n",
    "ax.axhline(y = 0, color = plt.rcParams['grid.color'], linestyle = '-', lw = 1.5)\n",
    "ax.axvline(x = 0, color = plt.rcParams['grid.color'], linestyle = '-', lw = 1.5)\n",
    "\n",
    "\n",
    "ax.set_aspect(ax_ratio, adjustable='box')\n",
    "ax.axis(ax_bound)\n",
    "ax.grid(True)\n",
    "\n",
    "legend_params = dict(loc = 'lower left', bbox_to_anchor = (.0, 1.0, 1.0, 0.1), ncol = 5)"
   ]
  },
  {
   "cell_type": "code",
   "execution_count": 445,
   "metadata": {
    "cellView": "form",
    "editable": true,
    "executionInfo": {
     "elapsed": 703,
     "status": "ok",
     "timestamp": 1759989646138,
     "user": {
      "displayName": "José Roberto Zavala",
      "userId": "08088277659897740611"
     },
     "user_tz": 360
    },
    "id": "D11LCfQLGPZH",
    "jupyter": {
     "source_hidden": true
    },
    "slideshow": {
     "slide_type": "skip"
    },
    "tags": []
   },
   "outputs": [],
   "source": [
    "%%capture\n",
    "# @title Gráficas Interactivas\n",
    "\n",
    "t0 = 5\n",
    "\n",
    "t_range = np.arange(-2, 8, 0.01)\n",
    "\n",
    "s_range = s_t_lamb(t_range)\n",
    "\n",
    "x_range = np.array(list(s_range))\n",
    "y_range = y_lamb(x_range)\n",
    "\n",
    "\n",
    "\n",
    "\n",
    "ax.plot(x_range,y_range, 'C0',lw = 2)\n",
    "\n",
    "\n",
    "\n",
    "\n",
    "r_0 = rvec_t(t0)\n",
    "r_label = r'$\\displaystyle \\boldsymbol{{\\vec{{r}}}} = \\left[\\begin{{array}} {{c}} {:.2f} \\, \\mathrm{{m}} \\\\ {:.2f} \\, \\mathrm{{m}} \\end{{array}}\\right] = {:.2f} \\, \\mathrm{{m}}$'.format(*r_0, np.linalg.norm(r_0))\n",
    "r = hl.FancyVector2D(ax, 0, 0, *r_0, color='C1', label=r_label)\n",
    "\n",
    "\n",
    "\n",
    "v_0 = vvec_t(t0)\n",
    "\n",
    "v_label = r'$\\displaystyle \\boldsymbol{{\\vec{{v}}}} = \\left[\\begin{{array}} {{c}} {:.2f} \\, \\mathrm{{m/s}} \\\\ {:.2f} \\, \\mathrm{{m/s}} \\end{{array}}\\right] = {:.2f} \\, \\mathrm{{m/s}}$'.format(*v_0, np.linalg.norm(v_0))\n",
    "v = hl.FancyVector2D(ax, x1 = v_0[0]*scale_v, y1 = v_0[1]*scale_v, color='C2', previous = r, label=v_label)\n",
    "\n",
    "\n",
    "\n",
    "\n",
    "a_0 = avec_t(t0)\n",
    "at_0 = at_vec_t(t0)\n",
    "an_0 = an_vec_t(t0)\n",
    "\n",
    "\n",
    "a_label = r'$\\displaystyle ||\\boldsymbol{{\\vec{{a}}}}|| = {:.2f} \\, \\mathrm{{m/s^2}} $'.format(np.linalg.norm(a_0))\n",
    "a_t_label = r'$\\displaystyle \\boldsymbol{{a_t}} = {:.2f} \\, \\mathrm{{m/s^2}} $'.format(np.linalg.norm(at_0))\n",
    "a_n_label = r'$\\displaystyle \\boldsymbol{{a_n}} = {:.2f} \\, \\mathrm{{m/s^2}} $'.format(np.linalg.norm(an_0))\n",
    "\n",
    "\n",
    "a_t = hl.FancyVector2D(ax, x1 = at_0[0]*scale_a, y1 = at_0[1]*scale_a, color='C4', linewidth = 1.5, head_length = 15, head_width = 10, head_tail = 3, previous = r, label= a_t_label)\n",
    "a_n = hl.FancyVector2D(ax, x1 = an_0[0]*scale_a, y1 = an_0[1]*scale_a, color='C5', linewidth = 1.5, head_length = 15, head_width = 10, head_tail = 3, previous = a_t, label = a_n_label)\n",
    "a = hl.FancyVector2D(ax, x1 = a_0[0]*scale_a, y1 = a_0[1]*scale_a, color='C3', previous = r, label= a_label)\n",
    "\n",
    "\n",
    "\n",
    "leg = ax.legend(**legend_params)\n",
    "leg_handles, leg_labels = ax.get_legend_handles_labels()\n",
    "\n",
    "\n",
    "\n"
   ]
  },
  {
   "cell_type": "code",
   "execution_count": 446,
   "metadata": {
    "cellView": "form",
    "editable": true,
    "executionInfo": {
     "elapsed": 26,
     "status": "ok",
     "timestamp": 1759989646163,
     "user": {
      "displayName": "José Roberto Zavala",
      "userId": "08088277659897740611"
     },
     "user_tz": 360
    },
    "id": "3Dr7-hsmjxmE",
    "jupyter": {
     "source_hidden": true
    },
    "slideshow": {
     "slide_type": "skip"
    },
    "tags": []
   },
   "outputs": [],
   "source": [
    "%%capture\n",
    "# @title redibujar vectores\n",
    "%matplotlib ipympl\n",
    "\n",
    "def update_Vectors(r, v, a, a_t, a_n):\n",
    "  def update(t = t0):\n",
    "    \n",
    "    rt = rvec_t(t)\n",
    "    vt = vvec_t(t)\n",
    "    at = avec_t(t)\n",
    "    at_t = at_vec_t(t)\n",
    "    at_n = an_vec_t(t)\n",
    "\n",
    "\n",
    "    r.set_end(*rt)\n",
    "\n",
    "    v.set_XY(*vt*scale_v)\n",
    "    a.set_XY(*at*scale_a)\n",
    "    a_t.set_XY(*at_t*scale_a)\n",
    "    a_n.set_XY(*at_n*scale_a)\n",
    "\n",
    "\n",
    "    r_label = r'$\\displaystyle \\boldsymbol{{\\vec{{r}}}} = \\left[\\begin{{array}} {{c}} {:.2f} \\, \\mathrm{{m}} \\\\ {:.2f} \\, \\mathrm{{m}} \\end{{array}}\\right] = {:.2f} \\, \\mathrm{{m}}$'.format(*rt, np.linalg.norm(rt))\n",
    "    v_label = r'$\\displaystyle \\boldsymbol{{\\vec{{v}}}} = \\left[\\begin{{array}} {{c}} {:.2f} \\, \\mathrm{{m/s}} \\\\ {:.2f} \\, \\mathrm{{m/s}} \\end{{array}}\\right] = {:.2f} \\, \\mathrm{{m/s}}$'.format(*vt, np.linalg.norm(vt))\n",
    "    a_t_label = r'$\\displaystyle \\boldsymbol{{a_t}} = {:.2f} \\, \\mathrm{{m/s^2}} $'.format(np.linalg.norm(at_t))\n",
    "    a_n_label = r'$\\displaystyle \\boldsymbol{{a_n}} = {:.2f} \\, \\mathrm{{m/s^2}} $'.format(np.linalg.norm(at_n))\n",
    "    a_label = r'$\\displaystyle ||\\boldsymbol{{\\vec{{a}}}}|| = {:.2f} \\, \\mathrm{{m/s^2}} $'.format(np.linalg.norm(at))\n",
    "\n",
    "    labels = [\n",
    "      r_label,\n",
    "      v_label,\n",
    "      a_t_label,\n",
    "      a_n_label,\n",
    "      a_label,\n",
    "    ]\n",
    "\n",
    "    vectors = [\n",
    "      r,\n",
    "      v,\n",
    "      a_t,\n",
    "      a_n,\n",
    "      a\n",
    "    ]\n",
    "\n",
    "    visible_labels = [l for l, vec in zip(labels, vectors) if vec.main]\n",
    "\n",
    "    # La leyenda inicial tiene demasiados elementos, entonces hay que limitar\n",
    "    # el número de textos en el primer enumerate\n",
    "    N = len(visible_labels)\n",
    "\n",
    "\n",
    "    for i, text in enumerate([*ax.get_legend().get_texts()[0:N]]):\n",
    "      text.set_text(visible_labels[i])\n",
    "    \n",
    "\n",
    "    # Dibujar\n",
    "    clear_output(wait = True)\n",
    "    fig.canvas.draw_idle()\n",
    "    # fig.canvas.draw()\n",
    "    # display(fig)\n",
    "    # fig.canvas.draw()\n",
    "    # fig.canvas.flush_events()\n",
    "    # plt.show()\n",
    "    # clear_output(wait = True)\n",
    "  return update"
   ]
  },
  {
   "cell_type": "code",
   "execution_count": 447,
   "metadata": {
    "cellView": "form",
    "editable": true,
    "executionInfo": {
     "elapsed": 26,
     "status": "ok",
     "timestamp": 1759989646163,
     "user": {
      "displayName": "José Roberto Zavala",
      "userId": "08088277659897740611"
     },
     "user_tz": 360
    },
    "id": "3Dr7-hsmjxmE",
    "jupyter": {
     "source_hidden": true
    },
    "slideshow": {
     "slide_type": "skip"
    },
    "tags": []
   },
   "outputs": [],
   "source": [
    "%%capture\n",
    "# @title elegir qué es visible\n",
    "def update_Visibility(r, v, a, a_t, a_n, out, slider):\n",
    "  def update_V(visible):\n",
    "\n",
    "    visible_legends = [\n",
    "        visible == 'r(t)',\n",
    "        visible == 'v(t)',\n",
    "        visible == 'a(t)',\n",
    "        visible == 'a(t)',\n",
    "        visible == 'a(t)',\n",
    "    ]\n",
    "\n",
    "    if visible == 'r(t)':\n",
    "      # Set Colors\n",
    "      r.set_color('C1')\n",
    "\n",
    "      # Set Visibles\n",
    "      r.set_visible(True)\n",
    "      v.set_visible(False)\n",
    "      a_t.set_visible(False)\n",
    "      a_n.set_visible(False)\n",
    "      a.set_visible(False)\n",
    "\n",
    "      # Set Mains\n",
    "      r.set_main(True)\n",
    "      v.set_main(False)\n",
    "      a_t.set_main(False)\n",
    "      a_n.set_main(False)\n",
    "      a.set_main(False)\n",
    "    elif visible == 'v(t)':\n",
    "      # Set Colors\n",
    "      r.set_color(hl.toward_gray('C1', 0.5, ax.get_facecolor()))\n",
    "      v.set_color('C2')\n",
    "\n",
    "      # Set Visibles\n",
    "      r.set_visible(True)\n",
    "      v.set_visible(True)\n",
    "      a_t.set_visible(False)\n",
    "      a_n.set_visible(False)\n",
    "      a.set_visible(False)\n",
    "\n",
    "      # Set Mains\n",
    "      r.set_main(False)\n",
    "      v.set_main(True)\n",
    "      a_t.set_main(False)\n",
    "      a_n.set_main(False)\n",
    "      a.set_main(False)\n",
    "    else:\n",
    "      # Set Colors\n",
    "      r.set_color(hl.toward_gray('C1', 0.75, ax.get_facecolor()))\n",
    "      v.set_color(hl.toward_gray('C2', 0.7, ax.get_facecolor()))\n",
    "\n",
    "      # Set Visibles\n",
    "      r.set_visible(True)\n",
    "      v.set_visible(True)\n",
    "      a_t.set_visible(True)\n",
    "      a_n.set_visible(True)\n",
    "      a.set_visible(True)\n",
    "\n",
    "      # Set Mains\n",
    "      r.set_main(False)\n",
    "      v.set_main(False)\n",
    "      a_t.set_main(True)\n",
    "      a_n.set_main(True)\n",
    "      a.set_main(True)\n",
    "\n",
    "\n",
    "    handles, labels = ax.get_legend_handles_labels()\n",
    "    handles_vis = [h for h, vis in zip(handles, visible_legends) if vis]\n",
    "    labels_vis = [l for l, vis in zip(labels, visible_legends) if vis]\n",
    "    ax.legend(handles_vis, labels_vis, **legend_params)\n",
    "\n",
    "    with out:\n",
    "      out.clear_output(wait = True)\n",
    "      update_Vectors(r, v, a, a_t, a_n)(slider.value)\n",
    "\n",
    "  return update_V"
   ]
  },
  {
   "cell_type": "code",
   "execution_count": 448,
   "metadata": {
    "cellView": "form",
    "editable": true,
    "executionInfo": {
     "elapsed": 2600,
     "status": "ok",
     "timestamp": 1759989648771,
     "user": {
      "displayName": "José Roberto Zavala",
      "userId": "08088277659897740611"
     },
     "user_tz": 360
    },
    "id": "xePipSvdSDq3",
    "jupyter": {
     "source_hidden": true
    },
    "slideshow": {
     "slide_type": "skip"
    },
    "tags": []
   },
   "outputs": [],
   "source": [
    "# @title\n",
    "# %%capture\n",
    "\n",
    "t_slider = widgets.FloatSlider(value= 0, min= -0.6, max= 8, step=0.1,\n",
    "                               description='t',\n",
    "                               layout=widgets.Layout(width='1100px'),\n",
    "                               )\n",
    "update_my_Vectors = update_Vectors(r, v, a, a_t, a_n)\n",
    "\n",
    "\n",
    "visible_rb = widgets.RadioButtons(\n",
    "  options=['r(t)', 'v(t)', 'a(t)'],\n",
    "  description='Mostrar',\n",
    "  rows=3,\n",
    "  value = 'r(t)',\n",
    ")\n",
    "\n",
    "\n",
    "ui = widgets.VBox([t_slider, visible_rb])\n",
    "out = widgets.interactive_output(update_my_Vectors, dict(t = t_slider))\n",
    "\n",
    "update_Visible = update_Visibility(r, v, a, a_t, a_n, out, t_slider)\n",
    "visible_rb.observe(lambda change: update_Visible(change['new']), names='value')\n",
    "\n",
    "with out:\n",
    "      out.clear_output(wait = True)\n",
    "      update_Visible('r(t)')\n"
   ]
  },
  {
   "cell_type": "code",
   "execution_count": 449,
   "metadata": {
    "colab": {
     "base_uri": "https://localhost:8080/",
     "height": 817,
     "referenced_widgets": [
      "575ca2bd0fb4469cab04e804de1b038e",
      "1933fed89f574da6983c0212d8dab67e",
      "09ff9597fa7f4fc18aa6f874f85be8a9",
      "a418b0e9300c409f8b9efe693a93c354",
      "605274fb90fc4d85bea1c2df48c8a42f",
      "ba072da5a9144f9d845891032a809948",
      "5422d85eb06449808e43741b5d4ae3f2",
      "bc8a0d5be7b848b293b1dc8bcc478f94",
      "842b6af76e2e4800a192e700b7744d34",
      "e2c4f0bb8457418c87aba443131d81c9"
     ]
    },
    "editable": true,
    "executionInfo": {
     "elapsed": 58,
     "status": "ok",
     "timestamp": 1759989686089,
     "user": {
      "displayName": "José Roberto Zavala",
      "userId": "08088277659897740611"
     },
     "user_tz": 360
    },
    "id": "suXRDXARiuBu",
    "outputId": "0d2a007e-2c4a-4506-f21d-a16085566de2",
    "slideshow": {
     "slide_type": "slide"
    },
    "tags": []
   },
   "outputs": [
    {
     "data": {
      "application/vnd.jupyter.widget-view+json": {
       "model_id": "eb0a7cc6d01243a081c22342d344f331",
       "version_major": 2,
       "version_minor": 0
      },
      "text/plain": [
       "VBox(children=(FloatSlider(value=0.0, description='t', layout=Layout(width='1100px'), max=8.0, min=-0.6), Radi…"
      ]
     },
     "metadata": {},
     "output_type": "display_data"
    },
    {
     "data": {
      "application/vnd.jupyter.widget-view+json": {
       "model_id": "b436fa9c88bd4760a23d8d0a8ff4e2d1",
       "version_major": 2,
       "version_minor": 0
      },
      "image/png": "[encoded data removed]",
      "text/html": [
       "\n",
       "            <div style=\"display: inline-block;\">\n",
       "                <div class=\"jupyter-widgets widget-label\" style=\"text-align: center;\">\n",
       "                    Figure 15\n",
       "                </div>\n",
       "                <img src='data:image/png;base64,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' width=1200.0/>\n",
       "            </div>\n",
       "        "
      ],
      "text/plain": [
       "Canvas(footer_visible=False, header_visible=False, resizable=False, toolbar=Toolbar(toolitems=[('Home', 'Reset…"
      ]
     },
     "metadata": {},
     "output_type": "display_data"
    }
   ],
   "source": [
    "display(ui)\n",
    "plt.tight_layout(pad = 0.5)\n",
    "plt.show()"
   ]
  }
 ],
 "metadata": {
  "@deathbeds/jupyterlab-fonts": {
   "styles": {
    ":root": {
     "--jp-code-font-size": "18px",
     "--jp-content-font-size1": "32px"
    }
   }
  },
  "celltoolbar": "Slideshow",
  "colab": {
   "provenance": []
  },
  "kernelspec": {
   "display_name": "Python 3 (ipykernel)",
   "language": "python",
   "name": "python3"
  },
  "language_info": {
   "codemirror_mode": {
    "name": "ipython",
    "version": 3
   },
   "file_extension": ".py",
   "mimetype": "text/x-python",
   "name": "python",
   "nbconvert_exporter": "python",
   "pygments_lexer": "ipython3",
   "version": "3.9.18"
  },
  "widgets": {
   "application/vnd.jupyter.widget-state+json": {
    "09ff9597fa7f4fc18aa6f874f85be8a9": {
     "model_module": "@jupyter-widgets/controls",
     "model_module_version": "1.5.0",
     "model_name": "FloatSliderModel",
     "state": {
      "_dom_classes": [],
      "_model_module": "@jupyter-widgets/controls",
      "_model_module_version": "1.5.0",
      "_model_name": "FloatSliderModel",
      "_view_count": null,
      "_view_module": "@jupyter-widgets/controls",
      "_view_module_version": "1.5.0",
      "_view_name": "FloatSliderView",
      "continuous_update": true,
      "description": "t",
      "description_tooltip": null,
      "disabled": false,
      "layout": "IPY_MODEL_ba072da5a9144f9d845891032a809948",
      "max": 8,
      "min": -0.6,
      "orientation": "horizontal",
      "readout": true,
      "readout_format": ".2f",
      "step": 0.1,
      "style": "IPY_MODEL_5422d85eb06449808e43741b5d4ae3f2",
      "value": 0
     }
    },
    "1933fed89f574da6983c0212d8dab67e": {
     "model_module": "@jupyter-widgets/output",
     "model_module_version": "1.0.0",
     "model_name": "OutputModel",
     "state": {
      "_dom_classes": [],
      "_model_module": "@jupyter-widgets/output",
      "_model_module_version": "1.0.0",
      "_model_name": "OutputModel",
      "_view_count": null,
      "_view_module": "@jupyter-widgets/output",
      "_view_module_version": "1.0.0",
      "_view_name": "OutputView",
      "layout": "IPY_MODEL_e2c4f0bb8457418c87aba443131d81c9",
      "msg_id": "",
      "outputs": [
       {
        "data": {
         "image/png": "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\n",
         "text/plain": "<Figure size 1200x1200 with 1 Axes>"
        },
        "metadata": {},
        "output_type": "display_data"
       }
      ]
     }
    },
    "5422d85eb06449808e43741b5d4ae3f2": {
     "model_module": "@jupyter-widgets/controls",
     "model_module_version": "1.5.0",
     "model_name": "SliderStyleModel",
     "state": {
      "_model_module": "@jupyter-widgets/controls",
      "_model_module_version": "1.5.0",
      "_model_name": "SliderStyleModel",
      "_view_count": null,
      "_view_module": "@jupyter-widgets/base",
      "_view_module_version": "1.2.0",
      "_view_name": "StyleView",
      "description_width": "",
      "handle_color": null
     }
    },
    "575ca2bd0fb4469cab04e804de1b038e": {
     "model_module": "@jupyter-widgets/controls",
     "model_module_version": "1.5.0",
     "model_name": "VBoxModel",
     "state": {
      "_dom_classes": [],
      "_model_module": "@jupyter-widgets/controls",
      "_model_module_version": "1.5.0",
      "_model_name": "VBoxModel",
      "_view_count": null,
      "_view_module": "@jupyter-widgets/controls",
      "_view_module_version": "1.5.0",
      "_view_name": "VBoxView",
      "box_style": "",
      "children": [
       "IPY_MODEL_09ff9597fa7f4fc18aa6f874f85be8a9",
       "IPY_MODEL_a418b0e9300c409f8b9efe693a93c354"
      ],
      "layout": "IPY_MODEL_605274fb90fc4d85bea1c2df48c8a42f"
     }
    },
    "605274fb90fc4d85bea1c2df48c8a42f": {
     "model_module": "@jupyter-widgets/base",
     "model_module_version": "1.2.0",
     "model_name": "LayoutModel",
     "state": {
      "_model_module": "@jupyter-widgets/base",
      "_model_module_version": "1.2.0",
      "_model_name": "LayoutModel",
      "_view_count": null,
      "_view_module": "@jupyter-widgets/base",
      "_view_module_version": "1.2.0",
      "_view_name": "LayoutView",
      "align_content": null,
      "align_items": null,
      "align_self": null,
      "border": null,
      "bottom": null,
      "display": null,
      "flex": null,
      "flex_flow": null,
      "grid_area": null,
      "grid_auto_columns": null,
      "grid_auto_flow": null,
      "grid_auto_rows": null,
      "grid_column": null,
      "grid_gap": null,
      "grid_row": null,
      "grid_template_areas": null,
      "grid_template_columns": null,
      "grid_template_rows": null,
      "height": null,
      "justify_content": null,
      "justify_items": null,
      "left": null,
      "margin": null,
      "max_height": null,
      "max_width": null,
      "min_height": null,
      "min_width": null,
      "object_fit": null,
      "object_position": null,
      "order": null,
      "overflow": null,
      "overflow_x": null,
      "overflow_y": null,
      "padding": null,
      "right": null,
      "top": null,
      "visibility": null,
      "width": null
     }
    },
    "842b6af76e2e4800a192e700b7744d34": {
     "model_module": "@jupyter-widgets/controls",
     "model_module_version": "1.5.0",
     "model_name": "DescriptionStyleModel",
     "state": {
      "_model_module": "@jupyter-widgets/controls",
      "_model_module_version": "1.5.0",
      "_model_name": "DescriptionStyleModel",
      "_view_count": null,
      "_view_module": "@jupyter-widgets/base",
      "_view_module_version": "1.2.0",
      "_view_name": "StyleView",
      "description_width": ""
     }
    },
    "a418b0e9300c409f8b9efe693a93c354": {
     "model_module": "@jupyter-widgets/controls",
     "model_module_version": "1.5.0",
     "model_name": "RadioButtonsModel",
     "state": {
      "_dom_classes": [],
      "_model_module": "@jupyter-widgets/controls",
      "_model_module_version": "1.5.0",
      "_model_name": "RadioButtonsModel",
      "_options_labels": [
       "r(t)",
       "v(t)",
       "a(t)"
      ],
      "_view_count": null,
      "_view_module": "@jupyter-widgets/controls",
      "_view_module_version": "1.5.0",
      "_view_name": "RadioButtonsView",
      "description": "Mostrar",
      "description_tooltip": null,
      "disabled": false,
      "index": 0,
      "layout": "IPY_MODEL_bc8a0d5be7b848b293b1dc8bcc478f94",
      "style": "IPY_MODEL_842b6af76e2e4800a192e700b7744d34"
     }
    },
    "ba072da5a9144f9d845891032a809948": {
     "model_module": "@jupyter-widgets/base",
     "model_module_version": "1.2.0",
     "model_name": "LayoutModel",
     "state": {
      "_model_module": "@jupyter-widgets/base",
      "_model_module_version": "1.2.0",
      "_model_name": "LayoutModel",
      "_view_count": null,
      "_view_module": "@jupyter-widgets/base",
      "_view_module_version": "1.2.0",
      "_view_name": "LayoutView",
      "align_content": null,
      "align_items": null,
      "align_self": null,
      "border": null,
      "bottom": null,
      "display": null,
      "flex": null,
      "flex_flow": null,
      "grid_area": null,
      "grid_auto_columns": null,
      "grid_auto_flow": null,
      "grid_auto_rows": null,
      "grid_column": null,
      "grid_gap": null,
      "grid_row": null,
      "grid_template_areas": null,
      "grid_template_columns": null,
      "grid_template_rows": null,
      "height": null,
      "justify_content": null,
      "justify_items": null,
      "left": null,
      "margin": null,
      "max_height": null,
      "max_width": null,
      "min_height": null,
      "min_width": null,
      "object_fit": null,
      "object_position": null,
      "order": null,
      "overflow": null,
      "overflow_x": null,
      "overflow_y": null,
      "padding": null,
      "right": null,
      "top": null,
      "visibility": null,
      "width": "1350px"
     }
    },
    "bc8a0d5be7b848b293b1dc8bcc478f94": {
     "model_module": "@jupyter-widgets/base",
     "model_module_version": "1.2.0",
     "model_name": "LayoutModel",
     "state": {
      "_model_module": "@jupyter-widgets/base",
      "_model_module_version": "1.2.0",
      "_model_name": "LayoutModel",
      "_view_count": null,
      "_view_module": "@jupyter-widgets/base",
      "_view_module_version": "1.2.0",
      "_view_name": "LayoutView",
      "align_content": null,
      "align_items": null,
      "align_self": null,
      "border": null,
      "bottom": null,
      "display": null,
      "flex": null,
      "flex_flow": null,
      "grid_area": null,
      "grid_auto_columns": null,
      "grid_auto_flow": null,
      "grid_auto_rows": null,
      "grid_column": null,
      "grid_gap": null,
      "grid_row": null,
      "grid_template_areas": null,
      "grid_template_columns": null,
      "grid_template_rows": null,
      "height": null,
      "justify_content": null,
      "justify_items": null,
      "left": null,
      "margin": null,
      "max_height": null,
      "max_width": null,
      "min_height": null,
      "min_width": null,
      "object_fit": null,
      "object_position": null,
      "order": null,
      "overflow": null,
      "overflow_x": null,
      "overflow_y": null,
      "padding": null,
      "right": null,
      "top": null,
      "visibility": null,
      "width": null
     }
    },
    "e2c4f0bb8457418c87aba443131d81c9": {
     "model_module": "@jupyter-widgets/base",
     "model_module_version": "1.2.0",
     "model_name": "LayoutModel",
     "state": {
      "_model_module": "@jupyter-widgets/base",
      "_model_module_version": "1.2.0",
      "_model_name": "LayoutModel",
      "_view_count": null,
      "_view_module": "@jupyter-widgets/base",
      "_view_module_version": "1.2.0",
      "_view_name": "LayoutView",
      "align_content": null,
      "align_items": null,
      "align_self": null,
      "border": null,
      "bottom": null,
      "display": null,
      "flex": null,
      "flex_flow": null,
      "grid_area": null,
      "grid_auto_columns": null,
      "grid_auto_flow": null,
      "grid_auto_rows": null,
      "grid_column": null,
      "grid_gap": null,
      "grid_row": null,
      "grid_template_areas": null,
      "grid_template_columns": null,
      "grid_template_rows": null,
      "height": null,
      "justify_content": null,
      "justify_items": null,
      "left": null,
      "margin": null,
      "max_height": null,
      "max_width": null,
      "min_height": null,
      "min_width": null,
      "object_fit": null,
      "object_position": null,
      "order": null,
      "overflow": null,
      "overflow_x": null,
      "overflow_y": null,
      "padding": null,
      "right": null,
      "top": null,
      "visibility": null,
      "width": null
     }
    }
   }
  }
 },
 "nbformat": 4,
 "nbformat_minor": 4
}
