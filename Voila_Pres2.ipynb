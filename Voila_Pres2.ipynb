{
 "cells": [
  {
   "cell_type": "code",
   "execution_count": null,
   "metadata": {
    "jupyter": {
     "source_hidden": true
    }
   },
   "outputs": [],
   "source": [
    "%%html\n",
    "<script>\n",
    "window.MathJax = {\n",
    "tex: {\n",
    "  inlineMath: [['$', '$']],  // habilita $...$\n",
    "  displayMath: [['$$', '$$']]\n",
    "},\n",
    "svg: { fontCache: 'global' }\n",
    "};\n",
    "var script = document.createElement(\"script\");\n",
    "script.src = \"https://cdn.jsdelivr.net/npm/mathjax@3/es5/tex-mml-chtml.js\";\n",
    "script.async = true;\n",
    "document.head.appendChild(script);\n",
    "</script>"
   ]
  },
  {
   "cell_type": "markdown",
   "metadata": {
    "editable": true,
    "id": "MBIG8GoRaInL",
    "tags": []
   },
   "source": [
    "# Cinemática de un Movimiento Curvilíneo: Aceración normal y tangente"
   ]
  },
  {
   "cell_type": "markdown",
   "metadata": {
    "editable": true,
    "slideshow": {
     "slide_type": "slide"
    },
    "tags": []
   },
   "source": [
    "## Ejemplo 2\n",
    "\n",
    "Un automóvil viaja a velocidad constante de 240 km/h en la pista descrita por la elipse en la imagen. Encuentre la aceleración experimentada por el vehículo en el punto B. Haga lo mismo para el punto A. ¿Cómo se compara la aceleración en ambos casos?  \n",
    "\n",
    "<div style=\"text-align: center\">\n",
    "<!-- https://drive.google.com/uc?id=19xRm_SiE_ErY32WvM2NCt15mWwUImVmT -->\n",
    "<img src = \"https://external-content.duckduckgo.com/iu/?u=http%3A%2F%2Fdrive.google.com/uc?id=19xRm_SiE_ErY32WvM2NCt15mWwUImVmT\" alt=\"Ejercicio 1\" width=1000>\n",
    "</div>\n"
   ]
  },
  {
   "cell_type": "code",
   "execution_count": 1,
   "metadata": {
    "cellView": "form",
    "editable": true,
    "executionInfo": {
     "elapsed": 206366,
     "status": "ok",
     "timestamp": 1759989630042,
     "user": {
      "displayName": "José Roberto Zavala",
      "userId": "08088277659897740611"
     },
     "user_tz": 360
    },
    "id": "ljkw7kWBTVLX",
    "jupyter": {
     "source_hidden": true
    },
    "slideshow": {
     "slide_type": "skip"
    },
    "tags": []
   },
   "outputs": [],
   "source": [
    "%%capture\n",
    "# @title Latex para Google colab\n",
    "\n",
    "\n",
    "# !apt-get update\n",
    "# !apt-get install -y texlive-latex-base texlive-fonts-recommended texlive-fonts-extra dvipng cm-super\n",
    "# !apt-get install -y texlive-latex-extra dvipng cm-super\n",
    "\n"
   ]
  },
  {
   "cell_type": "code",
   "execution_count": 2,
   "metadata": {
    "cellView": "form",
    "editable": true,
    "executionInfo": {
     "elapsed": 16,
     "status": "ok",
     "timestamp": 1759989630074,
     "user": {
      "displayName": "José Roberto Zavala",
      "userId": "08088277659897740611"
     },
     "user_tz": 360
    },
    "id": "rICgw0ucWLxm",
    "jupyter": {
     "source_hidden": true
    },
    "slideshow": {
     "slide_type": "skip"
    },
    "tags": []
   },
   "outputs": [],
   "source": [
    "# @title Drive para Google Colab\n",
    "\n",
    "# import sys\n",
    "# from google.colab import drive\n",
    "# drive.mount('/content/drive')\n",
    "\n",
    "# # Agregar la carpeta donde está helpers.py\n",
    "# sys.path.append('/content/drive/MyDrive/ColabNotebooks/Unitec/Dinámica/'"
   ]
  },
  {
   "cell_type": "code",
   "execution_count": 3,
   "metadata": {
    "cellView": "form",
    "editable": true,
    "executionInfo": {
     "elapsed": 5,
     "status": "ok",
     "timestamp": 1759989630090,
     "user": {
      "displayName": "José Roberto Zavala",
      "userId": "08088277659897740611"
     },
     "user_tz": 360
    },
    "id": "bamMvEI2rBDx",
    "slideshow": {
     "slide_type": "skip"
    },
    "tags": []
   },
   "outputs": [],
   "source": [
    "%%capture\n",
    "# @title Dependencias Python\n",
    "\n",
    "import matplotlib.pyplot as plt\n",
    "import matplotlib\n",
    "import sympy as sp\n",
    "import sys\n",
    "import importlib\n",
    "from IPython.display import Latex, clear_output\n",
    "import numpy as np\n",
    "from scipy.optimize import bisect\n",
    "import ipywidgets as widgets\n",
    "\n",
    "# %matplotlib inline\n",
    "%matplotlib ipympl\n",
    "\n",
    "\n",
    "# Agregar la carpeta donde está helpers.py\n",
    "sys.path.append('/content/drive/MyDrive/Colab Notebooks/Unitec/Dinámica/')\n",
    "\n",
    "import helpers as hl\n",
    "importlib.reload(hl)\n",
    "\n",
    "# hl.reset_equations()\n",
    "\n",
    "sp.init_printing()"
   ]
  },
  {
   "cell_type": "code",
   "execution_count": 4,
   "metadata": {
    "editable": true,
    "slideshow": {
     "slide_type": ""
    },
    "tags": []
   },
   "outputs": [],
   "source": [
    "%%capture\n",
    "v = 240 * (1000) * (1/3600)\n",
    "t, xi, theta = sp.symbols(r't \\xi \\theta', real=True)\n",
    "s_t = sp.integrate(v, t)\n",
<<<<<<< HEAD
    "# s_t, v"
=======
    "s_t, v"
>>>>>>> 4d5c43c (Agregué ejemplo de elipse con funcionalidad para adaptarse a pantallas pequeñas)
   ]
  },
  {
   "cell_type": "code",
   "execution_count": 5,
   "metadata": {
    "editable": true,
    "slideshow": {
     "slide_type": ""
    },
    "tags": []
   },
   "outputs": [],
   "source": [
    "v_t_lamb = hl.Lamb(v, t)"
   ]
  },
  {
   "cell_type": "code",
   "execution_count": 6,
   "metadata": {
    "editable": true,
    "slideshow": {
     "slide_type": ""
    },
    "tags": []
   },
   "outputs": [],
   "source": [
    "%%capture\n",
    "a = 4000\n",
    "b = 2000\n",
    "e = sp.sqrt(1-((b/a)**2))\n",
    "m = 1 - (a**2/b**2)\n",
<<<<<<< HEAD
    "# e**2, m"
=======
    "e**2, m"
>>>>>>> 4d5c43c (Agregué ejemplo de elipse con funcionalidad para adaptarse a pantallas pequeñas)
   ]
  },
  {
   "cell_type": "code",
   "execution_count": 7,
   "metadata": {
    "editable": true,
    "slideshow": {
     "slide_type": ""
    },
    "tags": []
   },
   "outputs": [],
   "source": [
    "%%capture\n",
    "L = 4*b*sp.elliptic_e(m)\n",
<<<<<<< HEAD
    "# L/v"
=======
    "L/v"
>>>>>>> 4d5c43c (Agregué ejemplo de elipse con funcionalidad para adaptarse a pantallas pequeñas)
   ]
  },
  {
   "cell_type": "code",
   "execution_count": 8,
   "metadata": {
    "editable": true,
    "slideshow": {
     "slide_type": ""
    },
    "tags": []
   },
   "outputs": [],
   "source": [
    "%%capture\n",
    "x_xi = a*sp.cos(xi)\n",
    "y_xi = b*sp.sin(xi)\n",
<<<<<<< HEAD
    "# x_xi, y_xi"
=======
    "x_xi, y_xi"
>>>>>>> 4d5c43c (Agregué ejemplo de elipse con funcionalidad para adaptarse a pantallas pequeñas)
   ]
  },
  {
   "cell_type": "code",
   "execution_count": 9,
   "metadata": {
    "editable": true,
    "slideshow": {
     "slide_type": ""
    },
    "tags": []
   },
   "outputs": [],
   "source": [
    "%%capture\n",
    "Eq_theta_phi = sp.trigsimp(sp.Eq(sp.tan(theta), y_xi/x_xi))\n",
<<<<<<< HEAD
    "# Eq_theta_phi"
=======
    "Eq_theta_phi"
>>>>>>> 4d5c43c (Agregué ejemplo de elipse con funcionalidad para adaptarse a pantallas pequeñas)
   ]
  },
  {
   "cell_type": "code",
   "execution_count": 10,
   "metadata": {
    "editable": true,
    "slideshow": {
     "slide_type": ""
    },
    "tags": []
   },
   "outputs": [],
   "source": [
    "%%capture\n",
    "xi_theta = sp.solve(Eq_theta_phi, xi)[0]\n",
<<<<<<< HEAD
    "# xi_theta"
=======
    "xi_theta"
>>>>>>> 4d5c43c (Agregué ejemplo de elipse con funcionalidad para adaptarse a pantallas pequeñas)
   ]
  },
  {
   "cell_type": "code",
   "execution_count": 11,
   "metadata": {
    "editable": true,
    "slideshow": {
     "slide_type": ""
    },
    "tags": []
   },
   "outputs": [],
   "source": [
    "%%capture\n",
    "xi_theta_mon = sp.Piecewise(\n",
    "  (sp.atan((a/b)*sp.tan(theta)), sp.And(theta >= -sp.pi/2, theta < sp.pi/2)),\n",
    "  (sp.atan((a/b)*sp.tan(theta)) + sp.pi, sp.And(theta >= sp.pi/2, theta < 3*sp.pi/2)),\n",
    "  (sp.atan((a/b)*sp.tan(theta)) + 2*sp.pi, True)\n",
    ")\n",
<<<<<<< HEAD
    "# sp.plot(xi_theta_mon, (theta, 0, 2*sp.pi))\n",
    "# xi_theta_mon"
=======
    "sp.plot(xi_theta_mon, (theta, 0, 2*sp.pi))\n",
    "xi_theta_mon"
>>>>>>> 4d5c43c (Agregué ejemplo de elipse con funcionalidad para adaptarse a pantallas pequeñas)
   ]
  },
  {
   "cell_type": "code",
   "execution_count": 12,
   "metadata": {
    "editable": true,
    "slideshow": {
     "slide_type": ""
    },
    "tags": []
   },
   "outputs": [],
   "source": [
    "%%capture\n",
    "s_theta = b*sp.elliptic_e(xi_theta_mon, m)\n",
<<<<<<< HEAD
    "# s_theta"
=======
    "s_theta"
>>>>>>> 4d5c43c (Agregué ejemplo de elipse con funcionalidad para adaptarse a pantallas pequeñas)
   ]
  },
  {
   "cell_type": "code",
   "execution_count": 13,
   "metadata": {
    "editable": true,
    "slideshow": {
     "slide_type": ""
    },
    "tags": []
   },
   "outputs": [],
   "source": [
    "%%capture\n",
    "Eq_st_stheta = sp.Eq(s_t, s_theta)\n",
<<<<<<< HEAD
    "# Eq_st_stheta"
=======
    "Eq_st_stheta"
>>>>>>> 4d5c43c (Agregué ejemplo de elipse con funcionalidad para adaptarse a pantallas pequeñas)
   ]
  },
  {
   "cell_type": "code",
   "execution_count": 14,
   "metadata": {
    "editable": true,
    "slideshow": {
     "slide_type": ""
    },
    "tags": []
   },
   "outputs": [],
   "source": [
    "%%capture\n",
    "s_theta_func = sp.symbols('s_theta', cls = sp.Function)\n",
    "s_theta_func = s_theta_func(theta)\n",
    "Eq_st_sthetafunc = sp.Eq(s_t, s_theta_func)\n",
    "time_theta = sp.solve(Eq_st_sthetafunc, t)[0].subs([(s_theta_func, s_theta)])\n",
    "time_theta_lamb = lambda th: float(sp.lambdify(theta, time_theta, modules=[\"mpmath\", \"numpy\"])(th))\n",
<<<<<<< HEAD
    "# time_theta"
=======
    "time_theta"
>>>>>>> 4d5c43c (Agregué ejemplo de elipse con funcionalidad para adaptarse a pantallas pequeñas)
   ]
  },
  {
   "cell_type": "code",
   "execution_count": 15,
   "metadata": {
    "editable": true,
    "slideshow": {
     "slide_type": ""
    },
    "tags": []
   },
   "outputs": [],
   "source": [
    "def theta_t(time):\n",
    "  return float(sp.nsolve(Eq_st_stheta.subs([(t, time)]), 0.5))"
   ]
  },
  {
   "cell_type": "code",
   "execution_count": 16,
   "metadata": {
    "editable": true,
    "slideshow": {
     "slide_type": ""
    },
    "tags": []
   },
   "outputs": [],
   "source": [
    "# invertir time_theta numéricamente, para obtener theta en términos del tiempo:\n",
    "theta_vals = np.linspace(-(1/4)*np.pi, 2*np.pi, 5000)\n",
    "t_vals = [time_theta_lamb(th) for th in theta_vals]\n",
    "\n",
    "theta_t_numeric = lambda time: np.interp(time, t_vals, theta_vals)"
   ]
  },
  {
   "cell_type": "code",
   "execution_count": 17,
   "metadata": {
    "editable": true,
    "slideshow": {
     "slide_type": ""
    },
    "tags": []
   },
   "outputs": [],
   "source": [
    "%%capture\n",
    "x_theta = x_xi.subs([(xi, xi_theta_mon)])#*sp.sign(sp.cos(theta))\n",
    "y_theta = y_xi.subs([(xi, xi_theta_mon)])#*sp.sign(sp.cos(theta))\n",
    "\n",
<<<<<<< HEAD
    "# sp.plot(x_theta, (theta, 0, 2*sp.pi))\n",
    "# sp.plot(y_theta, (theta, 0, 2*sp.pi))\n",
    "# x_theta, y_theta"
=======
    "sp.plot(x_theta, (theta, 0, 2*sp.pi))\n",
    "sp.plot(y_theta, (theta, 0, 2*sp.pi))\n",
    "x_theta, y_theta"
>>>>>>> 4d5c43c (Agregué ejemplo de elipse con funcionalidad para adaptarse a pantallas pequeñas)
   ]
  },
  {
   "cell_type": "code",
   "execution_count": 18,
   "metadata": {
    "editable": true,
    "slideshow": {
     "slide_type": ""
    },
    "tags": []
   },
   "outputs": [],
   "source": [
    "x_theta_lamb = hl.Lamb(x_theta, theta)\n",
    "def x_theta_f(theta):\n",
    "  return x_theta_lamb(theta)\n",
    "\n",
    "y_theta_lamb = hl.Lamb(y_theta, theta)\n",
    "def y_theta_f(theta):\n",
    "  return y_theta_lamb(theta)"
   ]
  },
  {
   "cell_type": "code",
   "execution_count": 19,
   "metadata": {
    "editable": true,
    "slideshow": {
     "slide_type": ""
    },
    "tags": []
   },
   "outputs": [],
   "source": [
    "dydxi_xi = sp.diff(y_xi,xi)\n",
    "dxdxi_xi = sp.diff(x_xi,xi)\n",
    "dxidx_xi = 1/dxdxi_xi\n",
    "dydx_xi = sp.trigsimp(dydxi_xi*dxidx_xi)#.subs([(xi, xi_theta_mon)])\n",
    "dydx2_xi = sp.trigsimp(dxidx_xi*sp.diff(dydx_xi, xi))\n",
    "\n",
    "# dydxi_xi, dxidx_xi, dydx_xi,dydx2_xi\n",
    "\n",
    "dydx_theta = sp.trigsimp(dydx_xi.subs([(xi, xi_theta_mon)]))\n",
    "dydx2_theta = sp.trigsimp(dydx2_xi.subs([(xi, xi_theta_mon)]))#*sp.sign(sp.cos(theta))\n",
    "\n",
    "dydx_theta_lamb = hl.Lamb(dydx_theta, theta)\n",
    "dydx2_theta_lamb = hl.Lamb(dydx2_theta, theta)\n",
    "\n"
   ]
  },
  {
   "cell_type": "code",
   "execution_count": 20,
   "metadata": {
    "editable": true,
    "slideshow": {
     "slide_type": ""
    },
    "tags": []
   },
   "outputs": [],
   "source": [
    "dydx_theta_lamb = hl.Lamb(dydx_theta, theta)\n",
    "dydx_t = lambda time: dydx_theta_lamb(theta_t(time))"
   ]
  },
  {
   "cell_type": "code",
   "execution_count": 21,
   "metadata": {
    "editable": true,
    "slideshow": {
     "slide_type": ""
    },
    "tags": []
   },
   "outputs": [],
   "source": [
<<<<<<< HEAD
    "# %%capture\n",
    "# sp.plot(dydx_theta, (theta, 0.5*sp.pi - 1.5, 0.5*sp.pi + 1.5));#, ylim = (-.00015, .000))"
=======
    "%%capture\n",
    "sp.plot(dydx_theta, (theta, 0.5*sp.pi - 1.5, 0.5*sp.pi + 1.5));#, ylim = (-.00015, .000))"
>>>>>>> 4d5c43c (Agregué ejemplo de elipse con funcionalidad para adaptarse a pantallas pequeñas)
   ]
  },
  {
   "cell_type": "code",
   "execution_count": 22,
   "metadata": {
    "editable": true,
    "slideshow": {
     "slide_type": ""
    },
    "tags": []
   },
   "outputs": [],
   "source": [
<<<<<<< HEAD
    "# %%capture\n",
    "# eps = 0.000001\n",
    "# sp.plot(dydx2_theta, (theta, 0.5*sp.pi - 0.75, 0.5*sp.pi + 0.75), ylim = (-.00025, .000))\n",
    "# sp.limit(dydx2_theta, theta, 0.5*sp.pi, dir='+-').evalf()"
=======
    "%%capture\n",
    "eps = 0.000001\n",
    "sp.plot(dydx2_theta, (theta, 0.5*sp.pi - 0.75, 0.5*sp.pi + 0.75), ylim = (-.00025, .000))\n",
    "sp.limit(dydx2_theta, theta, 0.5*sp.pi, dir='+-').evalf()"
>>>>>>> 4d5c43c (Agregué ejemplo de elipse con funcionalidad para adaptarse a pantallas pequeñas)
   ]
  },
  {
   "cell_type": "code",
   "execution_count": 23,
   "metadata": {
    "editable": true,
    "slideshow": {
     "slide_type": ""
    },
    "tags": []
   },
   "outputs": [],
   "source": [
<<<<<<< HEAD
    "# %%capture\n",
    "# dydx2_theta, sp.limit(dydx2_theta, theta, .5*sp.pi, dir='+').evalf(), dydx2_theta.subs([(theta, .5*sp.pi)]).evalf()\n",
    "# # dydx2_theta"
=======
    "%%capture\n",
    "dydx2_theta, sp.limit(dydx2_theta, theta, .5*sp.pi, dir='+').evalf(), dydx2_theta.subs([(theta, .5*sp.pi)]).evalf()\n",
    "# dydx2_theta"
>>>>>>> 4d5c43c (Agregué ejemplo de elipse con funcionalidad para adaptarse a pantallas pequeñas)
   ]
  },
  {
   "cell_type": "code",
   "execution_count": 24,
   "metadata": {
    "editable": true,
<<<<<<< HEAD
    "jupyter": {
     "source_hidden": true
    },
=======
>>>>>>> 4d5c43c (Agregué ejemplo de elipse con funcionalidad para adaptarse a pantallas pequeñas)
    "slideshow": {
     "slide_type": ""
    },
    "tags": []
   },
   "outputs": [],
   "source": [
    "def sign_dxdt(time, eps_t = 0.001):\n",
    "  t1 = time\n",
    "  t2 = time + eps_t\n",
    "  return np.sign(x_t(t2) - x_t(t1))\n",
    "\n",
    "def concavity_t(time):\n",
    "  return np.sign(dydx2_theta_lamb(theta_t(time)))"
   ]
  },
  {
   "cell_type": "code",
   "execution_count": 25,
   "metadata": {
    "editable": true,
<<<<<<< HEAD
    "jupyter": {
     "source_hidden": true
    },
=======
>>>>>>> 4d5c43c (Agregué ejemplo de elipse con funcionalidad para adaptarse a pantallas pequeñas)
    "slideshow": {
     "slide_type": ""
    },
    "tags": []
   },
   "outputs": [],
   "source": [
    "# def sign_dxdt(time, eps_t = 0.001):\n",
    "#   t1 = time\n",
    "#   t2 = time + eps_t\n",
    "#   return np.sign(x_t(t2) - x_t(t1))\n",
    "\n",
    "# def concavity_t(time):\n",
    "#   return np.sign(dydx2_theta_lamb(theta_t(time)))\n",
    "\n",
    "\n",
    "def sign_dxdt_theta(theta, eps_t = 0.001):\n",
    "  time1 = time_theta_lamb(theta)\n",
    "  theta1 = theta\n",
    "\n",
    "  time2 = time1 + eps_t\n",
    "  theta2 = theta_t_numeric(time2)\n",
    "  return np.sign(x_theta_lamb(theta2) - x_theta_lamb(theta1))\n",
    "\n",
    "\n",
    "def concavity_theta(theta):\n",
    "  return np.sign(dydx2_theta_lamb(theta))\n",
    "  "
   ]
  },
  {
   "cell_type": "code",
   "execution_count": 26,
   "metadata": {
    "editable": true,
<<<<<<< HEAD
    "jupyter": {
     "source_hidden": true
    },
=======
>>>>>>> 4d5c43c (Agregué ejemplo de elipse con funcionalidad para adaptarse a pantallas pequeñas)
    "slideshow": {
     "slide_type": ""
    },
    "tags": []
   },
   "outputs": [],
   "source": [
    "%%capture\n",
    "dydxi2_xi = sp.diff(dydxi_xi, xi)\n",
    "dxdxi2_xi = sp.diff(dxdxi_xi, xi)\n",
    "rho_xi = sp.trigsimp((((dxdxi_xi**2) + (dydxi_xi**2))**(3/2))/\n",
    "                     (sp.Abs((dydxi2_xi*dxdxi_xi) - (dxdxi2_xi*dydxi_xi))))\n",
    "rho_theta = sp.trigsimp(rho_xi.subs([(xi, xi_theta_mon)]))\n",
<<<<<<< HEAD
    "# rho_theta"
=======
    "rho_theta"
>>>>>>> 4d5c43c (Agregué ejemplo de elipse con funcionalidad para adaptarse a pantallas pequeñas)
   ]
  },
  {
   "cell_type": "code",
   "execution_count": 27,
   "metadata": {
    "editable": true,
<<<<<<< HEAD
    "jupyter": {
     "source_hidden": true
    },
=======
>>>>>>> 4d5c43c (Agregué ejemplo de elipse con funcionalidad para adaptarse a pantallas pequeñas)
    "slideshow": {
     "slide_type": ""
    },
    "tags": []
   },
   "outputs": [],
   "source": [
    "rho_theta_lamb = hl.Lamb(rho_theta, theta)\n",
    "def rho_theta_f(theta):\n",
    "  return rho_theta_lamb(theta)"
   ]
  },
  {
   "cell_type": "code",
   "execution_count": 28,
   "metadata": {
    "editable": true,
<<<<<<< HEAD
    "jupyter": {
     "source_hidden": true
    },
=======
>>>>>>> 4d5c43c (Agregué ejemplo de elipse con funcionalidad para adaptarse a pantallas pequeñas)
    "slideshow": {
     "slide_type": ""
    },
    "tags": []
   },
   "outputs": [],
   "source": [
    "a_t = sp.diff(v, t)\n",
    "a_t_t_lamb = hl.Lamb(a_t, t)"
   ]
  },
  {
   "cell_type": "code",
   "execution_count": 29,
   "metadata": {
    "editable": true,
<<<<<<< HEAD
    "jupyter": {
     "source_hidden": true
    },
=======
>>>>>>> 4d5c43c (Agregué ejemplo de elipse con funcionalidad para adaptarse a pantallas pequeñas)
    "slideshow": {
     "slide_type": ""
    },
    "tags": []
   },
   "outputs": [],
   "source": [
    "v_theta_lamb = hl.Lamb(v, theta)\n",
    "a_t_theta_lamb = hl.Lamb(a_t, theta)"
   ]
  },
  {
   "cell_type": "code",
   "execution_count": 30,
   "metadata": {
    "editable": true,
<<<<<<< HEAD
    "jupyter": {
     "source_hidden": true
    },
=======
>>>>>>> 4d5c43c (Agregué ejemplo de elipse con funcionalidad para adaptarse a pantallas pequeñas)
    "slideshow": {
     "slide_type": ""
    },
    "tags": []
   },
   "outputs": [],
   "source": [
    "def u_vecs_theta(theta):\n",
    "  dy = dydx_theta_lamb(theta)\n",
    "  sign_dx = sign_dxdt_theta(theta)\n",
    "  conc = concavity_theta(theta)\n",
    "  u_t = sign_dx*(1/np.sqrt(1+(dy**2)))*np.array([1, dy])\n",
    "  u_n = (sign_dx*conc)*np.array([-u_t[1], u_t[0]])\n",
    "  return u_t, u_n\n",
    "  \n",
    "def u_t_theta(theta):\n",
    "  dy = dydx_theta_lamb(theta)\n",
    "  return sign_dxdt_theta(theta)*(1/np.sqrt(1+(dy**2)))*np.array([1, dy])\n",
    "\n",
    "def u_n_theta(theta):\n",
    "  ut = u_t_theta(theta)\n",
    "  return (sign_dxdt_theta(theta)*concavity_theta(theta))*np.array([-ut[1], ut[0]])\n",
    "\n",
    "\n",
    "\n",
    "def v_theta(theta):\n",
    "  return v_theta_lamb(theta)\n",
    "\n",
    "def a_t_theta(theta):\n",
    "  return a_t_theta_lamb(theta)\n",
    "\n",
    "def a_n_theta(theta):\n",
    "  rho = rho_theta_f(theta)\n",
    "  return v_theta(theta)**2/rho, rho\n",
    "\n",
    "\n",
    "def rvec_t(theta):\n",
    "  xt = x_theta_f(theta)\n",
    "  yt = y_theta_f(theta)\n",
    "  return np.array([xt, yt])\n",
    "\n",
    "def vvec_t(theta):\n",
    "  return v_theta(theta)*u_vecs_theta(theta)[0]\n",
    "\n",
    "def avec_t(theta):\n",
    "  ut, un = u_vecs_theta(theta)\n",
    "  at = a_t_theta(theta)\n",
    "  an, rho = a_n_theta(theta)\n",
    "  return at*ut + an*un, at*ut, an*un, un, rho\n",
    "\n",
    "# def at_vec_t(theta):\n",
    "#   return a_t_theta(theta)*u_t_theta(theta)\n",
    "\n",
    "# def an_vec_t(theta):\n",
    "#   return a_n_theta(theta)*u_n_theta(theta)"
   ]
  },
  {
   "cell_type": "code",
   "execution_count": 142,
   "metadata": {
    "editable": true,
    "slideshow": {
     "slide_type": ""
    },
    "tags": []
   },
   "outputs": [],
   "source": [
    "# @title Elegir tema para gráficas\n",
    "\n",
    "''' Elegir entre:\n",
    "tema = 'blanco'\n",
    "tema = 'cobalto'\n",
    "tema = 'catpuccin latte'\n",
    "'''\n",
    "\n",
    "tema = 'catpuccin latte'"
   ]
  },
  {
   "cell_type": "code",
   "execution_count": 143,
   "metadata": {
    "editable": true,
    "jupyter": {
     "source_hidden": true
    },
    "slideshow": {
     "slide_type": ""
    },
    "tags": []
   },
   "outputs": [],
   "source": [
    "hl.aplicar_tema(tema)"
   ]
  },
  {
   "cell_type": "code",
   "execution_count": 144,
   "metadata": {
    "cellView": "form",
    "editable": true,
    "id": "XO35jNs5gbep",
    "jupyter": {
     "source_hidden": true
    },
    "slideshow": {
     "slide_type": ""
    },
    "tags": []
   },
   "outputs": [],
   "source": [
    "%%capture\n",
    "# @title Parámetros de gráfica\n",
    "\n",
    "ax_bound = [-4100, 4100, -2100, 2100]\n",
    "ax_ratio = 1 # graphic ratio of y to x units\n",
    "ax_zoom_bound = [0.5, 0.1, .4, .4]\n",
    "scale_zoom = 3\n",
    "scale_v = 10\n",
    "scale_a = 500\n",
    "zoom_scale_v = 0.5\n",
    "zoom_scale_a = 0.5\n",
    "\n",
    "ver_pad = 1.25\n",
    "hor_pad = 1.\n",
    "ax_aspect = ((ax_bound[3] - ax_bound[2])*ver_pad)/((ax_bound[1] - ax_bound[0])*hor_pad)\n",
    "fig_width = 12 # inches\n",
    "fig_height = fig_width * ax_aspect\n",
    "dpi = 100\n",
    "\n",
    "\n",
    "# Crear gráfica\n",
    "fig, ax = plt.subplots(1, 1, figsize=(fig_width, fig_height), dpi = dpi)\n",
    "fig.canvas.toolbar_visible = False\n",
    "fig.canvas.header_visible = False\n",
    "fig.canvas.footer_visible = False\n",
    "fig.canvas.resizable = False\n",
    "\n",
    "\n",
    "ax.set_aspect(\"equal\", adjustable='datalim')\n",
    "\n",
    "ax.set_xlabel(r'$x\\, \\mathrm{[\\,m\\,]}$')\n",
    "ax.set_ylabel(r'$y\\, \\mathrm{[\\,m\\,]}$')\n",
    "ax.axhline(y = 0, color = plt.rcParams['grid.color'], linestyle = '-', lw = 1.5)\n",
    "ax.axvline(x = 0, color = plt.rcParams['grid.color'], linestyle = '-', lw = 1.5)\n",
    "\n",
    "\n",
    "ax.set_aspect(ax_ratio, adjustable='box')\n",
    "ax.axis(ax_bound)\n",
    "ax.grid(True)\n",
    "\n",
    "legend_params = dict(loc = 'lower left', bbox_to_anchor = (.0, 1.0, 1.0, 0.1), ncol = 5)"
   ]
  },
  {
   "cell_type": "code",
   "execution_count": 145,
   "metadata": {
    "cellView": "form",
    "editable": true,
    "id": "D11LCfQLGPZH",
    "jupyter": {
     "source_hidden": true
    },
    "slideshow": {
     "slide_type": ""
    },
    "tags": []
   },
   "outputs": [],
   "source": [
    "%%capture\n",
    "# @title Gráficas Interactivas\n",
    "\n",
    "t0 = 5\n",
    "\n",
    "theta_range = np.arange(0, 2*np.pi, 0.01)\n",
    "\n",
    "\n",
    "x_path = x_theta_lamb(theta_range)\n",
    "y_path = y_theta_lamb(theta_range)\n",
    "\n",
    "\n",
    "\n",
    "\n",
    "particle_path = ax.plot(x_path, y_path, 'C0',lw = 2)\n",
    "\n",
    "\n",
    "\n",
    "\n",
    "r_0 = rvec_t(t0)\n",
    "r_label = r'$\\displaystyle \\boldsymbol{{\\vec{{r}}}} = \\left[\\begin{{array}} {{c}} {:.2f} \\, \\mathrm{{m}} \\\\ {:.2f} \\, \\mathrm{{m}} \\end{{array}}\\right] = {:.2f} \\, \\mathrm{{m}}$'.format(*r_0, np.linalg.norm(r_0))\n",
    "rV = hl.FancyVector2D(ax, 0, 0, *r_0, color='C1', label=r_label)\n",
    "\n",
    "\n",
    "\n",
    "v_0 = vvec_t(t0)\n",
    "v_label = r'$\\displaystyle \\boldsymbol{{\\vec{{v}}}} = \\left[\\begin{{array}} {{c}} {:.2f} \\, \\mathrm{{m/s}} \\\\ {:.2f} \\, \\mathrm{{m/s}} \\end{{array}}\\right] = {:.2f} \\, \\mathrm{{m/s}}$'.format(*v_0, np.linalg.norm(v_0))\n",
    "vV = hl.FancyVector2D(ax, x1 = v_0[0]*scale_v, y1 = v_0[1]*scale_v, color='C2', previous = rV, label=v_label)\n",
    "\n",
    "\n",
    "\n",
    "\n",
    "a_0, at_0, an_0, un_0, rho_0 = avec_t(t0)\n",
    "# at_0 = at_vec_t(t0)\n",
    "# an_0 = an_vec_t(t0)\n",
    "\n",
    "a_label = r'$\\displaystyle ||\\boldsymbol{{\\vec{{a}}}}|| = {:.2f} \\, \\mathrm{{m/s^2}} $'.format(np.linalg.norm(a_0))\n",
    "a_t_label = r'$\\displaystyle \\boldsymbol{{a_t}} = {:.2f} \\, \\mathrm{{m/s^2}} $'.format(np.linalg.norm(at_0))\n",
    "a_n_label = r'$\\displaystyle \\boldsymbol{{a_n}} = {:.2f} \\, \\mathrm{{m/s^2}} $'.format(np.linalg.norm(an_0))\n",
    "\n",
    "a_tV = hl.FancyVector2D(ax, x1 = at_0[0]*scale_a, y1 = at_0[1]*scale_a, color='C4', linewidth = 1.5, head_length = 15, head_width = 10, head_tail = 3, previous = rV, label= a_t_label)\n",
    "a_nV = hl.FancyVector2D(ax, x1 = an_0[0]*scale_a, y1 = an_0[1]*scale_a, color='C5', linewidth = 1.5, head_length = 15, head_width = 10, head_tail = 3, previous = a_tV, label = a_n_label)\n",
    "aV = hl.FancyVector2D(ax, x1 = a_0[0]*scale_a, y1 = a_0[1]*scale_a, color='C3', previous = rV, label= a_label)\n",
    "\n",
    "osc_circle = hl.OsculatingCircle2D(ax, *r_0, un_0, rho_0)\n",
    "\n",
    "leg = ax.legend(**legend_params)\n",
    "leg_handles, leg_labels = ax.get_legend_handles_labels()\n",
    "\n",
    "\n",
    "\n"
   ]
  },
  {
   "cell_type": "code",
   "execution_count": 146,
   "metadata": {
    "cellView": "form",
    "editable": true,
    "id": "3Dr7-hsmjxmE",
    "jupyter": {
     "source_hidden": true
    },
    "slideshow": {
     "slide_type": ""
    },
    "tags": []
   },
   "outputs": [],
   "source": [
    "%%capture\n",
    "# @title redibujar vectores\n",
    "# %matplotlib ipympl\n",
    "\n",
    "def update_Vectors(r, v, a, a_t, a_n, circle):\n",
    "  def update(t = t0):\n",
    "    theta = theta_t_numeric(t)\n",
    "\n",
    "    rt = rvec_t(theta)\n",
    "    vt = vvec_t(theta)\n",
    "    at, at_t, at_n, un, rho = avec_t(theta)\n",
    "    # at_t = at_vec_t(theta)\n",
    "    # at_n = an_vec_t(theta)\n",
    "\n",
    "\n",
    "    r.set_end(*rt)\n",
    "    circle.update(*rt, un, rho)\n",
    "\n",
    "    v.set_XY(*vt*scale_v)\n",
    "    a.set_XY(*at*scale_a)\n",
    "    a_t.set_XY(*at_t*scale_a)\n",
    "    a_n.set_XY(*at_n*scale_a)\n",
    "\n",
    "\n",
    "    r_label = r'$\\displaystyle \\boldsymbol{{\\vec{{r}}}} = \\left[\\begin{{array}} {{c}} {:.2f} \\, \\mathrm{{m}} \\\\ {:.2f} \\, \\mathrm{{m}} \\end{{array}}\\right] = {:.2f} \\, \\mathrm{{m}}$'.format(*rt, np.linalg.norm(rt))\n",
    "    v_label = r'$\\displaystyle \\boldsymbol{{\\vec{{v}}}} = \\left[\\begin{{array}} {{c}} {:.2f} \\, \\mathrm{{m/s}} \\\\ {:.2f} \\, \\mathrm{{m/s}} \\end{{array}}\\right] = {:.2f} \\, \\mathrm{{m/s}}$'.format(*vt, np.linalg.norm(vt))\n",
    "    a_t_label = r'$\\displaystyle \\boldsymbol{{a_t}} = {:.2f} \\, \\mathrm{{m/s^2}} $'.format(np.linalg.norm(at_t))\n",
    "    a_n_label = r'$\\displaystyle \\boldsymbol{{a_n}} = {:.2f} \\, \\mathrm{{m/s^2}} $'.format(np.linalg.norm(at_n))\n",
    "    a_label = r'$\\displaystyle ||\\boldsymbol{{\\vec{{a}}}}|| = {:.2f} \\, \\mathrm{{m/s^2}} $'.format(np.linalg.norm(at))\n",
    "\n",
    "    labels = [\n",
    "      r_label,\n",
    "      v_label,\n",
    "      a_t_label,\n",
    "      a_n_label,\n",
    "      a_label,\n",
    "    ]\n",
    "\n",
    "    vectors = [\n",
    "      r,\n",
    "      v,\n",
    "      a_t,\n",
    "      a_n,\n",
    "      a\n",
    "    ]\n",
    "\n",
    "    visible_labels = [l for l, vec in zip(labels, vectors) if vec.main]\n",
    "\n",
    "    # La leyenda inicial tiene demasiados elementos, entonces hay que limitar\n",
    "    # el número de textos en el primer enumerate\n",
    "    N = len(visible_labels)\n",
    "\n",
    "\n",
    "    for i, text in enumerate([*ax.get_legend().get_texts()[0:N]]):\n",
    "      text.set_text(visible_labels[i])\n",
    "\n",
    "\n",
    "    # Dibujar\n",
    "    clear_output(wait = True)\n",
    "    fig.canvas.draw_idle()\n",
    "  return update"
   ]
  },
  {
   "cell_type": "code",
   "execution_count": 147,
   "metadata": {
    "cellView": "form",
    "editable": true,
    "id": "kggpSy_CYmdB",
    "jupyter": {
     "source_hidden": true
    },
    "slideshow": {
     "slide_type": ""
    },
    "tags": []
   },
   "outputs": [],
   "source": [
    "%%capture\n",
    "# @title elegir qué es visible\n",
    "def update_Visibility(r, v, a, a_t, a_n, circle, time):\n",
    "  def update_V(visible):\n",
    "\n",
    "    visible_legends = [\n",
    "        visible == 'r(t)',\n",
    "        visible == 'v(t)',\n",
    "        visible == 'a(t)',\n",
    "        visible == 'a(t)',\n",
    "        visible == 'a(t)',\n",
    "    ]\n",
    "\n",
    "    if visible == 'r(t)':\n",
    "      # Set Colors\n",
    "      r.set_color('C1')\n",
    "\n",
    "      # Set Visibles\n",
    "      r.set_visible(True)\n",
    "      v.set_visible(False)\n",
    "      a_t.set_visible(False)\n",
    "      a_n.set_visible(False)\n",
    "      a.set_visible(False)\n",
    "      circle.set_visible(True)\n",
    "\n",
    "      # Set Mains\n",
    "      r.set_main(True)\n",
    "      v.set_main(False)\n",
    "      a_t.set_main(False)\n",
    "      a_n.set_main(False)\n",
    "      a.set_main(False)\n",
    "    elif visible == 'v(t)':\n",
    "      # Set Colors\n",
    "      r.set_color(hl.toward_gray('C1', 0.5, ax.get_facecolor()))\n",
    "      v.set_color('C2')\n",
    "\n",
    "      # Set Visibles\n",
    "      r.set_visible(True)\n",
    "      v.set_visible(True)\n",
    "      a_t.set_visible(False)\n",
    "      a_n.set_visible(False)\n",
    "      a.set_visible(False)\n",
    "      circle.set_visible(False)\n",
    "\n",
    "      # Set Mains\n",
    "      r.set_main(False)\n",
    "      v.set_main(True)\n",
    "      a_t.set_main(False)\n",
    "      a_n.set_main(False)\n",
    "      a.set_main(False)\n",
    "    else:\n",
    "      # Set Colors\n",
    "      r.set_color(hl.toward_gray('C1', 0.75, ax.get_facecolor()))\n",
    "      v.set_color(hl.toward_gray('C2', 0.7, ax.get_facecolor()))\n",
    "\n",
    "      # Set Visibles\n",
    "      r.set_visible(True)\n",
    "      v.set_visible(True)\n",
    "      a_t.set_visible(True)\n",
    "      a_n.set_visible(True)\n",
    "      a.set_visible(True)\n",
    "      circle.set_visible(False)\n",
    "\n",
    "      # Set Mains\n",
    "      r.set_main(False)\n",
    "      v.set_main(False)\n",
    "      a_t.set_main(True)\n",
    "      a_n.set_main(True)\n",
    "      a.set_main(True)\n",
    "\n",
    "\n",
    "    handles, labels = ax.get_legend_handles_labels()\n",
    "    handles_vis = [h for h, vis in zip(handles, visible_legends) if vis]\n",
    "    labels_vis = [l for l, vis in zip(labels, visible_legends) if vis]\n",
    "    ax.legend(handles_vis, labels_vis, **legend_params)\n",
    "\n",
    "    # with out:\n",
    "    #   out.clear_output(wait = True)\n",
    "    update_Vectors(r, v, a, a_t, a_n, circle)(time)\n",
    "\n",
    "  return update_V"
   ]
  },
  {
   "cell_type": "code",
   "execution_count": 148,
   "metadata": {
    "editable": true,
    "jupyter": {
     "source_hidden": true
    },
    "slideshow": {
     "slide_type": "skip"
    },
    "tags": []
   },
   "outputs": [],
   "source": [
    "import solara\n",
    "from io import BytesIO\n",
    "solara.lab.theme.dark_effective = True\n",
    "t_0 = 0.0001\n",
    "\n",
    "t_reactive = solara.reactive(t_0)\n",
    "use_solara_image = solara.reactive(False)\n",
    "graph_types = ['r(t)', 'v(t)', 'a(t)']\n",
    "graph_type_reactive = solara.reactive(graph_types[0])\n",
    "\n",
    "\n",
    "\n",
    "update_my_Vectors = update_Vectors(rV, vV, aV, a_tV, a_nV, osc_circle)\n",
    "\n",
    "\n",
    "update_my_Vectors(t_0)\n",
    "update_Visibility(rV, vV, aV, a_tV, a_nV, osc_circle, t_reactive.value)(graph_types[0])\n",
    "\n",
    "@solara.component\n",
    "def Page():\n",
    "  update_Visible = update_Visibility(rV, vV, aV, a_tV, a_nV, osc_circle, t_reactive.value)\n",
    "  # t_reactive, set_t = solara.use_state(0.0)\n",
    "  def on_change_time(new_t):\n",
    "    update_my_Vectors(new_t)\n",
    "\n",
    "  def on_change_visible(new_v):\n",
    "    update_Visible(new_v)\n",
    "\n",
    "  def fig_to_bytes(time):\n",
    "    on_change_time(time)\n",
    "    buf = BytesIO()\n",
    "    fig.savefig(buf, format=\"png\", bbox_inches=\"tight\")\n",
    "    buf.seek(0)\n",
    "    return buf.read()\n",
    "\n",
    "  with solara.Column(margin= 0, gap= \"0px\", style={\"background\": matplotlib.rcParams['figure.facecolor'],\n",
    "                                                  \"width\": \"100%\",\n",
    "                                                  # \"height\": \"100%\",\n",
    "                                                  \"margin\": \"0\",\n",
    "                                                  \"padding\": \"1rem\",\n",
    "                                                  \"display\": \"flex\",\n",
    "                                                  \"flexDirection\": \"column\",\n",
    "                                                  \"boxSizing\": \"border-box\",\n",
    "                                                  }) as App:\n",
    "    solara.Checkbox(label= 'Reescalar figura para pantallas pequeñas', value= use_solara_image,\n",
    "                              on_value= lambda v: use_solara_image.set(v))\n",
    "    with solara.Column(margin= 4, style={\"background\": matplotlib.rcParams['figure.facecolor']}):\n",
    "      solara.SliderFloat(\"t\", value= t_reactive, min= t_0, \n",
    "                                           max= 295., step= 5, \n",
    "                                           on_value= lambda t: t_reactive.set(t),\n",
    "                                           thumb_label= False, tick_labels= False)\n",
    "    with solara.ToggleButtonsSingle(value= graph_type_reactive, on_value= on_change_visible, style = {\"width\": \"300px\"}):\n",
    "      for i in range(len(graph_types)):\n",
    "        solara.Button(graph_types[i], style = {\"width\": \"100px\"})\n",
    "    \n",
    "    # solara.FigureMatplotlib(fig)\n",
    "    # solara.Image(fig_to_bytes())\n",
    "    # solara.HTML(ipycanvas_widget)\n",
    "    # return t_slider_solara\n",
    "    # plt.show()\n",
    "    if use_solara_image.value:\n",
    "      solara.Image(fig_to_bytes(t_reactive.value))\n",
    "    else:\n",
    "      on_change_time(t_reactive.value)\n",
    "      plt.show()\n",
    "  return App\n",
    "# Page()"
   ]
  },
  {
   "cell_type": "code",
   "execution_count": 149,
   "metadata": {
    "editable": true,
    "slideshow": {
     "slide_type": "slide"
    },
    "tags": []
   },
   "outputs": [
    {
     "data": {
      "application/vnd.jupyter.widget-view+json": {
       "model_id": "0eccafc444f942eb9afb4cc782d0da83",
       "version_major": 2,
       "version_minor": 0
      },
      "text/html": [
       "Cannot show widget. You probably want to rerun the code cell above (<i>Click in the code cell, and press Shift+Enter <kbd>⇧</kbd>+<kbd>↩</kbd></i>)."
      ],
      "text/plain": [
       "Cannot show ipywidgets in text"
      ]
     },
     "metadata": {},
     "output_type": "display_data"
    }
   ],
   "source": [
    "Page()"
   ]
  }
 ],
 "metadata": {
  "@deathbeds/jupyterlab-fonts": {
   "styles": {
    ":root": {
     "--jp-code-font-size": "18px",
     "--jp-content-font-size1": "32px"
    }
   }
  },
  "celltoolbar": "Slideshow",
  "colab": {
   "provenance": []
  },
  "kernelspec": {
   "display_name": "Python 3 (ipykernel)",
   "language": "python",
   "name": "python3"
  },
  "language_info": {
   "codemirror_mode": {
    "name": "ipython",
    "version": 3
   },
   "file_extension": ".py",
   "mimetype": "text/x-python",
   "name": "python",
   "nbconvert_exporter": "python",
   "pygments_lexer": "ipython3",
   "version": "3.9.18"
  },
  "widgets": {
   "application/vnd.jupyter.widget-state+json": {
    "09ff9597fa7f4fc18aa6f874f85be8a9": {
     "model_module": "@jupyter-widgets/controls",
     "model_module_version": "1.5.0",
     "model_name": "FloatSliderModel",
     "state": {
      "_dom_classes": [],
      "_model_module": "@jupyter-widgets/controls",
      "_model_module_version": "1.5.0",
      "_model_name": "FloatSliderModel",
      "_view_count": null,
      "_view_module": "@jupyter-widgets/controls",
      "_view_module_version": "1.5.0",
      "_view_name": "FloatSliderView",
      "continuous_update": true,
      "description": "t",
      "description_tooltip": null,
      "disabled": false,
      "layout": "IPY_MODEL_ba072da5a9144f9d845891032a809948",
      "max": 8,
      "min": -0.6,
      "orientation": "horizontal",
      "readout": true,
      "readout_format": ".2f",
      "step": 0.1,
      "style": "IPY_MODEL_5422d85eb06449808e43741b5d4ae3f2",
      "value": 0
     }
    },
    "1933fed89f574da6983c0212d8dab67e": {
     "model_module": "@jupyter-widgets/output",
     "model_module_version": "1.0.0",
     "model_name": "OutputModel",
     "state": {
      "_dom_classes": [],
      "_model_module": "@jupyter-widgets/output",
      "_model_module_version": "1.0.0",
      "_model_name": "OutputModel",
      "_view_count": null,
      "_view_module": "@jupyter-widgets/output",
      "_view_module_version": "1.0.0",
      "_view_name": "OutputView",
      "layout": "IPY_MODEL_e2c4f0bb8457418c87aba443131d81c9",
      "msg_id": "",
      "outputs": [
       {
        "data": {
         "image/png": "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\n",
         "text/plain": "<Figure size 1200x1200 with 1 Axes>"
        },
        "metadata": {},
        "output_type": "display_data"
       }
      ]
     }
    },
    "5422d85eb06449808e43741b5d4ae3f2": {
     "model_module": "@jupyter-widgets/controls",
     "model_module_version": "1.5.0",
     "model_name": "SliderStyleModel",
     "state": {
      "_model_module": "@jupyter-widgets/controls",
      "_model_module_version": "1.5.0",
      "_model_name": "SliderStyleModel",
      "_view_count": null,
      "_view_module": "@jupyter-widgets/base",
      "_view_module_version": "1.2.0",
      "_view_name": "StyleView",
      "description_width": "",
      "handle_color": null
     }
    },
    "575ca2bd0fb4469cab04e804de1b038e": {
     "model_module": "@jupyter-widgets/controls",
     "model_module_version": "1.5.0",
     "model_name": "VBoxModel",
     "state": {
      "_dom_classes": [],
      "_model_module": "@jupyter-widgets/controls",
      "_model_module_version": "1.5.0",
      "_model_name": "VBoxModel",
      "_view_count": null,
      "_view_module": "@jupyter-widgets/controls",
      "_view_module_version": "1.5.0",
      "_view_name": "VBoxView",
      "box_style": "",
      "children": [
       "IPY_MODEL_09ff9597fa7f4fc18aa6f874f85be8a9",
       "IPY_MODEL_a418b0e9300c409f8b9efe693a93c354"
      ],
      "layout": "IPY_MODEL_605274fb90fc4d85bea1c2df48c8a42f"
     }
    },
    "605274fb90fc4d85bea1c2df48c8a42f": {
     "model_module": "@jupyter-widgets/base",
     "model_module_version": "1.2.0",
     "model_name": "LayoutModel",
     "state": {
      "_model_module": "@jupyter-widgets/base",
      "_model_module_version": "1.2.0",
      "_model_name": "LayoutModel",
      "_view_count": null,
      "_view_module": "@jupyter-widgets/base",
      "_view_module_version": "1.2.0",
      "_view_name": "LayoutView",
      "align_content": null,
      "align_items": null,
      "align_self": null,
      "border": null,
      "bottom": null,
      "display": null,
      "flex": null,
      "flex_flow": null,
      "grid_area": null,
      "grid_auto_columns": null,
      "grid_auto_flow": null,
      "grid_auto_rows": null,
      "grid_column": null,
      "grid_gap": null,
      "grid_row": null,
      "grid_template_areas": null,
      "grid_template_columns": null,
      "grid_template_rows": null,
      "height": null,
      "justify_content": null,
      "justify_items": null,
      "left": null,
      "margin": null,
      "max_height": null,
      "max_width": null,
      "min_height": null,
      "min_width": null,
      "object_fit": null,
      "object_position": null,
      "order": null,
      "overflow": null,
      "overflow_x": null,
      "overflow_y": null,
      "padding": null,
      "right": null,
      "top": null,
      "visibility": null,
      "width": null
     }
    },
    "842b6af76e2e4800a192e700b7744d34": {
     "model_module": "@jupyter-widgets/controls",
     "model_module_version": "1.5.0",
     "model_name": "DescriptionStyleModel",
     "state": {
      "_model_module": "@jupyter-widgets/controls",
      "_model_module_version": "1.5.0",
      "_model_name": "DescriptionStyleModel",
      "_view_count": null,
      "_view_module": "@jupyter-widgets/base",
      "_view_module_version": "1.2.0",
      "_view_name": "StyleView",
      "description_width": ""
     }
    },
    "a418b0e9300c409f8b9efe693a93c354": {
     "model_module": "@jupyter-widgets/controls",
     "model_module_version": "1.5.0",
     "model_name": "RadioButtonsModel",
     "state": {
      "_dom_classes": [],
      "_model_module": "@jupyter-widgets/controls",
      "_model_module_version": "1.5.0",
      "_model_name": "RadioButtonsModel",
      "_options_labels": [
       "r(t)",
       "v(t)",
       "a(t)"
      ],
      "_view_count": null,
      "_view_module": "@jupyter-widgets/controls",
      "_view_module_version": "1.5.0",
      "_view_name": "RadioButtonsView",
      "description": "Mostrar",
      "description_tooltip": null,
      "disabled": false,
      "index": 0,
      "layout": "IPY_MODEL_bc8a0d5be7b848b293b1dc8bcc478f94",
      "style": "IPY_MODEL_842b6af76e2e4800a192e700b7744d34"
     }
    },
    "ba072da5a9144f9d845891032a809948": {
     "model_module": "@jupyter-widgets/base",
     "model_module_version": "1.2.0",
     "model_name": "LayoutModel",
     "state": {
      "_model_module": "@jupyter-widgets/base",
      "_model_module_version": "1.2.0",
      "_model_name": "LayoutModel",
      "_view_count": null,
      "_view_module": "@jupyter-widgets/base",
      "_view_module_version": "1.2.0",
      "_view_name": "LayoutView",
      "align_content": null,
      "align_items": null,
      "align_self": null,
      "border": null,
      "bottom": null,
      "display": null,
      "flex": null,
      "flex_flow": null,
      "grid_area": null,
      "grid_auto_columns": null,
      "grid_auto_flow": null,
      "grid_auto_rows": null,
      "grid_column": null,
      "grid_gap": null,
      "grid_row": null,
      "grid_template_areas": null,
      "grid_template_columns": null,
      "grid_template_rows": null,
      "height": null,
      "justify_content": null,
      "justify_items": null,
      "left": null,
      "margin": null,
      "max_height": null,
      "max_width": null,
      "min_height": null,
      "min_width": null,
      "object_fit": null,
      "object_position": null,
      "order": null,
      "overflow": null,
      "overflow_x": null,
      "overflow_y": null,
      "padding": null,
      "right": null,
      "top": null,
      "visibility": null,
      "width": "1350px"
     }
    },
    "bc8a0d5be7b848b293b1dc8bcc478f94": {
     "model_module": "@jupyter-widgets/base",
     "model_module_version": "1.2.0",
     "model_name": "LayoutModel",
     "state": {
      "_model_module": "@jupyter-widgets/base",
      "_model_module_version": "1.2.0",
      "_model_name": "LayoutModel",
      "_view_count": null,
      "_view_module": "@jupyter-widgets/base",
      "_view_module_version": "1.2.0",
      "_view_name": "LayoutView",
      "align_content": null,
      "align_items": null,
      "align_self": null,
      "border": null,
      "bottom": null,
      "display": null,
      "flex": null,
      "flex_flow": null,
      "grid_area": null,
      "grid_auto_columns": null,
      "grid_auto_flow": null,
      "grid_auto_rows": null,
      "grid_column": null,
      "grid_gap": null,
      "grid_row": null,
      "grid_template_areas": null,
      "grid_template_columns": null,
      "grid_template_rows": null,
      "height": null,
      "justify_content": null,
      "justify_items": null,
      "left": null,
      "margin": null,
      "max_height": null,
      "max_width": null,
      "min_height": null,
      "min_width": null,
      "object_fit": null,
      "object_position": null,
      "order": null,
      "overflow": null,
      "overflow_x": null,
      "overflow_y": null,
      "padding": null,
      "right": null,
      "top": null,
      "visibility": null,
      "width": null
     }
    },
    "e2c4f0bb8457418c87aba443131d81c9": {
     "model_module": "@jupyter-widgets/base",
     "model_module_version": "1.2.0",
     "model_name": "LayoutModel",
     "state": {
      "_model_module": "@jupyter-widgets/base",
      "_model_module_version": "1.2.0",
      "_model_name": "LayoutModel",
      "_view_count": null,
      "_view_module": "@jupyter-widgets/base",
      "_view_module_version": "1.2.0",
      "_view_name": "LayoutView",
      "align_content": null,
      "align_items": null,
      "align_self": null,
      "border": null,
      "bottom": null,
      "display": null,
      "flex": null,
      "flex_flow": null,
      "grid_area": null,
      "grid_auto_columns": null,
      "grid_auto_flow": null,
      "grid_auto_rows": null,
      "grid_column": null,
      "grid_gap": null,
      "grid_row": null,
      "grid_template_areas": null,
      "grid_template_columns": null,
      "grid_template_rows": null,
      "height": null,
      "justify_content": null,
      "justify_items": null,
      "left": null,
      "margin": null,
      "max_height": null,
      "max_width": null,
      "min_height": null,
      "min_width": null,
      "object_fit": null,
      "object_position": null,
      "order": null,
      "overflow": null,
      "overflow_x": null,
      "overflow_y": null,
      "padding": null,
      "right": null,
      "top": null,
      "visibility": null,
      "width": null
     }
    }
   }
  }
 },
 "nbformat": 4,
 "nbformat_minor": 4
}
