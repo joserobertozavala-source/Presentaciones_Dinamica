{
 "cells": [
  {
   "cell_type": "code",
   "execution_count": 23,
   "id": "0a9d3e64-9d6d-4a35-bcee-980a8936cbfb",
   "metadata": {
    "@deathbeds/jupyterlab-fonts": {
     "styles": {
      "": {
       "body[data-jp-deck-mode='presenting'] &": {
        "height": null,
        "left": null,
        "opacity": "100%",
        "position": null,
        "top": null,
        "width": null,
        "z-index": "2"
       }
      }
     }
    },
    "editable": true,
    "jupyterlab-slideshow": {
     "layer": null
    },
    "slideshow": {
     "slide_type": "slide"
    },
    "tags": []
   },
   "outputs": [
    {
     "data": {
      "application/vnd.jupyter.widget-view+json": {
       "model_id": "307520abc36b4cfcbcdde4abef2e21c6",
       "version_major": 2,
       "version_minor": 0
      },
      "text/plain": [
       "Output()"
      ]
     },
     "metadata": {},
     "output_type": "display_data"
    }
   ],
   "source": [
    "import ipywidgets as widgets\n",
    "from IPython.display import display, IFrame\n",
    "\n",
    "out = widgets.Output()\n",
    "\n",
    "@out.capture()\n",
    "def render():\n",
    "    display(IFrame(src='Aceleracion_normal_tangente_Q4.slides.html', width='100%', height=600))\n",
    "\n",
    "render()\n",
    "display(out)"
   ]
  },
  {
   "cell_type": "code",
   "execution_count": 19,
   "id": "c2bc1b59-6331-4d10-a25d-a615b79f1bf8",
   "metadata": {
    "cellView": "form",
    "id": "ljkw7kWBTVLX",
    "slideshow": {
     "slide_type": "skip"
    }
   },
   "outputs": [],
   "source": [
    "# %%capture\n",
    "# # @title Latex para Google colab\n",
    "\n",
    "\n",
    "# !apt-get update\n",
    "# !apt-get install -y texlive-latex-base texlive-fonts-recommended texlive-fonts-extra dvipng cm-super\n",
    "# !apt-get install -y texlive-latex-extra dvipng cm-super\n",
    "\n"
   ]
  },
  {
   "cell_type": "code",
   "execution_count": 20,
   "id": "08489753-b401-4004-aef3-aad14749f2ba",
   "metadata": {
    "cellView": "form",
    "id": "rICgw0ucWLxm",
    "slideshow": {
     "slide_type": "skip"
    }
   },
   "outputs": [],
   "source": [
    "# @title Drive para Google Colab\n",
    "\n",
    "# import sys\n",
    "# from google.colab import drive\n",
    "# drive.mount′/content/drive′\n",
    "\n",
    "# # Agregar la carpeta donde está helpers.py\n",
    "# sys.path.appendá′/content/drive/MyDrive/ColabNotebooks/Unitec/Dinámica/′"
   ]
  },
  {
   "cell_type": "code",
   "execution_count": 4,
   "id": "7b4adfa9-5531-415e-89fd-eea499d30cb7",
   "metadata": {
    "cellView": "form",
    "id": "bamMvEI2rBDx",
    "slideshow": {
     "slide_type": "skip"
    }
   },
   "outputs": [],
   "source": [
    "%%capture\n",
    "# @title Dependencias Python\n",
    "\n",
    "import matplotlib.pyplot as plt\n",
    "import matplotlib\n",
    "import sympy as sp\n",
    "import sys\n",
    "import importlib\n",
    "from IPython.display import Latex, clear_output\n",
    "import numpy as np\n",
    "from scipy.optimize import bisect\n",
    "import ipywidgets as widgets\n",
    "\n",
    "%matplotlib inline\n",
    "# %matplotlib ipympl\n",
    "\n",
    "\n",
    "# Agregar la carpeta donde está helpers.py\n",
    "sys.path.append('/content/drive/MyDrive/Colab Notebooks/Unitec/Dinámica/')\n",
    "\n",
    "import helpers as hl\n",
    "importlib.reload(hl)\n",
    "\n",
    "hl.reset_equations()\n",
    "\n",
    "a, a_t, a_n, v, s, t, x, y, rho, dydx, dydx2 = sp.symbols(\"a, a_t, a_n, v, s, t, x, y, rho, dy/dx, d^{2}y/dx^2\", real = True)\n",
    "sp.init_printing()"
   ]
  },
  {
   "cell_type": "code",
   "execution_count": 5,
   "id": "8d71fb47-8365-40cb-98b7-903a67aeb3d2",
   "metadata": {
    "cellView": "form",
    "id": "4SQezYFXBsUh",
    "slideshow": {
     "slide_type": "skip"
    }
   },
   "outputs": [],
   "source": [
    "%%capture\n",
    "# @title\n",
    "\n",
    "su = sp.UnevaluatedExpr(s)\n",
    "y = 16 - (1/625)*x**2\n",
    "v = 25 - 0.15*s\n",
    "a_t = v * sp.diff(v, s).subs(s, su)\n",
    "\n",
    "\n",
    "su = sp.UnevaluatedExpr(s)\n",
    "\n",
    "ats = sp.Eq(sp.S('a_ts'),sp.Mul((a_t/-0.15),-0.15, evaluate=False))\n",
    "ats2 = sp.Eq(sp.S('a_t'),sp.Mul((a_t/-0.15),-0.15, evaluate=False))\n",
    "hl.write_latex_equation(sp.latex(ats), 5, 'a_ts', 5)\n",
    "display(ats)\n",
    "\n",
    "\n",
    "a_t_B_sus = hl.raw_subs(ats2, {s: 51.5}, rationalize= False)\n",
    "a_t_B_eval = sp.N(a_t_B_sus.doit(), 3).rhs\n",
    "# displayDouble subscripts: use braces to clarifyDouble subscripts: use braces to clarify\n",
    "# displayDouble subscripts: use braces to clarifyDouble subscripts: use braces to clarify\n",
    "\n",
    "a_t_B = hl.add_unit_latex(hl.eq_chain_latex(a_t_B_sus, a_t_B_eval), 'm/s^2')\n",
    "\n",
    "display(Latex(a_t_B))\n",
    "hl.write_latex_equation(a_t_B, 6, 'a_t_B', 6)"
   ]
  },
  {
   "cell_type": "code",
   "execution_count": 6,
   "id": "c396f174-50d2-41fa-8151-47f7656dfb1d",
   "metadata": {
    "cellView": "form",
    "id": "o_ByzQTMAFl5",
    "slideshow": {
     "slide_type": "skip"
    }
   },
   "outputs": [],
   "source": [
    "%%capture\n",
    "# @title\n",
    "\n",
    "from sre_compile import dis\n",
    "# dydx = sp.diffy,x\n",
    "# dydx2 = sp.diffy,x,2\n",
    "rho_1 = sp.Add(1, dydx**2, evaluate=False)**(3/2) / sp.Abs(dydx2)\n",
    "\n",
    "a_n = v**2/rho\n",
    "a_n_v = sp.Eq(sp.S('a_n'), sp.S('v')**2/rho)\n",
    "hl.write_latex_equation(sp.latex(a_n_v), 7, 'a_nv', 7)\n",
    "display(a_n_v)\n",
    "\n",
    "\n",
    "\n",
    "dx = sp.nsimplify(sp.diff(y, x), rational=True).expand()\n",
    "hl.write_latex_equation(sp.latex(dx), 9, 'dydx', 9)\n",
    "display(dx)\n",
    "\n",
    "dx2 = sp.nsimplify(sp.diff(y, x, 2), rational=True).expand()\n",
    "hl.write_latex_equation(sp.latex(dx2), 10, '', 10)\n",
    "display(dx2)\n",
    "\n",
    "rho_x = sp.Eq(sp.S('rho'),hl.raw_subs(rho_1, {dydx: sp.diff(y, x), dydx2: sp.diff(y, x, 2)}))\n",
    "hl.write_latex_equation(sp.latex(rho_x), 11, 'rhox')\n",
    "display(rho_x)\n",
    "\n",
    "\n",
    "rho_subs = hl.raw_subs(rho_x, {x: 50})\n",
    "rho_eval = sp.N(rho_subs.rhs.doit(), 5)\n",
    "display(rho_subs)\n",
    "display(rho_eval)\n",
    "\n",
    "rho_B = hl.add_unit_latex(hl.eq_chain_latex(rho_subs, rho_eval), 'm')\n",
    "hl.write_latex_equation(rho_B, 12, 'rho_B', 11)\n",
    "display(Latex(rho_B))"
   ]
  },
  {
   "cell_type": "code",
   "execution_count": 7,
   "id": "79ba45e5-5c5b-4f34-9606-96c1fb03262b",
   "metadata": {
    "cellView": "form",
    "id": "xXLn3baeKwO7",
    "slideshow": {
     "slide_type": "skip"
    }
   },
   "outputs": [],
   "source": [
    "%%capture\n",
    "# @title\n",
    "\n",
    "a_n_s_1 = hl.raw_subs(a_n_v, {sp.S('v'): v}, rationalize=False)\n",
    "display(a_n_v)\n",
    "display(a_n_s_1)\n",
    "\n",
    "a_n_s = hl.eq_chain_latex(a_n_v, a_n_s_1.rhs)\n",
    "\n",
    "\n",
    "hl.write_latex_equation(a_n_s, 13, 'a_n(s)', 12)\n",
    "hl.dLatex(a_n_s)\n",
    "\n",
    "a_n_B_sus = hl.raw_subs(a_n_s_1, {s: 51.5, rho: rho_eval}, rationalize=False)\n",
    "display(a_n_B_sus)\n",
    "a_n_B_eval = sp.N(a_n_B_sus.rhs.doit(), 2)\n",
    "display(a_n_B_eval)\n",
    "a_n_B = hl.add_unit_latex(hl.eq_chain_latex(a_n_B_sus, a_n_B_eval), 'm/s^2')\n",
    "hl.write_latex_equation(a_n_B, 14, 'a_n_B', 13)\n",
    "hl.dLatex(a_n_B)\n",
    "#"
   ]
  },
  {
   "cell_type": "code",
   "execution_count": 8,
   "id": "4b3ee00a-9776-4256-b3d6-331ec249328a",
   "metadata": {
    "cellView": "form",
    "id": "lUdxNVWmTBbV",
    "slideshow": {
     "slide_type": "skip"
    }
   },
   "outputs": [],
   "source": [
    "%%capture\n",
    "# @title\n",
    "\n",
    "a = sp.sqrt(sp.S('a_t')**2 + sp.S('a_n')**2)\n",
    "a_eq = sp.Eq(sp.S('a'), a)\n",
    "\n",
    "hl.write_latex_equation(sp.latex(a_eq), 15, 'a', 14)\n",
    "display(a_eq)\n",
    "\n",
    "a_sub = hl.raw_subs(a_eq,{sp.S('a'): sp.Symbol('a_B'), sp.S('a_t'): a_t_B_eval,\n",
    "                          sp.S('a_n'): a_n_B_eval}, rationalize= False)\n",
    "display(a_sub)\n",
    "\n",
    "a_eval = sp.N(a_sub.rhs.doit(), 3)\n",
    "display(a_eval)\n",
    "\n",
    "a_B = hl.add_unit_latex(hl.eq_chain_latex(a_sub, a_eval), 'm/s^2')\n",
    "hl.write_latex_equation(a_B, 16, 'a_B', 15)\n",
    "hl.dLatex(a_B)"
   ]
  },
  {
   "cell_type": "code",
   "execution_count": 9,
   "id": "b41f4d15-2f19-47ec-b622-30b94fb2816a",
   "metadata": {
    "cellView": "form",
    "id": "OwpAJpaWgOfP",
    "slideshow": {
     "slide_type": "skip"
    }
   },
   "outputs": [],
   "source": [
    "%%capture\n",
    "# @title Relaciones Matemáticas\n",
    "\n",
    "dy = sp.Function(\"y'\")(x)\n",
    "t = sp.Symbol(\"t\", real=True)\n",
    "\n",
    "y_lamb = hl.Lamb(y, x)\n",
    "dy_lamb = hl.Lamb(sp.diff(y, x), x)\n",
    "dy2_lamb = hl.Lamb(sp.diff(y, x, 2), x)\n",
    "hl.d_Eq('y(x)',y)\n",
    "\n",
    "\n",
    "t_s = sp.integrate(1/v, (s, 0, sp.Symbol('s(t)'))).subs(sp.Symbol('s(t)'), s)\n",
    "hl.d_Eq('t(s)',t_s)\n",
    "\n",
    "s_t = sp.Eq(sp.S('s'), *sp.solve(sp.Eq(t, t_s), s))\n",
    "s_t_lamb = hl.Lamb(s_t.rhs, t)\n",
    "hl.d_Eq('s(t)', s_t.rhs)\n",
    "\n",
    "v_t = sp.diff(s_t.rhs, t)\n",
    "v_t_lamb = hl.Lamb(v_t, t)\n",
    "hl.d_Eq('v(t)', v_t)\n",
    "\n",
    "a_t_t = sp.diff(v_t, t)\n",
    "hl.d_Eq('a_{t}(t)', a_t_t)\n",
    "a_t_t_lamb = hl.Lamb(a_t_t, t)\n",
    "\n",
    "a_n_t = v_t**2/rho_x.rhs\n",
    "hl.d_Eq('a_{n}(t,x)', a_n_t)\n",
    "hl.d_Eq('rho(x)', rho_x.rhs)\n",
    "rho_x_lamb = hl.Lamb(rho_x.rhs, x)\n",
    "\n",
    "s_x = sp.integrate(sp.sqrt(1 + sp.diff(y,x)**2), (x, sp.S('x_t'), 100)).subs(sp.S('x_t'), x)\n",
    "hl.d_Eq('s(x)', s_x)\n",
    "\n",
    "\n",
    "# Solución numérica para x(s)\n",
    "s_x_lamb = sp.lambdify(x, s_x, \"numpy\")\n",
    "\n",
    "x_s = lambda s: hl.invert_numeric(s_x_lamb, s, -150, 200)"
   ]
  },
  {
   "cell_type": "code",
   "execution_count": 10,
   "id": "de920dbc-5b66-4f81-a34b-1c3b97ab725c",
   "metadata": {
    "cellView": "form",
    "id": "xH6IMtEEmUPw",
    "slideshow": {
     "slide_type": "skip"
    }
   },
   "outputs": [],
   "source": [
    "# @title Funciones de Python a partir de las Relaciones Matemáticas\n",
    "def x_t(t):\n",
    "  return x_s(s_t_lamb(t))\n",
    "\n",
    "def dy_t(t):\n",
    "  return dy_lamb(x_t(t))\n",
    "\n",
    "def dy2_t(t):\n",
    "  return dy2_lamb(x_t(t))\n",
    "\n",
    "def conc(t):\n",
    "  return np.sign(dy2_t(t))\n",
    "\n",
    "def sign_dxdt(t, eps_t = 0.01):\n",
    "  t1 = t\n",
    "  t2 = t + eps_t\n",
    "  return np.sign(x_t(t2) - x_t(t1))\n",
    "\n",
    "def rho_t(t):\n",
    "  return rho_x_lamb(x_t(t))\n",
    "\n",
    "\n",
    "\n",
    "def u_t_t(t):\n",
    "  dy = dy_t(t)\n",
    "  return sign_dxdt(t)*(1/np.sqrt(1+(dy**2)))*np.array([1, dy])\n",
    "\n",
    "def u_n_t(t):\n",
    "  ut = u_t_t(t)\n",
    "  return (sign_dxdt(t)*conc(t))*np.array([-ut[1], ut[0]])\n",
    "\n",
    "\n",
    "\n",
    "def v_t(t):\n",
    "  return v_t_lamb(t)\n",
    "\n",
    "def a_t_t(t):\n",
    "  return a_t_t_lamb(t)\n",
    "\n",
    "def a_n_t(t):\n",
    "  return v_t(t)**2/rho_t(t)\n",
    "\n",
    "\n",
    "def rvec_t(t):\n",
    "  xt = x_t(t)\n",
    "  yt = y_lamb(xt)\n",
    "  return np.array([xt, yt])\n",
    "\n",
    "def vvec_t(t):\n",
    "  return v_t(t)*u_t_t(t)\n",
    "\n",
    "def avec_t(t):\n",
    "  return a_t_t(t)*u_t_t(t) + a_n_t(t)*u_n_t(t)\n",
    "\n",
    "def at_vec_t(t):\n",
    "  return a_t_t(t)*u_t_t(t)\n",
    "\n",
    "def an_vec_t(t):\n",
    "  return a_n_t(t)*u_n_t(t)"
   ]
  },
  {
   "cell_type": "code",
   "execution_count": 11,
   "id": "c6e43851-eaca-497e-8f2e-b1a7b825702d",
   "metadata": {
    "id": "z_Q5vFklK7vS",
    "slideshow": {
     "slide_type": "skip"
    }
   },
   "outputs": [],
   "source": [
    "# @title Elegir tema para gráficas\n",
    "\n",
    "''' Elegir entre:\n",
    "tema = 'blanco'\n",
    "tema = 'cobalto'\n",
    "'''\n",
    "\n",
    "tema = 'cobalto'"
   ]
  },
  {
   "cell_type": "code",
   "execution_count": 12,
   "id": "778c9735-b267-47ab-a5f8-d91cc16802cd",
   "metadata": {
    "cellView": "form",
    "id": "JCM63-Hk9ATh",
    "slideshow": {
     "slide_type": "skip"
    }
   },
   "outputs": [],
   "source": [
    "%%capture\n",
    "# @title Tema para gráficas\n",
    "\n",
    "from matplotlib import rcParams\n",
    "from cycler import cycler\n",
    "\n",
    "if tema == 'blanco':\n",
    "  edge_color = '#999999'\n",
    "  text_color = '#000000'\n",
    "  figure_color = '#ffffff'\n",
    "  axes_color = '#ffffff'\n",
    "\n",
    "\n",
    "  color_palette=[\n",
    "      '#1a921c',\n",
    "      '#321A91',\n",
    "      '#914F1A',\n",
    "      '#235224',\n",
    "      '#4F4282',\n",
    "      '#FFB980',\n",
    "      ]\n",
    "elif tema == 'cobalto':\n",
    "  edge_color = '#B5C9D7'\n",
    "  text_color = '#ffffff'\n",
    "  figure_color = '#1c3c53'\n",
    "  axes_color = '#1E4159'\n",
    "\n",
    "\n",
    "  color_palette=[\n",
    "      '#57B9FF',\n",
    "      '#FF5A57',\n",
    "      '#FFFF57',\n",
    "      '#1FA2FF',\n",
    "      '#AB1715',\n",
    "      '#ABAB15',\n",
    "      '#719FBF',\n",
    "      '#AA7372',\n",
    "      '#AAAA72',\n",
    "      '#6B7780',\n",
    "      '#554443',\n",
    "      '#555543',\n",
    "      ]\n",
    "else: raise ValueError('Tema no reconocido')\n",
    "\n",
    "\n",
    "\n",
    "rcParams['axes.prop_cycle']=cycler(color=color_palette)\n",
    "rcParams['axes.edgecolor']= edge_color\n",
    "rcParams['axes.labelcolor']= text_color\n",
    "rcParams['axes.labelweight'] = 'bold'\n",
    "rcParams['xtick.color']= edge_color\n",
    "rcParams['xtick.labelcolor']= text_color\n",
    "rcParams['ytick.color']= edge_color\n",
    "rcParams['ytick.labelcolor']= text_color\n",
    "rcParams['text.color']= text_color\n",
    "rcParams['figure.edgecolor']= edge_color\n",
    "rcParams['grid.color']= edge_color\n",
    "rcParams['grid.linestyle']=':'\n",
    "rcParams['legend.frameon']= False\n",
    "rcParams['legend.handlelength']= 1.\n",
    "rcParams['legend.handleheight']= 3.\n",
    "\n",
    "rcParams['axes.facecolor']= axes_color\n",
    "rcParams['figure.facecolor']= figure_color\n",
    "\n",
    "rcParams['text.usetex'] = True\n",
    "rcParams['text.latex.preamble'] = r'\\usepackage{amsmath}'\n",
    "rcParams['font.family'] = 'monospace'\n",
    "# rcParams['font.monospace'] = ['Courier New']  # monospace font\n",
    "rcParams['font.monospace'] = ['qcr']\n",
    "\n",
    "rcParams['font.size']= 20\n",
    "rcParams['axes.titlesize']= 20\n",
    "rcParams['axes.labelsize']= 20\n",
    "rcParams['xtick.labelsize']= 18\n",
    "rcParams['ytick.labelsize']= 18\n",
    "rcParams['legend.fontsize']= 18\n",
    "rcParams['figure.titlesize']= 20\n"
   ]
  },
  {
   "cell_type": "code",
   "execution_count": 13,
   "id": "d71cfd77-7772-4987-8ee6-7a54da7fe25c",
   "metadata": {
    "cellView": "form",
    "id": "XO35jNs5gbep",
    "slideshow": {
     "slide_type": "skip"
    }
   },
   "outputs": [],
   "source": [
    "%%capture\n",
    "# @title Parámetros de gráfica\n",
    "\n",
    "ax_bound = [-60, 150, -50, 60]\n",
    "ax_ratio = 1 # graphic ratio of y to x units\n",
    "ax_zoom_bound = [0.5, 0.1, .4, .4]\n",
    "scale_zoom = 3\n",
    "scale_v = 4\n",
    "scale_a = 15\n",
    "zoom_scale_v = 1\n",
    "zoom_scale_a = 4\n",
    "\n",
    "# Crear gráfica\n",
    "fig, ax = plt.subplots(1, 1, figsize=(12, 12), dpi = 100)\n",
    "\n",
    "ax.set_aspect(\"equal\", adjustable='datalim')\n",
    "\n",
    "ax.set_xlabel(r'$x\\, \\mathrm{[\\,m\\,]}$')\n",
    "ax.set_ylabel(r'$y\\, \\mathrm{[\\,m\\,]}$')\n",
    "ax.axhline(y = 0, color = plt.rcParams['grid.color'], linestyle = '-', lw = 1.5)\n",
    "ax.axvline(x = 0, color = plt.rcParams['grid.color'], linestyle = '-', lw = 1.5)\n",
    "\n",
    "\n",
    "ax.set_aspect(ax_ratio, adjustable='box')\n",
    "ax.axis(ax_bound)\n",
    "ax.grid(True)\n",
    "\n",
    "legend_params = dict(loc = 'lower left', bbox_to_anchor = (.0, 1.0, 1.0, 0.1), ncol = 5)"
   ]
  },
  {
   "cell_type": "code",
   "execution_count": 14,
   "id": "e61e32bb-6668-408f-a788-c8dc637a2b0d",
   "metadata": {
    "cellView": "form",
    "id": "D11LCfQLGPZH",
    "slideshow": {
     "slide_type": "skip"
    }
   },
   "outputs": [],
   "source": [
    "%%capture\n",
    "# @title Gráficas Interactivas\n",
    "\n",
    "t0 = 5\n",
    "\n",
    "t_range = np.arange(-2, 8, 0.01)\n",
    "\n",
    "s_range = s_t_lamb(t_range)\n",
    "\n",
    "x_range = np.array(list(s_range))\n",
    "y_range = y_lamb(x_range)\n",
    "\n",
    "\n",
    "\n",
    "\n",
    "ax.plot(x_range,y_range, 'C0',lw = 2)\n",
    "\n",
    "\n",
    "\n",
    "\n",
    "r_0 = rvec_t(t0)\n",
    "r_label = r'$\\displaystyle \\boldsymbol{{\\vec{{r}}}} = \\left[\\begin{{array}} {{c}} {:.2f} \\, \\mathrm{{m}} \\\\ {:.2f} \\, \\mathrm{{m}} \\end{{array}}\\right] = {:.2f} \\, \\mathrm{{m}}$'.format(*r_0, np.linalg.norm(r_0))\n",
    "r = hl.FancyVector2D(ax, 0, 0, *r_0, color='C1', label=r_label)\n",
    "\n",
    "\n",
    "\n",
    "v_0 = vvec_t(t0)\n",
    "\n",
    "v_label = r'$\\displaystyle \\boldsymbol{{\\vec{{v}}}} = \\left[\\begin{{array}} {{c}} {:.2f} \\, \\mathrm{{m/s}} \\\\ {:.2f} \\, \\mathrm{{m/s}} \\end{{array}}\\right] = {:.2f} \\, \\mathrm{{m/s}}$'.format(*v_0, np.linalg.norm(v_0))\n",
    "v = hl.FancyVector2D(ax, x1 = v_0[0]*scale_v, y1 = v_0[1]*scale_v, color='C2', previous = r, label=v_label)\n",
    "\n",
    "\n",
    "\n",
    "\n",
    "a_0 = avec_t(t0)\n",
    "at_0 = at_vec_t(t0)\n",
    "an_0 = an_vec_t(t0)\n",
    "\n",
    "\n",
    "a_label = r'$\\displaystyle ||\\boldsymbol{{\\vec{{a}}}}|| = {:.2f} \\, \\mathrm{{m/s^2}} $'.format(np.linalg.norm(a_0))\n",
    "a_t_label = r'$\\displaystyle \\boldsymbol{{a_t}} = {:.2f} \\, \\mathrm{{m/s^2}} $'.format(np.linalg.norm(at_0))\n",
    "a_n_label = r'$\\displaystyle \\boldsymbol{{a_n}} = {:.2f} \\, \\mathrm{{m/s^2}} $'.format(np.linalg.norm(an_0))\n",
    "\n",
    "\n",
    "a_t = hl.FancyVector2D(ax, x1 = at_0[0]*scale_a, y1 = at_0[1]*scale_a, color='C4', linewidth = 1.5, head_length = 15, head_width = 10, head_tail = 3, previous = r, label= a_t_label)\n",
    "a_n = hl.FancyVector2D(ax, x1 = an_0[0]*scale_a, y1 = an_0[1]*scale_a, color='C5', linewidth = 1.5, head_length = 15, head_width = 10, head_tail = 3, previous = a_t, label = a_n_label)\n",
    "a = hl.FancyVector2D(ax, x1 = a_0[0]*scale_a, y1 = a_0[1]*scale_a, color='C3', previous = r, label= a_label)\n",
    "\n",
    "\n",
    "\n",
    "leg = ax.legend(**legend_params)\n",
    "leg_handles, leg_labels = ax.get_legend_handles_labels()\n",
    "\n",
    "\n",
    "\n"
   ]
  },
  {
   "cell_type": "code",
   "execution_count": 15,
   "id": "2fc9d92d-ac49-4f01-bdac-de8f6ceb8324",
   "metadata": {
    "cellView": "form",
    "executionInfo": {
     "elapsed": 20,
     "status": "ok",
     "timestamp": 1759866822469,
     "user": {
      "displayName": "José Roberto Zavala",
      "userId": "08088277659897740611"
     },
     "user_tz": 360
    },
    "id": "3Dr7-hsmjxmE",
    "outputId": "5a3a91c2-d07a-4ca7-aaa0-1fcc29a0af08",
    "slideshow": {
     "slide_type": "skip"
    }
   },
   "outputs": [],
   "source": [
    "%%capture\n",
    "# @title\n",
    "\n",
    "def update_Vectors(r, v, a, a_t, a_n):\n",
    "  def update(t = t0):\n",
    "    rt = rvec_t(t)\n",
    "    vt = vvec_t(t)\n",
    "    at = avec_t(t)\n",
    "    at_t = at_vec_t(t)\n",
    "    at_n = an_vec_t(t)\n",
    "\n",
    "\n",
    "    r.set_end(*rt)\n",
    "\n",
    "    v.set_XY(*vt*scale_v)\n",
    "    a.set_XY(*at*scale_a)\n",
    "    a_t.set_XY(*at_t*scale_a)\n",
    "    a_n.set_XY(*at_n*scale_a)\n",
    "\n",
    "    r_label = r'$\\displaystyle \\boldsymbol{{\\vec{{r}}}} = \\left[\\begin{{array}} {{c}} {:.2f} \\, \\mathrm{{m}} \\\\ {:.2f} \\, \\mathrm{{m}} \\end{{array}}\\right] = {:.2f} \\, \\mathrm{{m}}$'.format(*rt, np.linalg.norm(rt))\n",
    "    v_label = r'$\\displaystyle \\boldsymbol{{\\vec{{v}}}} = \\left[\\begin{{array}} {{c}} {:.2f} \\, \\mathrm{{m/s}} \\\\ {:.2f} \\, \\mathrm{{m/s}} \\end{{array}}\\right] = {:.2f} \\, \\mathrm{{m/s}}$'.format(*vt, np.linalg.norm(vt))\n",
    "    a_t_label = r'$\\displaystyle \\boldsymbol{{a_t}} = {:.2f} \\, \\mathrm{{m/s^2}} $'.format(np.linalg.norm(at_t))\n",
    "    a_n_label = r'$\\displaystyle \\boldsymbol{{a_n}} = {:.2f} \\, \\mathrm{{m/s^2}} $'.format(np.linalg.norm(at_n))\n",
    "    a_label = r'$\\displaystyle ||\\boldsymbol{{\\vec{{a}}}}|| = {:.2f} \\, \\mathrm{{m/s^2}} $'.format(np.linalg.norm(at))\n",
    "\n",
    "    labels = [\n",
    "      r_label,\n",
    "      v_label,\n",
    "      a_t_label,\n",
    "      a_n_label,\n",
    "      a_label,\n",
    "    ]\n",
    "\n",
    "    vectors = [\n",
    "      r,\n",
    "      v,\n",
    "      a_t,\n",
    "      a_n,\n",
    "      a\n",
    "    ]\n",
    "\n",
    "    visible_labels = [l for l, vec in zip(labels, vectors) if vec.main]\n",
    "\n",
    "    # La leyenda inicial tiene demasiados elementos, entonces hay que limitar\n",
    "    # el número de textos en el primer enumerate\n",
    "    N = len(visible_labels)\n",
    "\n",
    "\n",
    "    for i, text in enumerate([*ax.get_legend().get_texts()[0:N]]):\n",
    "      text.set_text(visible_labels[i])\n",
    "\n",
    "    # Dibujar\n",
    "    clear_output(wait = True)\n",
    "    display(fig)\n",
    "  return update\n",
    "\n",
    "def update_Visibility(r, v, a, a_t, a_n, out, slider):\n",
    "  def update_V(visible):\n",
    "\n",
    "    visible_legends = [\n",
    "        visible == 'r(t)',\n",
    "        visible == 'v(t)',\n",
    "        visible == 'a(t)',\n",
    "        visible == 'a(t)',\n",
    "        visible == 'a(t)',\n",
    "    ]\n",
    "\n",
    "    if visible == 'r(t)':\n",
    "      # Set Colors\n",
    "      r.set_color('C1')\n",
    "\n",
    "      # Set Visibles\n",
    "      r.set_visible(True)\n",
    "      v.set_visible(False)\n",
    "      a_t.set_visible(False)\n",
    "      a_n.set_visible(False)\n",
    "      a.set_visible(False)\n",
    "\n",
    "      # Set Mains\n",
    "      r.set_main(True)\n",
    "      v.set_main(False)\n",
    "      a_t.set_main(False)\n",
    "      a_n.set_main(False)\n",
    "      a.set_main(False)\n",
    "    elif visible == 'v(t)':\n",
    "      # Set Colors\n",
    "      r.set_color(hl.toward_gray('C1', 0.5, ax.get_facecolor()))\n",
    "      v.set_color('C2')\n",
    "\n",
    "      # Set Visibles\n",
    "      r.set_visible(True)\n",
    "      v.set_visible(True)\n",
    "      a_t.set_visible(False)\n",
    "      a_n.set_visible(False)\n",
    "      a.set_visible(False)\n",
    "\n",
    "      # Set Mains\n",
    "      r.set_main(False)\n",
    "      v.set_main(True)\n",
    "      a_t.set_main(False)\n",
    "      a_n.set_main(False)\n",
    "      a.set_main(False)\n",
    "    else:\n",
    "      # Set Colors\n",
    "      r.set_color(hl.toward_gray('C1', 0.75, ax.get_facecolor()))\n",
    "      v.set_color(hl.toward_gray('C2', 0.7, ax.get_facecolor()))\n",
    "\n",
    "      # Set Visibles\n",
    "      r.set_visible(True)\n",
    "      v.set_visible(True)\n",
    "      a_t.set_visible(True)\n",
    "      a_n.set_visible(True)\n",
    "      a.set_visible(True)\n",
    "\n",
    "      # Set Mains\n",
    "      r.set_main(False)\n",
    "      v.set_main(False)\n",
    "      a_t.set_main(True)\n",
    "      a_n.set_main(True)\n",
    "      a.set_main(True)\n",
    "\n",
    "\n",
    "    handles, labels = ax.get_legend_handles_labels()\n",
    "    handles_vis = [h for h, vis in zip(handles, visible_legends) if vis]\n",
    "    labels_vis = [l for l, vis in zip(labels, visible_legends) if vis]\n",
    "    ax.legend(handles_vis, labels_vis, **legend_params)\n",
    "\n",
    "    with out:\n",
    "      out.clear_output(wait = True)\n",
    "      update_Vectors(r, v, a, a_t, a_n)(slider.value)\n",
    "\n",
    "  return update_V"
   ]
  },
  {
   "cell_type": "code",
   "execution_count": 16,
   "id": "3fc74a8b-e403-4d62-aa3e-b28c353a86b1",
   "metadata": {
    "cellView": "form",
    "executionInfo": {
     "elapsed": 559,
     "status": "ok",
     "timestamp": 1759866823042,
     "user": {
      "displayName": "José Roberto Zavala",
      "userId": "08088277659897740611"
     },
     "user_tz": 360
    },
    "id": "xePipSvdSDq3",
    "outputId": "586852bd-1442-408d-b086-e30d38393bf7",
    "slideshow": {
     "slide_type": "skip"
    }
   },
   "outputs": [],
   "source": [
    "# @title\n",
    "# %%capture\n",
    "\n",
    "t_slider = widgets.FloatSlider(value= 0, min= -0.6, max= 8, step=0.1,\n",
    "                               description='t',\n",
    "                               layout=widgets.Layout(width='1350px'),\n",
    "                               )\n",
    "update_Lines = update_Vectors(r, v, a, a_t, a_n)\n",
    "# t_slider.observe(lambda change: update_Lines(change['new']), names='value')\n",
    "\n",
    "\n",
    "visible_rb = widgets.RadioButtons(\n",
    "  options=['r(t)', 'v(t)', 'a(t)'],\n",
    "  description='Mostrar',\n",
    "  rows=3,\n",
    "  value = 'r(t)',\n",
    ")\n",
    "\n",
    "\n",
    "ui = widgets.VBox([t_slider, visible_rb])\n",
    "out = widgets.interactive_output(update_Vectors(r, v, a, a_t, a_n), dict(t = t_slider))\n",
    "\n",
    "update_Visible = update_Visibility(r, v, a, a_t, a_n, out, t_slider)\n",
    "visible_rb.observe(lambda change: update_Visible(change['new']), names='value')\n",
    "\n",
    "with out:\n",
    "      out.clear_output(wait = True)\n",
    "      update_Visible('r(t)')\n"
   ]
  },
  {
   "cell_type": "code",
   "execution_count": 17,
   "id": "4d003704-2350-473e-9515-f89b67793c14",
   "metadata": {
    "@deathbeds/jupyterlab-fonts": {
     "styles": {
      "": {
       "body[data-jp-deck-mode='presenting'] &": {
        "height": null,
        "left": null,
        "position": null,
        "top": null,
        "width": null
       }
      }
     }
    },
    "editable": true,
    "id": "suXRDXARiuBu",
    "slideshow": {
     "slide_type": "slide"
    },
    "tags": []
   },
   "outputs": [
    {
     "data": {
      "application/vnd.jupyter.widget-view+json": {
       "model_id": "4c2f4fa7b29c483388cb6233c401c34b",
       "version_major": 2,
       "version_minor": 0
      },
      "text/plain": [
       "VBox(children=(FloatSlider(value=0.0, description='t', layout=Layout(width='1350px'), max=8.0, min=-0.6), Radi…"
      ]
     },
     "metadata": {},
     "output_type": "display_data"
    },
    {
     "data": {
      "application/vnd.jupyter.widget-view+json": {
       "model_id": "aa269b1cc3f24d369cbb1f01c50ac721",
       "version_major": 2,
       "version_minor": 0
      },
      "text/plain": [
       "Output()"
      ]
     },
     "metadata": {},
     "output_type": "display_data"
    }
   ],
   "source": [
    "display(ui, out)"
   ]
  },
  {
   "cell_type": "code",
   "execution_count": null,
   "id": "618870ff-0a24-4d66-b9a7-d358db8c9b9a",
   "metadata": {
    "@deathbeds/jupyterlab-fonts": {
     "styles": {
      "": {
       "body[data-jp-deck-mode='presenting'] &": {
        "height": null,
        "left": null,
        "position": null,
        "top": null,
        "width": null
       }
      }
     }
    },
    "editable": true,
    "slideshow": {
     "slide_type": ""
    },
    "tags": []
   },
   "outputs": [],
   "source": []
  }
 ],
 "metadata": {
  "kernelspec": {
   "display_name": "Python 3 (ipykernel)",
   "language": "python",
   "name": "python3"
  },
  "language_info": {
   "codemirror_mode": {
    "name": "ipython",
    "version": 3
   },
   "file_extension": ".py",
   "mimetype": "text/x-python",
   "name": "python",
   "nbconvert_exporter": "python",
   "pygments_lexer": "ipython3",
   "version": "3.9.18"
  }
 },
 "nbformat": 4,
 "nbformat_minor": 5
}
